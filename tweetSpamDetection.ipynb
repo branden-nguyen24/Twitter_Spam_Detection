{
 "cells": [
  {
   "cell_type": "code",
   "execution_count": 1,
   "metadata": {},
   "outputs": [],
   "source": [
    "import pandas as pd"
   ]
  },
  {
   "cell_type": "code",
   "execution_count": 3,
   "metadata": {},
   "outputs": [
    {
     "name": "stderr",
     "output_type": "stream",
     "text": [
      "/opt/anaconda3/lib/python3.7/site-packages/IPython/core/interactiveshell.py:2718: DtypeWarning: Columns (0,1) have mixed types. Specify dtype option on import or set low_memory=False.\n",
      "  interactivity=interactivity, compiler=compiler, result=result)\n"
     ]
    }
   ],
   "source": [
    "df = pd.read_csv(r'/Users/wiamboumaazi/Downloads/clean_tweet_dataset.csv')\n",
    "#df[['no_followers','no_followings', 'no_userfavorites','no_lists' , 'no_tweets','no_retweets','no_favorites', 'no_hashtags', 'no_usermentions','no_urls', 'label']]=df[['no_followers','no_followings', 'no_userfavorites','no_lists' , 'no_tweets','no_retweets','no_favorites', 'no_hashtags', 'no_usermentions','no_urls', 'label']].astype(int)"
   ]
  },
  {
   "cell_type": "code",
   "execution_count": 4,
   "metadata": {},
   "outputs": [],
   "source": [
    "df.dropna(inplace=True)"
   ]
  },
  {
   "cell_type": "code",
   "execution_count": 5,
   "metadata": {},
   "outputs": [],
   "source": [
    "df[['no_followers','no_followings', 'no_userfavorites','no_lists' , 'no_tweets','no_retweets','no_favorites', 'no_hashtags', 'no_usermentions','no_urls', 'label']]=df[['no_followers','no_followings', 'no_userfavorites','no_lists' , 'no_tweets','no_retweets','no_favorites', 'no_hashtags', 'no_usermentions','no_urls', 'label']].astype(int)"
   ]
  },
  {
   "cell_type": "code",
   "execution_count": 6,
   "metadata": {},
   "outputs": [
    {
     "data": {
      "text/html": [
       "<div>\n",
       "<style scoped>\n",
       "    .dataframe tbody tr th:only-of-type {\n",
       "        vertical-align: middle;\n",
       "    }\n",
       "\n",
       "    .dataframe tbody tr th {\n",
       "        vertical-align: top;\n",
       "    }\n",
       "\n",
       "    .dataframe thead th {\n",
       "        text-align: right;\n",
       "    }\n",
       "</style>\n",
       "<table border=\"1\" class=\"dataframe\">\n",
       "  <thead>\n",
       "    <tr style=\"text-align: right;\">\n",
       "      <th></th>\n",
       "      <th>tweet</th>\n",
       "      <th>tweet_clean</th>\n",
       "      <th>no_followers</th>\n",
       "      <th>no_followings</th>\n",
       "      <th>no_userfavorites</th>\n",
       "      <th>no_lists</th>\n",
       "      <th>no_tweets</th>\n",
       "      <th>no_retweets</th>\n",
       "      <th>no_favorites</th>\n",
       "      <th>no_hashtags</th>\n",
       "      <th>no_usermentions</th>\n",
       "      <th>no_urls</th>\n",
       "      <th>label</th>\n",
       "    </tr>\n",
       "  </thead>\n",
       "  <tbody>\n",
       "    <tr>\n",
       "      <th>0</th>\n",
       "      <td>That just seriously ruined my night..</td>\n",
       "      <td>seriously ruined night</td>\n",
       "      <td>163</td>\n",
       "      <td>139</td>\n",
       "      <td>1560</td>\n",
       "      <td>1</td>\n",
       "      <td>25985</td>\n",
       "      <td>0</td>\n",
       "      <td>0</td>\n",
       "      <td>0</td>\n",
       "      <td>0</td>\n",
       "      <td>0</td>\n",
       "      <td>0</td>\n",
       "    </tr>\n",
       "    <tr>\n",
       "      <th>1</th>\n",
       "      <td>@JessleaC I no they are so funny ..! I love yo...</td>\n",
       "      <td>jessleac funny love pictures take really good ...</td>\n",
       "      <td>113</td>\n",
       "      <td>197</td>\n",
       "      <td>1072</td>\n",
       "      <td>1</td>\n",
       "      <td>2142</td>\n",
       "      <td>0</td>\n",
       "      <td>0</td>\n",
       "      <td>0</td>\n",
       "      <td>1</td>\n",
       "      <td>0</td>\n",
       "      <td>0</td>\n",
       "    </tr>\n",
       "    <tr>\n",
       "      <th>2</th>\n",
       "      <td>@honkwas might drive so we could go subway or ...</td>\n",
       "      <td>honkwas might drive could go subway mcdonalds ...</td>\n",
       "      <td>168</td>\n",
       "      <td>382</td>\n",
       "      <td>1732</td>\n",
       "      <td>1</td>\n",
       "      <td>3493</td>\n",
       "      <td>0</td>\n",
       "      <td>0</td>\n",
       "      <td>0</td>\n",
       "      <td>1</td>\n",
       "      <td>0</td>\n",
       "      <td>0</td>\n",
       "    </tr>\n",
       "    <tr>\n",
       "      <th>3</th>\n",
       "      <td>That @brad_frost post is bourne out by my expe...</td>\n",
       "      <td>bradfrost post bourne experience current proje...</td>\n",
       "      <td>285</td>\n",
       "      <td>596</td>\n",
       "      <td>5765</td>\n",
       "      <td>45</td>\n",
       "      <td>8670</td>\n",
       "      <td>0</td>\n",
       "      <td>0</td>\n",
       "      <td>0</td>\n",
       "      <td>1</td>\n",
       "      <td>0</td>\n",
       "      <td>0</td>\n",
       "    </tr>\n",
       "    <tr>\n",
       "      <th>4</th>\n",
       "      <td>why tf do i keep waking up every 2 hours -.-</td>\n",
       "      <td>tf keep waking every  hours</td>\n",
       "      <td>631</td>\n",
       "      <td>353</td>\n",
       "      <td>1589</td>\n",
       "      <td>2</td>\n",
       "      <td>12285</td>\n",
       "      <td>0</td>\n",
       "      <td>0</td>\n",
       "      <td>0</td>\n",
       "      <td>0</td>\n",
       "      <td>0</td>\n",
       "      <td>0</td>\n",
       "    </tr>\n",
       "  </tbody>\n",
       "</table>\n",
       "</div>"
      ],
      "text/plain": [
       "                                               tweet  \\\n",
       "0              That just seriously ruined my night..   \n",
       "1  @JessleaC I no they are so funny ..! I love yo...   \n",
       "2  @honkwas might drive so we could go subway or ...   \n",
       "3  That @brad_frost post is bourne out by my expe...   \n",
       "4       why tf do i keep waking up every 2 hours -.-   \n",
       "\n",
       "                                         tweet_clean  no_followers  \\\n",
       "0                             seriously ruined night           163   \n",
       "1  jessleac funny love pictures take really good ...           113   \n",
       "2  honkwas might drive could go subway mcdonalds ...           168   \n",
       "3  bradfrost post bourne experience current proje...           285   \n",
       "4                        tf keep waking every  hours           631   \n",
       "\n",
       "   no_followings  no_userfavorites  no_lists  no_tweets  no_retweets  \\\n",
       "0            139              1560         1      25985            0   \n",
       "1            197              1072         1       2142            0   \n",
       "2            382              1732         1       3493            0   \n",
       "3            596              5765        45       8670            0   \n",
       "4            353              1589         2      12285            0   \n",
       "\n",
       "   no_favorites  no_hashtags  no_usermentions  no_urls  label  \n",
       "0             0            0                0        0      0  \n",
       "1             0            0                1        0      0  \n",
       "2             0            0                1        0      0  \n",
       "3             0            0                1        0      0  \n",
       "4             0            0                0        0      0  "
      ]
     },
     "execution_count": 6,
     "metadata": {},
     "output_type": "execute_result"
    }
   ],
   "source": [
    "df.head()"
   ]
  },
  {
   "cell_type": "code",
   "execution_count": 7,
   "metadata": {},
   "outputs": [
    {
     "data": {
      "text/plain": [
       "0    0\n",
       "1    0\n",
       "2    0\n",
       "3    0\n",
       "4    0\n",
       "Name: label, dtype: int64"
      ]
     },
     "execution_count": 7,
     "metadata": {},
     "output_type": "execute_result"
    }
   ],
   "source": [
    "#get the labels\n",
    "y=df['label']\n",
    "y.head()"
   ]
  },
  {
   "cell_type": "code",
   "execution_count": 8,
   "metadata": {},
   "outputs": [
    {
     "data": {
      "text/html": [
       "<div>\n",
       "<style scoped>\n",
       "    .dataframe tbody tr th:only-of-type {\n",
       "        vertical-align: middle;\n",
       "    }\n",
       "\n",
       "    .dataframe tbody tr th {\n",
       "        vertical-align: top;\n",
       "    }\n",
       "\n",
       "    .dataframe thead th {\n",
       "        text-align: right;\n",
       "    }\n",
       "</style>\n",
       "<table border=\"1\" class=\"dataframe\">\n",
       "  <thead>\n",
       "    <tr style=\"text-align: right;\">\n",
       "      <th></th>\n",
       "      <th>tweet</th>\n",
       "      <th>tweet_clean</th>\n",
       "      <th>no_followers</th>\n",
       "      <th>no_followings</th>\n",
       "      <th>no_userfavorites</th>\n",
       "      <th>no_lists</th>\n",
       "      <th>no_tweets</th>\n",
       "      <th>no_retweets</th>\n",
       "      <th>no_favorites</th>\n",
       "      <th>no_hashtags</th>\n",
       "      <th>no_usermentions</th>\n",
       "      <th>no_urls</th>\n",
       "    </tr>\n",
       "  </thead>\n",
       "  <tbody>\n",
       "    <tr>\n",
       "      <th>0</th>\n",
       "      <td>That just seriously ruined my night..</td>\n",
       "      <td>seriously ruined night</td>\n",
       "      <td>163</td>\n",
       "      <td>139</td>\n",
       "      <td>1560</td>\n",
       "      <td>1</td>\n",
       "      <td>25985</td>\n",
       "      <td>0</td>\n",
       "      <td>0</td>\n",
       "      <td>0</td>\n",
       "      <td>0</td>\n",
       "      <td>0</td>\n",
       "    </tr>\n",
       "    <tr>\n",
       "      <th>1</th>\n",
       "      <td>@JessleaC I no they are so funny ..! I love yo...</td>\n",
       "      <td>jessleac funny love pictures take really good ...</td>\n",
       "      <td>113</td>\n",
       "      <td>197</td>\n",
       "      <td>1072</td>\n",
       "      <td>1</td>\n",
       "      <td>2142</td>\n",
       "      <td>0</td>\n",
       "      <td>0</td>\n",
       "      <td>0</td>\n",
       "      <td>1</td>\n",
       "      <td>0</td>\n",
       "    </tr>\n",
       "    <tr>\n",
       "      <th>2</th>\n",
       "      <td>@honkwas might drive so we could go subway or ...</td>\n",
       "      <td>honkwas might drive could go subway mcdonalds ...</td>\n",
       "      <td>168</td>\n",
       "      <td>382</td>\n",
       "      <td>1732</td>\n",
       "      <td>1</td>\n",
       "      <td>3493</td>\n",
       "      <td>0</td>\n",
       "      <td>0</td>\n",
       "      <td>0</td>\n",
       "      <td>1</td>\n",
       "      <td>0</td>\n",
       "    </tr>\n",
       "    <tr>\n",
       "      <th>3</th>\n",
       "      <td>That @brad_frost post is bourne out by my expe...</td>\n",
       "      <td>bradfrost post bourne experience current proje...</td>\n",
       "      <td>285</td>\n",
       "      <td>596</td>\n",
       "      <td>5765</td>\n",
       "      <td>45</td>\n",
       "      <td>8670</td>\n",
       "      <td>0</td>\n",
       "      <td>0</td>\n",
       "      <td>0</td>\n",
       "      <td>1</td>\n",
       "      <td>0</td>\n",
       "    </tr>\n",
       "    <tr>\n",
       "      <th>4</th>\n",
       "      <td>why tf do i keep waking up every 2 hours -.-</td>\n",
       "      <td>tf keep waking every  hours</td>\n",
       "      <td>631</td>\n",
       "      <td>353</td>\n",
       "      <td>1589</td>\n",
       "      <td>2</td>\n",
       "      <td>12285</td>\n",
       "      <td>0</td>\n",
       "      <td>0</td>\n",
       "      <td>0</td>\n",
       "      <td>0</td>\n",
       "      <td>0</td>\n",
       "    </tr>\n",
       "  </tbody>\n",
       "</table>\n",
       "</div>"
      ],
      "text/plain": [
       "                                               tweet  \\\n",
       "0              That just seriously ruined my night..   \n",
       "1  @JessleaC I no they are so funny ..! I love yo...   \n",
       "2  @honkwas might drive so we could go subway or ...   \n",
       "3  That @brad_frost post is bourne out by my expe...   \n",
       "4       why tf do i keep waking up every 2 hours -.-   \n",
       "\n",
       "                                         tweet_clean  no_followers  \\\n",
       "0                             seriously ruined night           163   \n",
       "1  jessleac funny love pictures take really good ...           113   \n",
       "2  honkwas might drive could go subway mcdonalds ...           168   \n",
       "3  bradfrost post bourne experience current proje...           285   \n",
       "4                        tf keep waking every  hours           631   \n",
       "\n",
       "   no_followings  no_userfavorites  no_lists  no_tweets  no_retweets  \\\n",
       "0            139              1560         1      25985            0   \n",
       "1            197              1072         1       2142            0   \n",
       "2            382              1732         1       3493            0   \n",
       "3            596              5765        45       8670            0   \n",
       "4            353              1589         2      12285            0   \n",
       "\n",
       "   no_favorites  no_hashtags  no_usermentions  no_urls  \n",
       "0             0            0                0        0  \n",
       "1             0            0                1        0  \n",
       "2             0            0                1        0  \n",
       "3             0            0                1        0  \n",
       "4             0            0                0        0  "
      ]
     },
     "execution_count": 8,
     "metadata": {},
     "output_type": "execute_result"
    }
   ],
   "source": [
    "#get all features without labels\n",
    "x=df.drop('label',axis=1)\n",
    "x.head()"
   ]
  },
  {
   "cell_type": "code",
   "execution_count": 9,
   "metadata": {},
   "outputs": [
    {
     "data": {
      "text/plain": [
       "'honkwas might drive could go subway mcdonalds want'"
      ]
     },
     "execution_count": 9,
     "metadata": {},
     "output_type": "execute_result"
    }
   ],
   "source": [
    "#create a list to hold the values of the clean tweets after preprocess\n",
    "text_tweets = []\n",
    "for value in df['tweet_clean'].values:\n",
    "    text_tweets.append(value)\n",
    "\n",
    "text_tweets[2]"
   ]
  },
  {
   "cell_type": "code",
   "execution_count": 10,
   "metadata": {},
   "outputs": [],
   "source": [
    "## Applying Countvectorizer\n",
    "# Creating the Bag of Words model\n",
    "from sklearn.feature_extraction.text import CountVectorizer\n",
    "#countVectorizer returns a set of phrases from the text \n",
    "#max_features: number of phrases to collect\n",
    "#ngram_range: number of words in each phrase\n",
    "cv = CountVectorizer(max_features=5000,ngram_range=(1,3))\n",
    "X = cv.fit_transform(text_tweets).toarray()"
   ]
  },
  {
   "cell_type": "code",
   "execution_count": 11,
   "metadata": {},
   "outputs": [
    {
     "data": {
      "text/plain": [
       "['abc',\n",
       " 'ability',\n",
       " 'able',\n",
       " 'absolute',\n",
       " 'absolutely',\n",
       " 'abt',\n",
       " 'abuse',\n",
       " 'ac',\n",
       " 'acc',\n",
       " 'accept']"
      ]
     },
     "execution_count": 11,
     "metadata": {},
     "output_type": "execute_result"
    }
   ],
   "source": [
    "cv.get_feature_names()[:10]"
   ]
  },
  {
   "cell_type": "code",
   "execution_count": 12,
   "metadata": {},
   "outputs": [],
   "source": [
    "## Divide the dataset into Train and Test\n",
    "from sklearn.model_selection import train_test_split\n",
    "X_train, X_test, y_train, y_test = train_test_split(X, y, test_size=0.3, random_state=7)"
   ]
  },
  {
   "cell_type": "code",
   "execution_count": 13,
   "metadata": {},
   "outputs": [
    {
     "data": {
      "text/html": [
       "<div>\n",
       "<style scoped>\n",
       "    .dataframe tbody tr th:only-of-type {\n",
       "        vertical-align: middle;\n",
       "    }\n",
       "\n",
       "    .dataframe tbody tr th {\n",
       "        vertical-align: top;\n",
       "    }\n",
       "\n",
       "    .dataframe thead th {\n",
       "        text-align: right;\n",
       "    }\n",
       "</style>\n",
       "<table border=\"1\" class=\"dataframe\">\n",
       "  <thead>\n",
       "    <tr style=\"text-align: right;\">\n",
       "      <th></th>\n",
       "      <th>abc</th>\n",
       "      <th>ability</th>\n",
       "      <th>able</th>\n",
       "      <th>absolute</th>\n",
       "      <th>absolutely</th>\n",
       "      <th>abt</th>\n",
       "      <th>abuse</th>\n",
       "      <th>ac</th>\n",
       "      <th>acc</th>\n",
       "      <th>accept</th>\n",
       "      <th>...</th>\n",
       "      <th>youve relentlessly go</th>\n",
       "      <th>yr</th>\n",
       "      <th>yrs</th>\n",
       "      <th>yu</th>\n",
       "      <th>yup</th>\n",
       "      <th>zayn</th>\n",
       "      <th>zaynmalik</th>\n",
       "      <th>zero</th>\n",
       "      <th>zodiacfacts</th>\n",
       "      <th>zone</th>\n",
       "    </tr>\n",
       "  </thead>\n",
       "  <tbody>\n",
       "    <tr>\n",
       "      <th>0</th>\n",
       "      <td>0</td>\n",
       "      <td>0</td>\n",
       "      <td>0</td>\n",
       "      <td>0</td>\n",
       "      <td>0</td>\n",
       "      <td>0</td>\n",
       "      <td>0</td>\n",
       "      <td>0</td>\n",
       "      <td>0</td>\n",
       "      <td>0</td>\n",
       "      <td>...</td>\n",
       "      <td>0</td>\n",
       "      <td>0</td>\n",
       "      <td>0</td>\n",
       "      <td>0</td>\n",
       "      <td>0</td>\n",
       "      <td>0</td>\n",
       "      <td>0</td>\n",
       "      <td>0</td>\n",
       "      <td>0</td>\n",
       "      <td>0</td>\n",
       "    </tr>\n",
       "    <tr>\n",
       "      <th>1</th>\n",
       "      <td>0</td>\n",
       "      <td>0</td>\n",
       "      <td>0</td>\n",
       "      <td>0</td>\n",
       "      <td>0</td>\n",
       "      <td>0</td>\n",
       "      <td>0</td>\n",
       "      <td>0</td>\n",
       "      <td>0</td>\n",
       "      <td>0</td>\n",
       "      <td>...</td>\n",
       "      <td>0</td>\n",
       "      <td>0</td>\n",
       "      <td>0</td>\n",
       "      <td>0</td>\n",
       "      <td>0</td>\n",
       "      <td>0</td>\n",
       "      <td>0</td>\n",
       "      <td>0</td>\n",
       "      <td>0</td>\n",
       "      <td>0</td>\n",
       "    </tr>\n",
       "    <tr>\n",
       "      <th>2</th>\n",
       "      <td>0</td>\n",
       "      <td>0</td>\n",
       "      <td>0</td>\n",
       "      <td>0</td>\n",
       "      <td>0</td>\n",
       "      <td>0</td>\n",
       "      <td>0</td>\n",
       "      <td>0</td>\n",
       "      <td>0</td>\n",
       "      <td>0</td>\n",
       "      <td>...</td>\n",
       "      <td>0</td>\n",
       "      <td>0</td>\n",
       "      <td>0</td>\n",
       "      <td>0</td>\n",
       "      <td>0</td>\n",
       "      <td>0</td>\n",
       "      <td>0</td>\n",
       "      <td>0</td>\n",
       "      <td>0</td>\n",
       "      <td>0</td>\n",
       "    </tr>\n",
       "    <tr>\n",
       "      <th>3</th>\n",
       "      <td>0</td>\n",
       "      <td>0</td>\n",
       "      <td>0</td>\n",
       "      <td>0</td>\n",
       "      <td>0</td>\n",
       "      <td>0</td>\n",
       "      <td>0</td>\n",
       "      <td>0</td>\n",
       "      <td>0</td>\n",
       "      <td>0</td>\n",
       "      <td>...</td>\n",
       "      <td>0</td>\n",
       "      <td>0</td>\n",
       "      <td>0</td>\n",
       "      <td>0</td>\n",
       "      <td>0</td>\n",
       "      <td>0</td>\n",
       "      <td>0</td>\n",
       "      <td>0</td>\n",
       "      <td>0</td>\n",
       "      <td>0</td>\n",
       "    </tr>\n",
       "    <tr>\n",
       "      <th>4</th>\n",
       "      <td>0</td>\n",
       "      <td>0</td>\n",
       "      <td>0</td>\n",
       "      <td>0</td>\n",
       "      <td>0</td>\n",
       "      <td>0</td>\n",
       "      <td>0</td>\n",
       "      <td>0</td>\n",
       "      <td>0</td>\n",
       "      <td>0</td>\n",
       "      <td>...</td>\n",
       "      <td>0</td>\n",
       "      <td>0</td>\n",
       "      <td>0</td>\n",
       "      <td>0</td>\n",
       "      <td>0</td>\n",
       "      <td>0</td>\n",
       "      <td>0</td>\n",
       "      <td>0</td>\n",
       "      <td>0</td>\n",
       "      <td>0</td>\n",
       "    </tr>\n",
       "  </tbody>\n",
       "</table>\n",
       "<p>5 rows × 5000 columns</p>\n",
       "</div>"
      ],
      "text/plain": [
       "   abc  ability  able  absolute  absolutely  abt  abuse  ac  acc  accept  ...  \\\n",
       "0    0        0     0         0           0    0      0   0    0       0  ...   \n",
       "1    0        0     0         0           0    0      0   0    0       0  ...   \n",
       "2    0        0     0         0           0    0      0   0    0       0  ...   \n",
       "3    0        0     0         0           0    0      0   0    0       0  ...   \n",
       "4    0        0     0         0           0    0      0   0    0       0  ...   \n",
       "\n",
       "   youve relentlessly go  yr  yrs  yu  yup  zayn  zaynmalik  zero  \\\n",
       "0                      0   0    0   0    0     0          0     0   \n",
       "1                      0   0    0   0    0     0          0     0   \n",
       "2                      0   0    0   0    0     0          0     0   \n",
       "3                      0   0    0   0    0     0          0     0   \n",
       "4                      0   0    0   0    0     0          0     0   \n",
       "\n",
       "   zodiacfacts  zone  \n",
       "0            0     0  \n",
       "1            0     0  \n",
       "2            0     0  \n",
       "3            0     0  \n",
       "4            0     0  \n",
       "\n",
       "[5 rows x 5000 columns]"
      ]
     },
     "execution_count": 13,
     "metadata": {},
     "output_type": "execute_result"
    }
   ],
   "source": [
    "#create a df that shows the number of phrase occuring/repeated in each row of X_train dataset\n",
    "count_phrase_df = pd.DataFrame(X_train, columns=cv.get_feature_names())\n",
    "count_phrase_df.head()"
   ]
  },
  {
   "cell_type": "code",
   "execution_count": 14,
   "metadata": {},
   "outputs": [],
   "source": [
    "import matplotlib.pyplot as plt"
   ]
  },
  {
   "cell_type": "code",
   "execution_count": 15,
   "metadata": {},
   "outputs": [],
   "source": [
    "from sklearn.naive_bayes import MultinomialNB\n",
    "from sklearn import metrics\n",
    "import numpy as np\n",
    "import itertools\n",
    "classifier=MultinomialNB()\n"
   ]
  },
  {
   "cell_type": "code",
   "execution_count": 16,
   "metadata": {},
   "outputs": [
    {
     "data": {
      "text/plain": [
       "MultinomialNB()"
      ]
     },
     "execution_count": 16,
     "metadata": {},
     "output_type": "execute_result"
    }
   ],
   "source": [
    "classifier.fit(X_train, y_train)"
   ]
  },
  {
   "cell_type": "code",
   "execution_count": 28,
   "metadata": {},
   "outputs": [
    {
     "data": {
      "text/plain": [
       "array([[245257,   1255],\n",
       "       [ 11361,  44452]])"
      ]
     },
     "execution_count": 28,
     "metadata": {},
     "output_type": "execute_result"
    },
    {
     "data": {
      "image/png": "[encoded data removed]",
      "text/plain": [
       "<Figure size 432x288 with 2 Axes>"
      ]
     },
     "metadata": {
      "needs_background": "light"
     },
     "output_type": "display_data"
    }
   ],
   "source": [
    "from sklearn.metrics import confusion_matrix\n",
    "from sklearn.metrics import plot_confusion_matrix\n",
    "def confusion():\n",
    "    plot_confusion_matrix(classifier, X_test, y_test.values)\n",
    "    M = confusion_matrix(y_test, classifier.predict(X_test))\n",
    "    return M\n",
    "\n",
    "M = confusion()\n",
    "M"
   ]
  },
  {
   "cell_type": "code",
   "execution_count": 30,
   "metadata": {},
   "outputs": [
    {
     "data": {
      "text/plain": [
       "0.8757289204097715"
      ]
     },
     "execution_count": 30,
     "metadata": {},
     "output_type": "execute_result"
    }
   ],
   "source": [
    "precision = M[1,1] / (M[1,1] + M[0,1])\n",
    "recall = M[1, 1] /( M[1,1] + M[1,0])\n",
    "F1 = (2 * (precision*recall))/ (precision + recall)\n",
    "F1"
   ]
  },
  {
   "cell_type": "code",
   "execution_count": 31,
   "metadata": {},
   "outputs": [
    {
     "name": "stdout",
     "output_type": "stream",
     "text": [
      "accuracy:   0.958\n"
     ]
    }
   ],
   "source": [
    "from sklearn import metrics\n",
    "score = metrics.accuracy_score(y_test, classifier.predict(X_test))\n",
    "print(\"accuracy:   %0.3f\" % score)"
   ]
  },
  {
   "cell_type": "code",
   "execution_count": 32,
   "metadata": {},
   "outputs": [
    {
     "name": "stderr",
     "output_type": "stream",
     "text": [
      "/opt/anaconda3/lib/python3.7/site-packages/sklearn/naive_bayes.py:509: UserWarning: alpha too small will result in numeric errors, setting alpha = 1.0e-10\n",
      "  'setting alpha = %.1e' % _ALPHA_MIN)\n"
     ]
    },
    {
     "name": "stdout",
     "output_type": "stream",
     "text": [
      "Alpha: 0.0, Score : 0.958293227486976\n",
      "Alpha: 0.1, Score : 0.9582965351856446\n",
      "Alpha: 0.2, Score : 0.9582866120896386\n",
      "Alpha: 0.30000000000000004, Score : 0.9582866120896386\n",
      "Alpha: 0.4, Score : 0.9582667658976267\n",
      "Alpha: 0.5, Score : 0.9582766889936327\n",
      "Alpha: 0.6000000000000001, Score : 0.9582766889936327\n",
      "Alpha: 0.7000000000000001, Score : 0.9582700735962953\n",
      "Alpha: 0.8, Score : 0.958273381294964\n",
      "Alpha: 0.9, Score : 0.9582700735962953\n"
     ]
    }
   ],
   "source": [
    "#Multinomial Classifier with Hyperparameter\n",
    "#to find the best accuracy\n",
    "#with default value\n",
    "classifier2 = MultinomialNB(alpha=0.1)\n",
    "previous_score=0\n",
    "for alpha in np.arange(0,1,0.1):\n",
    "    sub_classifier=MultinomialNB(alpha=alpha)\n",
    "    sub_classifier.fit(X_train,y_train)\n",
    "    y_pred=sub_classifier.predict(X_test)\n",
    "    score = metrics.accuracy_score(y_test, y_pred)\n",
    "    if score>previous_score:\n",
    "        classifier2=sub_classifier\n",
    "    print(\"Alpha: {}, Score : {}\".format(alpha,score))"
   ]
  },
  {
   "cell_type": "code",
   "execution_count": 33,
   "metadata": {},
   "outputs": [],
   "source": [
    "#features names are the phrases we got previously\n",
    "feature_names = cv.get_feature_names()"
   ]
  },
  {
   "cell_type": "code",
   "execution_count": 34,
   "metadata": {},
   "outputs": [
    {
     "name": "stderr",
     "output_type": "stream",
     "text": [
      "/opt/anaconda3/lib/python3.7/site-packages/sklearn/utils/deprecation.py:101: FutureWarning: Attribute coef_ was deprecated in version 0.24 and will be removed in 1.1 (renaming of 0.26).\n",
      "  warnings.warn(msg, category=FutureWarning)\n"
     ]
    },
    {
     "data": {
      "text/plain": [
       "array([-11.73847566,  -9.81108456, -11.49534961, ..., -11.29992483,\n",
       "       -13.48538456, -13.06252771])"
      ]
     },
     "execution_count": 34,
     "metadata": {},
     "output_type": "execute_result"
    }
   ],
   "source": [
    "#each phrase got a coef\n",
    "#most negative is fakest\n",
    "classifier2.coef_[0]"
   ]
  },
  {
   "cell_type": "code",
   "execution_count": 35,
   "metadata": {},
   "outputs": [
    {
     "name": "stderr",
     "output_type": "stream",
     "text": [
      "/opt/anaconda3/lib/python3.7/site-packages/sklearn/utils/deprecation.py:101: FutureWarning: Attribute coef_ was deprecated in version 0.24 and will be removed in 1.1 (renaming of 0.26).\n",
      "  warnings.warn(msg, category=FutureWarning)\n"
     ]
    },
    {
     "data": {
      "text/plain": [
       "[(-3.461686513460613, 'gameinsight'),\n",
       " (-3.695392866979759, 'rt'),\n",
       " (-3.8312730923290914, 'ive'),\n",
       " (-4.050306121496691, 'ff'),\n",
       " (-4.111319934933416, 'android'),\n",
       " (-4.180025919191088, 'gold'),\n",
       " (-4.195848805131032, 'coins'),\n",
       " (-4.197259901446225, 'collected'),\n",
       " (-4.197405990638806, 'gold coins'),\n",
       " (-4.197600809433592, 'ive collected'),\n",
       " (-4.197649520063235, 'ive collected gold'),\n",
       " (-4.197649520063235, 'collected gold coins'),\n",
       " (-4.197649520063235, 'collected gold'),\n",
       " (-4.204639684124963, 'androidgames'),\n",
       " (-4.227011205014215, 'follow'),\n",
       " (-4.238666583838262, 'androidgames gameinsight'),\n",
       " (-4.348696395951267, 'android androidgames'),\n",
       " (-4.3505677388736395, 'android androidgames gameinsight'),\n",
       " (-4.413465715711643, 'ipad'),\n",
       " (-4.460239345675925, 'ipadgames')]"
      ]
     },
     "execution_count": 35,
     "metadata": {},
     "output_type": "execute_result"
    }
   ],
   "source": [
    "### Most real\n",
    "sorted(zip(classifier2.coef_[0], feature_names), reverse=True)[:20]"
   ]
  },
  {
   "cell_type": "code",
   "execution_count": 36,
   "metadata": {},
   "outputs": [
    {
     "name": "stderr",
     "output_type": "stream",
     "text": [
      "/opt/anaconda3/lib/python3.7/site-packages/sklearn/utils/deprecation.py:101: FutureWarning: Attribute coef_ was deprecated in version 0.24 and will be removed in 1.1 (renaming of 0.26).\n",
      "  warnings.warn(msg, category=FutureWarning)\n"
     ]
    },
    {
     "data": {
      "text/plain": [
       "[(-14.232598964171931, 'abuse'),\n",
       " (-14.232598964171931, 'adam yauch'),\n",
       " (-14.232598964171931, 'adam yauch park'),\n",
       " (-14.232598964171931, 'admit'),\n",
       " (-14.232598964171931, 'adults'),\n",
       " (-14.232598964171931, 'agenda'),\n",
       " (-14.232598964171931, 'agreed'),\n",
       " (-14.232598964171931, 'aint even'),\n",
       " (-14.232598964171931, 'aint shit'),\n",
       " (-14.232598964171931, 'alfredoflores pretty'),\n",
       " (-14.232598964171931, 'alfredoflores pretty sure'),\n",
       " (-14.232598964171931, 'allah'),\n",
       " (-14.232598964171931, 'almost tackled'),\n",
       " (-14.232598964171931, 'almost tackled stage'),\n",
       " (-14.232598964171931, 'amen'),\n",
       " (-14.232598964171931, 'americans'),\n",
       " (-14.232598964171931, 'amsterdam'),\n",
       " (-14.232598964171931, 'anger'),\n",
       " (-14.232598964171931, 'announcement'),\n",
       " (-14.232598964171931, 'annual')]"
      ]
     },
     "execution_count": 36,
     "metadata": {},
     "output_type": "execute_result"
    }
   ],
   "source": [
    "### Most fake\n",
    "sorted(zip(classifier2.coef_[0], feature_names))[:20]"
   ]
  },
  {
   "cell_type": "code",
   "execution_count": null,
   "metadata": {},
   "outputs": [],
   "source": []
  }
 ],
 "metadata": {
  "kernelspec": {
   "display_name": "Python 3",
   "language": "python",
   "name": "python3"
  },
  "language_info": {
   "codemirror_mode": {
    "name": "ipython",
    "version": 3
   },
   "file_extension": ".py",
   "mimetype": "text/x-python",
   "name": "python",
   "nbconvert_exporter": "python",
   "pygments_lexer": "ipython3",
   "version": "3.7.4"
  }
 },
 "nbformat": 4,
 "nbformat_minor": 2
}
