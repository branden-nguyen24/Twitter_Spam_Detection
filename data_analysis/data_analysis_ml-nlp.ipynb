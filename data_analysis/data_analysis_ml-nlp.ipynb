{
 "cells": [
  {
   "cell_type": "code",
   "execution_count": 1,
   "id": "experimental-garlic",
   "metadata": {
    "ExecuteTime": {
     "end_time": "2021-05-12T03:16:36.526310Z",
     "start_time": "2021-05-12T03:16:34.963575Z"
    }
   },
   "outputs": [
    {
     "data": {
      "text/html": [
       "        <script type=\"text/javascript\">\n",
       "        window.PlotlyConfig = {MathJaxConfig: 'local'};\n",
       "        if (window.MathJax) {MathJax.Hub.Config({SVG: {font: \"STIX-Web\"}});}\n",
       "        if (typeof require !== 'undefined') {\n",
       "        require.undef(\"plotly\");\n",
       "        requirejs.config({\n",
       "            paths: {\n",
       "                'plotly': ['https://cdn.plot.ly/plotly-latest.min']\n",
       "            }\n",
       "        });\n",
       "        require(['plotly'], function(Plotly) {\n",
       "            window._Plotly = Plotly;\n",
       "        });\n",
       "        }\n",
       "        </script>\n",
       "        "
      ]
     },
     "metadata": {},
     "output_type": "display_data"
    }
   ],
   "source": [
    "#import libraries\n",
    "import pandas as pd\n",
    "import copy\n",
    "import numpy as np\n",
    "import matplotlib.pyplot as plt\n",
    "from sklearn import metrics\n",
    "from sklearn.preprocessing import LabelEncoder\n",
    "from sklearn.model_selection import train_test_split, cross_val_score, KFold\n",
    "from sklearn.metrics import confusion_matrix, classification_report, accuracy_score\n",
    "from collections import Counter\n",
    "import seaborn as sns\n",
    "\n",
    "\n",
    "# for advanced visualizations\n",
    "import plotly.offline as py\n",
    "from plotly.offline import init_notebook_mode, iplot\n",
    "import plotly.graph_objs as go\n",
    "from plotly import tools\n",
    "init_notebook_mode(connected = True)\n",
    "import plotly.figure_factory as ff"
   ]
  },
  {
   "cell_type": "code",
   "execution_count": 2,
   "id": "raised-infrastructure",
   "metadata": {
    "ExecuteTime": {
     "end_time": "2021-05-12T03:16:38.905511Z",
     "start_time": "2021-05-12T03:16:36.529022Z"
    }
   },
   "outputs": [
    {
     "data": {
      "text/html": [
       "<div>\n",
       "<style scoped>\n",
       "    .dataframe tbody tr th:only-of-type {\n",
       "        vertical-align: middle;\n",
       "    }\n",
       "\n",
       "    .dataframe tbody tr th {\n",
       "        vertical-align: top;\n",
       "    }\n",
       "\n",
       "    .dataframe thead th {\n",
       "        text-align: right;\n",
       "    }\n",
       "</style>\n",
       "<table border=\"1\" class=\"dataframe\">\n",
       "  <thead>\n",
       "    <tr style=\"text-align: right;\">\n",
       "      <th></th>\n",
       "      <th>tweet</th>\n",
       "      <th>tweet_clean</th>\n",
       "      <th>no_followers</th>\n",
       "      <th>no_followings</th>\n",
       "      <th>no_userfavorites</th>\n",
       "      <th>no_lists</th>\n",
       "      <th>no_tweets</th>\n",
       "      <th>no_retweets</th>\n",
       "      <th>no_favorites</th>\n",
       "      <th>no_hashtags</th>\n",
       "      <th>no_usermentions</th>\n",
       "      <th>no_urls</th>\n",
       "      <th>label</th>\n",
       "    </tr>\n",
       "  </thead>\n",
       "  <tbody>\n",
       "    <tr>\n",
       "      <th>0</th>\n",
       "      <td>That just seriously ruined my night..</td>\n",
       "      <td>seriously ruined night</td>\n",
       "      <td>163</td>\n",
       "      <td>139</td>\n",
       "      <td>1560</td>\n",
       "      <td>1</td>\n",
       "      <td>25985</td>\n",
       "      <td>0</td>\n",
       "      <td>0</td>\n",
       "      <td>0</td>\n",
       "      <td>0</td>\n",
       "      <td>0</td>\n",
       "      <td>0</td>\n",
       "    </tr>\n",
       "    <tr>\n",
       "      <th>1</th>\n",
       "      <td>@JessleaC I no they are so funny ..! I love yo...</td>\n",
       "      <td>jessleac funny love pictures take really good ...</td>\n",
       "      <td>113</td>\n",
       "      <td>197</td>\n",
       "      <td>1072</td>\n",
       "      <td>1</td>\n",
       "      <td>2142</td>\n",
       "      <td>0</td>\n",
       "      <td>0</td>\n",
       "      <td>0</td>\n",
       "      <td>1</td>\n",
       "      <td>0</td>\n",
       "      <td>0</td>\n",
       "    </tr>\n",
       "    <tr>\n",
       "      <th>2</th>\n",
       "      <td>@honkwas might drive so we could go subway or ...</td>\n",
       "      <td>honkwas might drive could go subway mcdonalds ...</td>\n",
       "      <td>168</td>\n",
       "      <td>382</td>\n",
       "      <td>1732</td>\n",
       "      <td>1</td>\n",
       "      <td>3493</td>\n",
       "      <td>0</td>\n",
       "      <td>0</td>\n",
       "      <td>0</td>\n",
       "      <td>1</td>\n",
       "      <td>0</td>\n",
       "      <td>0</td>\n",
       "    </tr>\n",
       "    <tr>\n",
       "      <th>3</th>\n",
       "      <td>That @brad_frost post is bourne out by my expe...</td>\n",
       "      <td>bradfrost post bourne experience current proje...</td>\n",
       "      <td>285</td>\n",
       "      <td>596</td>\n",
       "      <td>5765</td>\n",
       "      <td>45</td>\n",
       "      <td>8670</td>\n",
       "      <td>0</td>\n",
       "      <td>0</td>\n",
       "      <td>0</td>\n",
       "      <td>1</td>\n",
       "      <td>0</td>\n",
       "      <td>0</td>\n",
       "    </tr>\n",
       "    <tr>\n",
       "      <th>4</th>\n",
       "      <td>why tf do i keep waking up every 2 hours -.-</td>\n",
       "      <td>tf keep waking every  hours</td>\n",
       "      <td>631</td>\n",
       "      <td>353</td>\n",
       "      <td>1589</td>\n",
       "      <td>2</td>\n",
       "      <td>12285</td>\n",
       "      <td>0</td>\n",
       "      <td>0</td>\n",
       "      <td>0</td>\n",
       "      <td>0</td>\n",
       "      <td>0</td>\n",
       "      <td>0</td>\n",
       "    </tr>\n",
       "    <tr>\n",
       "      <th>...</th>\n",
       "      <td>...</td>\n",
       "      <td>...</td>\n",
       "      <td>...</td>\n",
       "      <td>...</td>\n",
       "      <td>...</td>\n",
       "      <td>...</td>\n",
       "      <td>...</td>\n",
       "      <td>...</td>\n",
       "      <td>...</td>\n",
       "      <td>...</td>\n",
       "      <td>...</td>\n",
       "      <td>...</td>\n",
       "      <td>...</td>\n",
       "    </tr>\n",
       "    <tr>\n",
       "      <th>1007996</th>\n",
       "      <td>I just reached level 78 in The Tribez! Join in...</td>\n",
       "      <td>reached level  tribez join try overtake ipad i...</td>\n",
       "      <td>2</td>\n",
       "      <td>6</td>\n",
       "      <td>0</td>\n",
       "      <td>0</td>\n",
       "      <td>13562</td>\n",
       "      <td>0</td>\n",
       "      <td>0</td>\n",
       "      <td>3</td>\n",
       "      <td>0</td>\n",
       "      <td>1</td>\n",
       "      <td>1</td>\n",
       "    </tr>\n",
       "    <tr>\n",
       "      <th>1007997</th>\n",
       "      <td>Ima smash on site when I get that bitch</td>\n",
       "      <td>ima smash site get bitch</td>\n",
       "      <td>477</td>\n",
       "      <td>588</td>\n",
       "      <td>7048</td>\n",
       "      <td>0</td>\n",
       "      <td>18346</td>\n",
       "      <td>0</td>\n",
       "      <td>0</td>\n",
       "      <td>0</td>\n",
       "      <td>0</td>\n",
       "      <td>0</td>\n",
       "      <td>0</td>\n",
       "    </tr>\n",
       "    <tr>\n",
       "      <th>1007998</th>\n",
       "      <td>RT @NiallOfficial: Pukin on fans hahahaha! Whe...</td>\n",
       "      <td>rt niallofficial pukin fans hahahaha come</td>\n",
       "      <td>663</td>\n",
       "      <td>476</td>\n",
       "      <td>9079</td>\n",
       "      <td>4</td>\n",
       "      <td>36930</td>\n",
       "      <td>40219</td>\n",
       "      <td>0</td>\n",
       "      <td>0</td>\n",
       "      <td>1</td>\n",
       "      <td>0</td>\n",
       "      <td>0</td>\n",
       "    </tr>\n",
       "    <tr>\n",
       "      <th>1007999</th>\n",
       "      <td>we should of had Monday off</td>\n",
       "      <td>monday</td>\n",
       "      <td>297</td>\n",
       "      <td>1436</td>\n",
       "      <td>5815</td>\n",
       "      <td>0</td>\n",
       "      <td>5308</td>\n",
       "      <td>0</td>\n",
       "      <td>0</td>\n",
       "      <td>0</td>\n",
       "      <td>0</td>\n",
       "      <td>0</td>\n",
       "      <td>0</td>\n",
       "    </tr>\n",
       "    <tr>\n",
       "      <th>1008000</th>\n",
       "      <td>Cancer Care Insights: Cancer care in Florida: ...</td>\n",
       "      <td>cancer care insights cancer care florida one s...</td>\n",
       "      <td>213</td>\n",
       "      <td>251</td>\n",
       "      <td>0</td>\n",
       "      <td>0</td>\n",
       "      <td>12790</td>\n",
       "      <td>0</td>\n",
       "      <td>0</td>\n",
       "      <td>0</td>\n",
       "      <td>0</td>\n",
       "      <td>1</td>\n",
       "      <td>0</td>\n",
       "    </tr>\n",
       "  </tbody>\n",
       "</table>\n",
       "<p>1008001 rows × 13 columns</p>\n",
       "</div>"
      ],
      "text/plain": [
       "                                                     tweet  \\\n",
       "0                    That just seriously ruined my night..   \n",
       "1        @JessleaC I no they are so funny ..! I love yo...   \n",
       "2        @honkwas might drive so we could go subway or ...   \n",
       "3        That @brad_frost post is bourne out by my expe...   \n",
       "4             why tf do i keep waking up every 2 hours -.-   \n",
       "...                                                    ...   \n",
       "1007996  I just reached level 78 in The Tribez! Join in...   \n",
       "1007997            Ima smash on site when I get that bitch   \n",
       "1007998  RT @NiallOfficial: Pukin on fans hahahaha! Whe...   \n",
       "1007999                        we should of had Monday off   \n",
       "1008000  Cancer Care Insights: Cancer care in Florida: ...   \n",
       "\n",
       "                                               tweet_clean  no_followers  \\\n",
       "0                                   seriously ruined night           163   \n",
       "1        jessleac funny love pictures take really good ...           113   \n",
       "2        honkwas might drive could go subway mcdonalds ...           168   \n",
       "3        bradfrost post bourne experience current proje...           285   \n",
       "4                              tf keep waking every  hours           631   \n",
       "...                                                    ...           ...   \n",
       "1007996  reached level  tribez join try overtake ipad i...             2   \n",
       "1007997                           ima smash site get bitch           477   \n",
       "1007998          rt niallofficial pukin fans hahahaha come           663   \n",
       "1007999                                             monday           297   \n",
       "1008000  cancer care insights cancer care florida one s...           213   \n",
       "\n",
       "         no_followings  no_userfavorites  no_lists  no_tweets  no_retweets  \\\n",
       "0                  139              1560         1      25985            0   \n",
       "1                  197              1072         1       2142            0   \n",
       "2                  382              1732         1       3493            0   \n",
       "3                  596              5765        45       8670            0   \n",
       "4                  353              1589         2      12285            0   \n",
       "...                ...               ...       ...        ...          ...   \n",
       "1007996              6                 0         0      13562            0   \n",
       "1007997            588              7048         0      18346            0   \n",
       "1007998            476              9079         4      36930        40219   \n",
       "1007999           1436              5815         0       5308            0   \n",
       "1008000            251                 0         0      12790            0   \n",
       "\n",
       "         no_favorites  no_hashtags  no_usermentions  no_urls  label  \n",
       "0                   0            0                0        0      0  \n",
       "1                   0            0                1        0      0  \n",
       "2                   0            0                1        0      0  \n",
       "3                   0            0                1        0      0  \n",
       "4                   0            0                0        0      0  \n",
       "...               ...          ...              ...      ...    ...  \n",
       "1007996             0            3                0        1      1  \n",
       "1007997             0            0                0        0      0  \n",
       "1007998             0            0                1        0      0  \n",
       "1007999             0            0                0        0      0  \n",
       "1008000             0            0                0        1      0  \n",
       "\n",
       "[1008001 rows x 13 columns]"
      ]
     },
     "execution_count": 2,
     "metadata": {},
     "output_type": "execute_result"
    }
   ],
   "source": [
    "#import data and view\n",
    "df = pd.read_csv(\"./db/clean_tweet_dataset.csv\", lineterminator=\"\\n\")\n",
    "df"
   ]
  },
  {
   "cell_type": "markdown",
   "id": "lovely-meter",
   "metadata": {},
   "source": [
    "# Data Preprocessing"
   ]
  },
  {
   "cell_type": "markdown",
   "id": "adapted-marking",
   "metadata": {},
   "source": [
    "## Drop NaN"
   ]
  },
  {
   "cell_type": "code",
   "execution_count": 3,
   "id": "wireless-australia",
   "metadata": {
    "ExecuteTime": {
     "end_time": "2021-05-12T03:16:39.030197Z",
     "start_time": "2021-05-12T03:16:38.908045Z"
    }
   },
   "outputs": [
    {
     "name": "stdout",
     "output_type": "stream",
     "text": [
      "<class 'pandas.core.frame.DataFrame'>\n",
      "RangeIndex: 1008001 entries, 0 to 1008000\n",
      "Data columns (total 13 columns):\n",
      " #   Column            Non-Null Count    Dtype \n",
      "---  ------            --------------    ----- \n",
      " 0   tweet             1008001 non-null  object\n",
      " 1   tweet_clean       1007749 non-null  object\n",
      " 2   no_followers      1008001 non-null  int64 \n",
      " 3   no_followings     1008001 non-null  int64 \n",
      " 4   no_userfavorites  1008001 non-null  int64 \n",
      " 5   no_lists          1008001 non-null  int64 \n",
      " 6   no_tweets         1008001 non-null  int64 \n",
      " 7   no_retweets       1008001 non-null  int64 \n",
      " 8   no_favorites      1008001 non-null  int64 \n",
      " 9   no_hashtags       1008001 non-null  int64 \n",
      " 10  no_usermentions   1008001 non-null  int64 \n",
      " 11  no_urls           1008001 non-null  int64 \n",
      " 12  label             1008001 non-null  int64 \n",
      "dtypes: int64(11), object(2)\n",
      "memory usage: 100.0+ MB\n"
     ]
    }
   ],
   "source": [
    "df.info()"
   ]
  },
  {
   "cell_type": "code",
   "execution_count": 4,
   "id": "hollywood-leeds",
   "metadata": {
    "ExecuteTime": {
     "end_time": "2021-05-12T03:16:39.138553Z",
     "start_time": "2021-05-12T03:16:39.032019Z"
    }
   },
   "outputs": [
    {
     "data": {
      "text/plain": [
       "tweet                 0\n",
       "tweet_clean         252\n",
       "no_followers          0\n",
       "no_followings         0\n",
       "no_userfavorites      0\n",
       "no_lists              0\n",
       "no_tweets             0\n",
       "no_retweets           0\n",
       "no_favorites          0\n",
       "no_hashtags           0\n",
       "no_usermentions       0\n",
       "no_urls               0\n",
       "label                 0\n",
       "dtype: int64"
      ]
     },
     "execution_count": 4,
     "metadata": {},
     "output_type": "execute_result"
    }
   ],
   "source": [
    "df.isna().sum()"
   ]
  },
  {
   "cell_type": "code",
   "execution_count": 5,
   "id": "eastern-resolution",
   "metadata": {
    "ExecuteTime": {
     "end_time": "2021-05-12T03:16:39.386286Z",
     "start_time": "2021-05-12T03:16:39.140445Z"
    }
   },
   "outputs": [
    {
     "data": {
      "text/html": [
       "<div>\n",
       "<style scoped>\n",
       "    .dataframe tbody tr th:only-of-type {\n",
       "        vertical-align: middle;\n",
       "    }\n",
       "\n",
       "    .dataframe tbody tr th {\n",
       "        vertical-align: top;\n",
       "    }\n",
       "\n",
       "    .dataframe thead th {\n",
       "        text-align: right;\n",
       "    }\n",
       "</style>\n",
       "<table border=\"1\" class=\"dataframe\">\n",
       "  <thead>\n",
       "    <tr style=\"text-align: right;\">\n",
       "      <th></th>\n",
       "      <th>tweet</th>\n",
       "      <th>tweet_clean</th>\n",
       "      <th>no_followers</th>\n",
       "      <th>no_followings</th>\n",
       "      <th>no_userfavorites</th>\n",
       "      <th>no_lists</th>\n",
       "      <th>no_tweets</th>\n",
       "      <th>no_retweets</th>\n",
       "      <th>no_favorites</th>\n",
       "      <th>no_hashtags</th>\n",
       "      <th>no_usermentions</th>\n",
       "      <th>no_urls</th>\n",
       "      <th>label</th>\n",
       "    </tr>\n",
       "  </thead>\n",
       "  <tbody>\n",
       "    <tr>\n",
       "      <th>0</th>\n",
       "      <td>That just seriously ruined my night..</td>\n",
       "      <td>seriously ruined night</td>\n",
       "      <td>163</td>\n",
       "      <td>139</td>\n",
       "      <td>1560</td>\n",
       "      <td>1</td>\n",
       "      <td>25985</td>\n",
       "      <td>0</td>\n",
       "      <td>0</td>\n",
       "      <td>0</td>\n",
       "      <td>0</td>\n",
       "      <td>0</td>\n",
       "      <td>0</td>\n",
       "    </tr>\n",
       "    <tr>\n",
       "      <th>1</th>\n",
       "      <td>@JessleaC I no they are so funny ..! I love yo...</td>\n",
       "      <td>jessleac funny love pictures take really good ...</td>\n",
       "      <td>113</td>\n",
       "      <td>197</td>\n",
       "      <td>1072</td>\n",
       "      <td>1</td>\n",
       "      <td>2142</td>\n",
       "      <td>0</td>\n",
       "      <td>0</td>\n",
       "      <td>0</td>\n",
       "      <td>1</td>\n",
       "      <td>0</td>\n",
       "      <td>0</td>\n",
       "    </tr>\n",
       "    <tr>\n",
       "      <th>2</th>\n",
       "      <td>@honkwas might drive so we could go subway or ...</td>\n",
       "      <td>honkwas might drive could go subway mcdonalds ...</td>\n",
       "      <td>168</td>\n",
       "      <td>382</td>\n",
       "      <td>1732</td>\n",
       "      <td>1</td>\n",
       "      <td>3493</td>\n",
       "      <td>0</td>\n",
       "      <td>0</td>\n",
       "      <td>0</td>\n",
       "      <td>1</td>\n",
       "      <td>0</td>\n",
       "      <td>0</td>\n",
       "    </tr>\n",
       "    <tr>\n",
       "      <th>3</th>\n",
       "      <td>That @brad_frost post is bourne out by my expe...</td>\n",
       "      <td>bradfrost post bourne experience current proje...</td>\n",
       "      <td>285</td>\n",
       "      <td>596</td>\n",
       "      <td>5765</td>\n",
       "      <td>45</td>\n",
       "      <td>8670</td>\n",
       "      <td>0</td>\n",
       "      <td>0</td>\n",
       "      <td>0</td>\n",
       "      <td>1</td>\n",
       "      <td>0</td>\n",
       "      <td>0</td>\n",
       "    </tr>\n",
       "    <tr>\n",
       "      <th>4</th>\n",
       "      <td>why tf do i keep waking up every 2 hours -.-</td>\n",
       "      <td>tf keep waking every  hours</td>\n",
       "      <td>631</td>\n",
       "      <td>353</td>\n",
       "      <td>1589</td>\n",
       "      <td>2</td>\n",
       "      <td>12285</td>\n",
       "      <td>0</td>\n",
       "      <td>0</td>\n",
       "      <td>0</td>\n",
       "      <td>0</td>\n",
       "      <td>0</td>\n",
       "      <td>0</td>\n",
       "    </tr>\n",
       "    <tr>\n",
       "      <th>...</th>\n",
       "      <td>...</td>\n",
       "      <td>...</td>\n",
       "      <td>...</td>\n",
       "      <td>...</td>\n",
       "      <td>...</td>\n",
       "      <td>...</td>\n",
       "      <td>...</td>\n",
       "      <td>...</td>\n",
       "      <td>...</td>\n",
       "      <td>...</td>\n",
       "      <td>...</td>\n",
       "      <td>...</td>\n",
       "      <td>...</td>\n",
       "    </tr>\n",
       "    <tr>\n",
       "      <th>1007996</th>\n",
       "      <td>I just reached level 78 in The Tribez! Join in...</td>\n",
       "      <td>reached level  tribez join try overtake ipad i...</td>\n",
       "      <td>2</td>\n",
       "      <td>6</td>\n",
       "      <td>0</td>\n",
       "      <td>0</td>\n",
       "      <td>13562</td>\n",
       "      <td>0</td>\n",
       "      <td>0</td>\n",
       "      <td>3</td>\n",
       "      <td>0</td>\n",
       "      <td>1</td>\n",
       "      <td>1</td>\n",
       "    </tr>\n",
       "    <tr>\n",
       "      <th>1007997</th>\n",
       "      <td>Ima smash on site when I get that bitch</td>\n",
       "      <td>ima smash site get bitch</td>\n",
       "      <td>477</td>\n",
       "      <td>588</td>\n",
       "      <td>7048</td>\n",
       "      <td>0</td>\n",
       "      <td>18346</td>\n",
       "      <td>0</td>\n",
       "      <td>0</td>\n",
       "      <td>0</td>\n",
       "      <td>0</td>\n",
       "      <td>0</td>\n",
       "      <td>0</td>\n",
       "    </tr>\n",
       "    <tr>\n",
       "      <th>1007998</th>\n",
       "      <td>RT @NiallOfficial: Pukin on fans hahahaha! Whe...</td>\n",
       "      <td>rt niallofficial pukin fans hahahaha come</td>\n",
       "      <td>663</td>\n",
       "      <td>476</td>\n",
       "      <td>9079</td>\n",
       "      <td>4</td>\n",
       "      <td>36930</td>\n",
       "      <td>40219</td>\n",
       "      <td>0</td>\n",
       "      <td>0</td>\n",
       "      <td>1</td>\n",
       "      <td>0</td>\n",
       "      <td>0</td>\n",
       "    </tr>\n",
       "    <tr>\n",
       "      <th>1007999</th>\n",
       "      <td>we should of had Monday off</td>\n",
       "      <td>monday</td>\n",
       "      <td>297</td>\n",
       "      <td>1436</td>\n",
       "      <td>5815</td>\n",
       "      <td>0</td>\n",
       "      <td>5308</td>\n",
       "      <td>0</td>\n",
       "      <td>0</td>\n",
       "      <td>0</td>\n",
       "      <td>0</td>\n",
       "      <td>0</td>\n",
       "      <td>0</td>\n",
       "    </tr>\n",
       "    <tr>\n",
       "      <th>1008000</th>\n",
       "      <td>Cancer Care Insights: Cancer care in Florida: ...</td>\n",
       "      <td>cancer care insights cancer care florida one s...</td>\n",
       "      <td>213</td>\n",
       "      <td>251</td>\n",
       "      <td>0</td>\n",
       "      <td>0</td>\n",
       "      <td>12790</td>\n",
       "      <td>0</td>\n",
       "      <td>0</td>\n",
       "      <td>0</td>\n",
       "      <td>0</td>\n",
       "      <td>1</td>\n",
       "      <td>0</td>\n",
       "    </tr>\n",
       "  </tbody>\n",
       "</table>\n",
       "<p>1007749 rows × 13 columns</p>\n",
       "</div>"
      ],
      "text/plain": [
       "                                                     tweet  \\\n",
       "0                    That just seriously ruined my night..   \n",
       "1        @JessleaC I no they are so funny ..! I love yo...   \n",
       "2        @honkwas might drive so we could go subway or ...   \n",
       "3        That @brad_frost post is bourne out by my expe...   \n",
       "4             why tf do i keep waking up every 2 hours -.-   \n",
       "...                                                    ...   \n",
       "1007996  I just reached level 78 in The Tribez! Join in...   \n",
       "1007997            Ima smash on site when I get that bitch   \n",
       "1007998  RT @NiallOfficial: Pukin on fans hahahaha! Whe...   \n",
       "1007999                        we should of had Monday off   \n",
       "1008000  Cancer Care Insights: Cancer care in Florida: ...   \n",
       "\n",
       "                                               tweet_clean  no_followers  \\\n",
       "0                                   seriously ruined night           163   \n",
       "1        jessleac funny love pictures take really good ...           113   \n",
       "2        honkwas might drive could go subway mcdonalds ...           168   \n",
       "3        bradfrost post bourne experience current proje...           285   \n",
       "4                              tf keep waking every  hours           631   \n",
       "...                                                    ...           ...   \n",
       "1007996  reached level  tribez join try overtake ipad i...             2   \n",
       "1007997                           ima smash site get bitch           477   \n",
       "1007998          rt niallofficial pukin fans hahahaha come           663   \n",
       "1007999                                             monday           297   \n",
       "1008000  cancer care insights cancer care florida one s...           213   \n",
       "\n",
       "         no_followings  no_userfavorites  no_lists  no_tweets  no_retweets  \\\n",
       "0                  139              1560         1      25985            0   \n",
       "1                  197              1072         1       2142            0   \n",
       "2                  382              1732         1       3493            0   \n",
       "3                  596              5765        45       8670            0   \n",
       "4                  353              1589         2      12285            0   \n",
       "...                ...               ...       ...        ...          ...   \n",
       "1007996              6                 0         0      13562            0   \n",
       "1007997            588              7048         0      18346            0   \n",
       "1007998            476              9079         4      36930        40219   \n",
       "1007999           1436              5815         0       5308            0   \n",
       "1008000            251                 0         0      12790            0   \n",
       "\n",
       "         no_favorites  no_hashtags  no_usermentions  no_urls  label  \n",
       "0                   0            0                0        0      0  \n",
       "1                   0            0                1        0      0  \n",
       "2                   0            0                1        0      0  \n",
       "3                   0            0                1        0      0  \n",
       "4                   0            0                0        0      0  \n",
       "...               ...          ...              ...      ...    ...  \n",
       "1007996             0            3                0        1      1  \n",
       "1007997             0            0                0        0      0  \n",
       "1007998             0            0                1        0      0  \n",
       "1007999             0            0                0        0      0  \n",
       "1008000             0            0                0        1      0  \n",
       "\n",
       "[1007749 rows x 13 columns]"
      ]
     },
     "execution_count": 5,
     "metadata": {},
     "output_type": "execute_result"
    }
   ],
   "source": [
    "df_pro = df.dropna()\n",
    "df_pro"
   ]
  },
  {
   "cell_type": "code",
   "execution_count": 6,
   "id": "behind-protection",
   "metadata": {
    "ExecuteTime": {
     "end_time": "2021-05-12T03:16:39.497018Z",
     "start_time": "2021-05-12T03:16:39.388129Z"
    }
   },
   "outputs": [
    {
     "data": {
      "text/plain": [
       "tweet               0\n",
       "tweet_clean         0\n",
       "no_followers        0\n",
       "no_followings       0\n",
       "no_userfavorites    0\n",
       "no_lists            0\n",
       "no_tweets           0\n",
       "no_retweets         0\n",
       "no_favorites        0\n",
       "no_hashtags         0\n",
       "no_usermentions     0\n",
       "no_urls             0\n",
       "label               0\n",
       "dtype: int64"
      ]
     },
     "execution_count": 6,
     "metadata": {},
     "output_type": "execute_result"
    }
   ],
   "source": [
    "df_pro.isna().sum()"
   ]
  },
  {
   "cell_type": "code",
   "execution_count": 7,
   "id": "numeric-blend",
   "metadata": {
    "ExecuteTime": {
     "end_time": "2021-05-12T03:16:39.589806Z",
     "start_time": "2021-05-12T03:16:39.500958Z"
    }
   },
   "outputs": [
    {
     "data": {
      "text/html": [
       "<div>\n",
       "<style scoped>\n",
       "    .dataframe tbody tr th:only-of-type {\n",
       "        vertical-align: middle;\n",
       "    }\n",
       "\n",
       "    .dataframe tbody tr th {\n",
       "        vertical-align: top;\n",
       "    }\n",
       "\n",
       "    .dataframe thead th {\n",
       "        text-align: right;\n",
       "    }\n",
       "</style>\n",
       "<table border=\"1\" class=\"dataframe\">\n",
       "  <thead>\n",
       "    <tr style=\"text-align: right;\">\n",
       "      <th></th>\n",
       "      <th>tweet</th>\n",
       "      <th>tweet_clean</th>\n",
       "      <th>no_followers</th>\n",
       "      <th>no_followings</th>\n",
       "      <th>no_userfavorites</th>\n",
       "      <th>no_lists</th>\n",
       "      <th>no_tweets</th>\n",
       "      <th>no_retweets</th>\n",
       "      <th>no_favorites</th>\n",
       "      <th>no_hashtags</th>\n",
       "      <th>no_usermentions</th>\n",
       "      <th>no_urls</th>\n",
       "      <th>label</th>\n",
       "    </tr>\n",
       "  </thead>\n",
       "  <tbody>\n",
       "    <tr>\n",
       "      <th>0</th>\n",
       "      <td>That just seriously ruined my night..</td>\n",
       "      <td>seriously ruined night</td>\n",
       "      <td>163</td>\n",
       "      <td>139</td>\n",
       "      <td>1560</td>\n",
       "      <td>1</td>\n",
       "      <td>25985</td>\n",
       "      <td>0</td>\n",
       "      <td>0</td>\n",
       "      <td>0</td>\n",
       "      <td>0</td>\n",
       "      <td>0</td>\n",
       "      <td>0</td>\n",
       "    </tr>\n",
       "    <tr>\n",
       "      <th>1</th>\n",
       "      <td>@JessleaC I no they are so funny ..! I love yo...</td>\n",
       "      <td>jessleac funny love pictures take really good ...</td>\n",
       "      <td>113</td>\n",
       "      <td>197</td>\n",
       "      <td>1072</td>\n",
       "      <td>1</td>\n",
       "      <td>2142</td>\n",
       "      <td>0</td>\n",
       "      <td>0</td>\n",
       "      <td>0</td>\n",
       "      <td>1</td>\n",
       "      <td>0</td>\n",
       "      <td>0</td>\n",
       "    </tr>\n",
       "    <tr>\n",
       "      <th>2</th>\n",
       "      <td>@honkwas might drive so we could go subway or ...</td>\n",
       "      <td>honkwas might drive could go subway mcdonalds ...</td>\n",
       "      <td>168</td>\n",
       "      <td>382</td>\n",
       "      <td>1732</td>\n",
       "      <td>1</td>\n",
       "      <td>3493</td>\n",
       "      <td>0</td>\n",
       "      <td>0</td>\n",
       "      <td>0</td>\n",
       "      <td>1</td>\n",
       "      <td>0</td>\n",
       "      <td>0</td>\n",
       "    </tr>\n",
       "    <tr>\n",
       "      <th>3</th>\n",
       "      <td>That @brad_frost post is bourne out by my expe...</td>\n",
       "      <td>bradfrost post bourne experience current proje...</td>\n",
       "      <td>285</td>\n",
       "      <td>596</td>\n",
       "      <td>5765</td>\n",
       "      <td>45</td>\n",
       "      <td>8670</td>\n",
       "      <td>0</td>\n",
       "      <td>0</td>\n",
       "      <td>0</td>\n",
       "      <td>1</td>\n",
       "      <td>0</td>\n",
       "      <td>0</td>\n",
       "    </tr>\n",
       "    <tr>\n",
       "      <th>4</th>\n",
       "      <td>why tf do i keep waking up every 2 hours -.-</td>\n",
       "      <td>tf keep waking every  hours</td>\n",
       "      <td>631</td>\n",
       "      <td>353</td>\n",
       "      <td>1589</td>\n",
       "      <td>2</td>\n",
       "      <td>12285</td>\n",
       "      <td>0</td>\n",
       "      <td>0</td>\n",
       "      <td>0</td>\n",
       "      <td>0</td>\n",
       "      <td>0</td>\n",
       "      <td>0</td>\n",
       "    </tr>\n",
       "    <tr>\n",
       "      <th>...</th>\n",
       "      <td>...</td>\n",
       "      <td>...</td>\n",
       "      <td>...</td>\n",
       "      <td>...</td>\n",
       "      <td>...</td>\n",
       "      <td>...</td>\n",
       "      <td>...</td>\n",
       "      <td>...</td>\n",
       "      <td>...</td>\n",
       "      <td>...</td>\n",
       "      <td>...</td>\n",
       "      <td>...</td>\n",
       "      <td>...</td>\n",
       "    </tr>\n",
       "    <tr>\n",
       "      <th>1007744</th>\n",
       "      <td>I just reached level 78 in The Tribez! Join in...</td>\n",
       "      <td>reached level  tribez join try overtake ipad i...</td>\n",
       "      <td>2</td>\n",
       "      <td>6</td>\n",
       "      <td>0</td>\n",
       "      <td>0</td>\n",
       "      <td>13562</td>\n",
       "      <td>0</td>\n",
       "      <td>0</td>\n",
       "      <td>3</td>\n",
       "      <td>0</td>\n",
       "      <td>1</td>\n",
       "      <td>1</td>\n",
       "    </tr>\n",
       "    <tr>\n",
       "      <th>1007745</th>\n",
       "      <td>Ima smash on site when I get that bitch</td>\n",
       "      <td>ima smash site get bitch</td>\n",
       "      <td>477</td>\n",
       "      <td>588</td>\n",
       "      <td>7048</td>\n",
       "      <td>0</td>\n",
       "      <td>18346</td>\n",
       "      <td>0</td>\n",
       "      <td>0</td>\n",
       "      <td>0</td>\n",
       "      <td>0</td>\n",
       "      <td>0</td>\n",
       "      <td>0</td>\n",
       "    </tr>\n",
       "    <tr>\n",
       "      <th>1007746</th>\n",
       "      <td>RT @NiallOfficial: Pukin on fans hahahaha! Whe...</td>\n",
       "      <td>rt niallofficial pukin fans hahahaha come</td>\n",
       "      <td>663</td>\n",
       "      <td>476</td>\n",
       "      <td>9079</td>\n",
       "      <td>4</td>\n",
       "      <td>36930</td>\n",
       "      <td>40219</td>\n",
       "      <td>0</td>\n",
       "      <td>0</td>\n",
       "      <td>1</td>\n",
       "      <td>0</td>\n",
       "      <td>0</td>\n",
       "    </tr>\n",
       "    <tr>\n",
       "      <th>1007747</th>\n",
       "      <td>we should of had Monday off</td>\n",
       "      <td>monday</td>\n",
       "      <td>297</td>\n",
       "      <td>1436</td>\n",
       "      <td>5815</td>\n",
       "      <td>0</td>\n",
       "      <td>5308</td>\n",
       "      <td>0</td>\n",
       "      <td>0</td>\n",
       "      <td>0</td>\n",
       "      <td>0</td>\n",
       "      <td>0</td>\n",
       "      <td>0</td>\n",
       "    </tr>\n",
       "    <tr>\n",
       "      <th>1007748</th>\n",
       "      <td>Cancer Care Insights: Cancer care in Florida: ...</td>\n",
       "      <td>cancer care insights cancer care florida one s...</td>\n",
       "      <td>213</td>\n",
       "      <td>251</td>\n",
       "      <td>0</td>\n",
       "      <td>0</td>\n",
       "      <td>12790</td>\n",
       "      <td>0</td>\n",
       "      <td>0</td>\n",
       "      <td>0</td>\n",
       "      <td>0</td>\n",
       "      <td>1</td>\n",
       "      <td>0</td>\n",
       "    </tr>\n",
       "  </tbody>\n",
       "</table>\n",
       "<p>1007749 rows × 13 columns</p>\n",
       "</div>"
      ],
      "text/plain": [
       "                                                     tweet  \\\n",
       "0                    That just seriously ruined my night..   \n",
       "1        @JessleaC I no they are so funny ..! I love yo...   \n",
       "2        @honkwas might drive so we could go subway or ...   \n",
       "3        That @brad_frost post is bourne out by my expe...   \n",
       "4             why tf do i keep waking up every 2 hours -.-   \n",
       "...                                                    ...   \n",
       "1007744  I just reached level 78 in The Tribez! Join in...   \n",
       "1007745            Ima smash on site when I get that bitch   \n",
       "1007746  RT @NiallOfficial: Pukin on fans hahahaha! Whe...   \n",
       "1007747                        we should of had Monday off   \n",
       "1007748  Cancer Care Insights: Cancer care in Florida: ...   \n",
       "\n",
       "                                               tweet_clean  no_followers  \\\n",
       "0                                   seriously ruined night           163   \n",
       "1        jessleac funny love pictures take really good ...           113   \n",
       "2        honkwas might drive could go subway mcdonalds ...           168   \n",
       "3        bradfrost post bourne experience current proje...           285   \n",
       "4                              tf keep waking every  hours           631   \n",
       "...                                                    ...           ...   \n",
       "1007744  reached level  tribez join try overtake ipad i...             2   \n",
       "1007745                           ima smash site get bitch           477   \n",
       "1007746          rt niallofficial pukin fans hahahaha come           663   \n",
       "1007747                                             monday           297   \n",
       "1007748  cancer care insights cancer care florida one s...           213   \n",
       "\n",
       "         no_followings  no_userfavorites  no_lists  no_tweets  no_retweets  \\\n",
       "0                  139              1560         1      25985            0   \n",
       "1                  197              1072         1       2142            0   \n",
       "2                  382              1732         1       3493            0   \n",
       "3                  596              5765        45       8670            0   \n",
       "4                  353              1589         2      12285            0   \n",
       "...                ...               ...       ...        ...          ...   \n",
       "1007744              6                 0         0      13562            0   \n",
       "1007745            588              7048         0      18346            0   \n",
       "1007746            476              9079         4      36930        40219   \n",
       "1007747           1436              5815         0       5308            0   \n",
       "1007748            251                 0         0      12790            0   \n",
       "\n",
       "         no_favorites  no_hashtags  no_usermentions  no_urls  label  \n",
       "0                   0            0                0        0      0  \n",
       "1                   0            0                1        0      0  \n",
       "2                   0            0                1        0      0  \n",
       "3                   0            0                1        0      0  \n",
       "4                   0            0                0        0      0  \n",
       "...               ...          ...              ...      ...    ...  \n",
       "1007744             0            3                0        1      1  \n",
       "1007745             0            0                0        0      0  \n",
       "1007746             0            0                1        0      0  \n",
       "1007747             0            0                0        0      0  \n",
       "1007748             0            0                0        1      0  \n",
       "\n",
       "[1007749 rows x 13 columns]"
      ]
     },
     "execution_count": 7,
     "metadata": {},
     "output_type": "execute_result"
    }
   ],
   "source": [
    "df_pro.reset_index(drop=True)"
   ]
  },
  {
   "cell_type": "code",
   "execution_count": 8,
   "id": "amazing-graphic",
   "metadata": {
    "ExecuteTime": {
     "end_time": "2021-05-12T03:16:39.728716Z",
     "start_time": "2021-05-12T03:16:39.592954Z"
    }
   },
   "outputs": [
    {
     "data": {
      "text/plain": [
       "Counter({0: 822278, 1: 185471})"
      ]
     },
     "execution_count": 8,
     "metadata": {},
     "output_type": "execute_result"
    }
   ],
   "source": [
    "Counter(df_pro[\"label\"])"
   ]
  },
  {
   "cell_type": "markdown",
   "id": "rubber-annual",
   "metadata": {},
   "source": [
    "# Data Visualization"
   ]
  },
  {
   "cell_type": "code",
   "execution_count": 9,
   "id": "drawn-moses",
   "metadata": {
    "ExecuteTime": {
     "end_time": "2021-05-12T03:16:43.498375Z",
     "start_time": "2021-05-12T03:16:39.730501Z"
    }
   },
   "outputs": [
    {
     "data": {
      "text/html": [
       "<div>\n",
       "<style scoped>\n",
       "    .dataframe tbody tr th:only-of-type {\n",
       "        vertical-align: middle;\n",
       "    }\n",
       "\n",
       "    .dataframe tbody tr th {\n",
       "        vertical-align: top;\n",
       "    }\n",
       "\n",
       "    .dataframe thead tr th {\n",
       "        text-align: left;\n",
       "    }\n",
       "\n",
       "    .dataframe thead tr:last-of-type th {\n",
       "        text-align: right;\n",
       "    }\n",
       "</style>\n",
       "<table border=\"1\" class=\"dataframe\">\n",
       "  <thead>\n",
       "    <tr>\n",
       "      <th></th>\n",
       "      <th colspan=\"8\" halign=\"left\">no_followers</th>\n",
       "      <th colspan=\"2\" halign=\"left\">no_followings</th>\n",
       "      <th>...</th>\n",
       "      <th colspan=\"2\" halign=\"left\">no_urls</th>\n",
       "      <th colspan=\"8\" halign=\"left\">label</th>\n",
       "    </tr>\n",
       "    <tr>\n",
       "      <th></th>\n",
       "      <th>count</th>\n",
       "      <th>mean</th>\n",
       "      <th>std</th>\n",
       "      <th>min</th>\n",
       "      <th>25%</th>\n",
       "      <th>50%</th>\n",
       "      <th>75%</th>\n",
       "      <th>max</th>\n",
       "      <th>count</th>\n",
       "      <th>mean</th>\n",
       "      <th>...</th>\n",
       "      <th>75%</th>\n",
       "      <th>max</th>\n",
       "      <th>count</th>\n",
       "      <th>mean</th>\n",
       "      <th>std</th>\n",
       "      <th>min</th>\n",
       "      <th>25%</th>\n",
       "      <th>50%</th>\n",
       "      <th>75%</th>\n",
       "      <th>max</th>\n",
       "    </tr>\n",
       "    <tr>\n",
       "      <th>length</th>\n",
       "      <th></th>\n",
       "      <th></th>\n",
       "      <th></th>\n",
       "      <th></th>\n",
       "      <th></th>\n",
       "      <th></th>\n",
       "      <th></th>\n",
       "      <th></th>\n",
       "      <th></th>\n",
       "      <th></th>\n",
       "      <th></th>\n",
       "      <th></th>\n",
       "      <th></th>\n",
       "      <th></th>\n",
       "      <th></th>\n",
       "      <th></th>\n",
       "      <th></th>\n",
       "      <th></th>\n",
       "      <th></th>\n",
       "      <th></th>\n",
       "      <th></th>\n",
       "    </tr>\n",
       "  </thead>\n",
       "  <tbody>\n",
       "    <tr>\n",
       "      <th>42</th>\n",
       "      <td>5162.0</td>\n",
       "      <td>2883.867106</td>\n",
       "      <td>52655.819395</td>\n",
       "      <td>0.0</td>\n",
       "      <td>222.0</td>\n",
       "      <td>491.5</td>\n",
       "      <td>1118.00</td>\n",
       "      <td>2867449.0</td>\n",
       "      <td>5162.0</td>\n",
       "      <td>882.660984</td>\n",
       "      <td>...</td>\n",
       "      <td>0.0</td>\n",
       "      <td>1.0</td>\n",
       "      <td>5162.0</td>\n",
       "      <td>0.147423</td>\n",
       "      <td>0.354562</td>\n",
       "      <td>0.0</td>\n",
       "      <td>0.0</td>\n",
       "      <td>0.0</td>\n",
       "      <td>0.0</td>\n",
       "      <td>1.0</td>\n",
       "    </tr>\n",
       "    <tr>\n",
       "      <th>106</th>\n",
       "      <td>7390.0</td>\n",
       "      <td>7611.600812</td>\n",
       "      <td>108802.557125</td>\n",
       "      <td>0.0</td>\n",
       "      <td>182.0</td>\n",
       "      <td>520.0</td>\n",
       "      <td>1463.75</td>\n",
       "      <td>5864133.0</td>\n",
       "      <td>7390.0</td>\n",
       "      <td>1397.629364</td>\n",
       "      <td>...</td>\n",
       "      <td>1.0</td>\n",
       "      <td>3.0</td>\n",
       "      <td>7390.0</td>\n",
       "      <td>0.145196</td>\n",
       "      <td>0.352322</td>\n",
       "      <td>0.0</td>\n",
       "      <td>0.0</td>\n",
       "      <td>0.0</td>\n",
       "      <td>0.0</td>\n",
       "      <td>1.0</td>\n",
       "    </tr>\n",
       "    <tr>\n",
       "      <th>104</th>\n",
       "      <td>10278.0</td>\n",
       "      <td>5549.971493</td>\n",
       "      <td>80919.091560</td>\n",
       "      <td>0.0</td>\n",
       "      <td>151.0</td>\n",
       "      <td>401.0</td>\n",
       "      <td>1061.75</td>\n",
       "      <td>5700136.0</td>\n",
       "      <td>10278.0</td>\n",
       "      <td>1055.644483</td>\n",
       "      <td>...</td>\n",
       "      <td>1.0</td>\n",
       "      <td>3.0</td>\n",
       "      <td>10278.0</td>\n",
       "      <td>0.389667</td>\n",
       "      <td>0.487698</td>\n",
       "      <td>0.0</td>\n",
       "      <td>0.0</td>\n",
       "      <td>0.0</td>\n",
       "      <td>1.0</td>\n",
       "      <td>1.0</td>\n",
       "    </tr>\n",
       "    <tr>\n",
       "      <th>145</th>\n",
       "      <td>282.0</td>\n",
       "      <td>10777.723404</td>\n",
       "      <td>66878.477527</td>\n",
       "      <td>1.0</td>\n",
       "      <td>414.5</td>\n",
       "      <td>980.5</td>\n",
       "      <td>3593.50</td>\n",
       "      <td>1068313.0</td>\n",
       "      <td>282.0</td>\n",
       "      <td>2817.634752</td>\n",
       "      <td>...</td>\n",
       "      <td>1.0</td>\n",
       "      <td>3.0</td>\n",
       "      <td>282.0</td>\n",
       "      <td>0.120567</td>\n",
       "      <td>0.326203</td>\n",
       "      <td>0.0</td>\n",
       "      <td>0.0</td>\n",
       "      <td>0.0</td>\n",
       "      <td>0.0</td>\n",
       "      <td>1.0</td>\n",
       "    </tr>\n",
       "    <tr>\n",
       "      <th>54</th>\n",
       "      <td>6297.0</td>\n",
       "      <td>4151.208988</td>\n",
       "      <td>63810.539793</td>\n",
       "      <td>0.0</td>\n",
       "      <td>218.0</td>\n",
       "      <td>479.0</td>\n",
       "      <td>1097.00</td>\n",
       "      <td>4006528.0</td>\n",
       "      <td>6297.0</td>\n",
       "      <td>1111.194696</td>\n",
       "      <td>...</td>\n",
       "      <td>0.0</td>\n",
       "      <td>2.0</td>\n",
       "      <td>6297.0</td>\n",
       "      <td>0.104971</td>\n",
       "      <td>0.306540</td>\n",
       "      <td>0.0</td>\n",
       "      <td>0.0</td>\n",
       "      <td>0.0</td>\n",
       "      <td>0.0</td>\n",
       "      <td>1.0</td>\n",
       "    </tr>\n",
       "    <tr>\n",
       "      <th>153</th>\n",
       "      <td>20.0</td>\n",
       "      <td>781.400000</td>\n",
       "      <td>935.759495</td>\n",
       "      <td>4.0</td>\n",
       "      <td>128.0</td>\n",
       "      <td>503.0</td>\n",
       "      <td>965.75</td>\n",
       "      <td>3536.0</td>\n",
       "      <td>20.0</td>\n",
       "      <td>875.750000</td>\n",
       "      <td>...</td>\n",
       "      <td>0.0</td>\n",
       "      <td>1.0</td>\n",
       "      <td>20.0</td>\n",
       "      <td>0.100000</td>\n",
       "      <td>0.307794</td>\n",
       "      <td>0.0</td>\n",
       "      <td>0.0</td>\n",
       "      <td>0.0</td>\n",
       "      <td>0.0</td>\n",
       "      <td>1.0</td>\n",
       "    </tr>\n",
       "    <tr>\n",
       "      <th>30</th>\n",
       "      <td>3701.0</td>\n",
       "      <td>2074.844366</td>\n",
       "      <td>18159.909002</td>\n",
       "      <td>0.0</td>\n",
       "      <td>242.0</td>\n",
       "      <td>547.0</td>\n",
       "      <td>1169.00</td>\n",
       "      <td>733236.0</td>\n",
       "      <td>3701.0</td>\n",
       "      <td>861.529857</td>\n",
       "      <td>...</td>\n",
       "      <td>0.0</td>\n",
       "      <td>1.0</td>\n",
       "      <td>3701.0</td>\n",
       "      <td>0.225345</td>\n",
       "      <td>0.417865</td>\n",
       "      <td>0.0</td>\n",
       "      <td>0.0</td>\n",
       "      <td>0.0</td>\n",
       "      <td>0.0</td>\n",
       "      <td>1.0</td>\n",
       "    </tr>\n",
       "    <tr>\n",
       "      <th>135</th>\n",
       "      <td>10899.0</td>\n",
       "      <td>17816.691164</td>\n",
       "      <td>443725.859606</td>\n",
       "      <td>0.0</td>\n",
       "      <td>174.0</td>\n",
       "      <td>566.0</td>\n",
       "      <td>2039.00</td>\n",
       "      <td>30521734.0</td>\n",
       "      <td>10899.0</td>\n",
       "      <td>1817.258281</td>\n",
       "      <td>...</td>\n",
       "      <td>1.0</td>\n",
       "      <td>3.0</td>\n",
       "      <td>10899.0</td>\n",
       "      <td>0.105423</td>\n",
       "      <td>0.307111</td>\n",
       "      <td>0.0</td>\n",
       "      <td>0.0</td>\n",
       "      <td>0.0</td>\n",
       "      <td>0.0</td>\n",
       "      <td>1.0</td>\n",
       "    </tr>\n",
       "    <tr>\n",
       "      <th>83</th>\n",
       "      <td>7852.0</td>\n",
       "      <td>11923.580871</td>\n",
       "      <td>289711.624597</td>\n",
       "      <td>0.0</td>\n",
       "      <td>201.0</td>\n",
       "      <td>532.0</td>\n",
       "      <td>1338.00</td>\n",
       "      <td>16718122.0</td>\n",
       "      <td>7852.0</td>\n",
       "      <td>1645.396714</td>\n",
       "      <td>...</td>\n",
       "      <td>0.0</td>\n",
       "      <td>3.0</td>\n",
       "      <td>7852.0</td>\n",
       "      <td>0.064952</td>\n",
       "      <td>0.246456</td>\n",
       "      <td>0.0</td>\n",
       "      <td>0.0</td>\n",
       "      <td>0.0</td>\n",
       "      <td>0.0</td>\n",
       "      <td>1.0</td>\n",
       "    </tr>\n",
       "    <tr>\n",
       "      <th>41</th>\n",
       "      <td>4950.0</td>\n",
       "      <td>3254.650909</td>\n",
       "      <td>58581.829777</td>\n",
       "      <td>0.0</td>\n",
       "      <td>221.0</td>\n",
       "      <td>492.0</td>\n",
       "      <td>1109.00</td>\n",
       "      <td>3279160.0</td>\n",
       "      <td>4950.0</td>\n",
       "      <td>924.229495</td>\n",
       "      <td>...</td>\n",
       "      <td>0.0</td>\n",
       "      <td>1.0</td>\n",
       "      <td>4950.0</td>\n",
       "      <td>0.157374</td>\n",
       "      <td>0.364190</td>\n",
       "      <td>0.0</td>\n",
       "      <td>0.0</td>\n",
       "      <td>0.0</td>\n",
       "      <td>0.0</td>\n",
       "      <td>1.0</td>\n",
       "    </tr>\n",
       "  </tbody>\n",
       "</table>\n",
       "<p>10 rows × 88 columns</p>\n",
       "</div>"
      ],
      "text/plain": [
       "       no_followers                                                           \\\n",
       "              count          mean            std  min    25%    50%      75%   \n",
       "length                                                                         \n",
       "42           5162.0   2883.867106   52655.819395  0.0  222.0  491.5  1118.00   \n",
       "106          7390.0   7611.600812  108802.557125  0.0  182.0  520.0  1463.75   \n",
       "104         10278.0   5549.971493   80919.091560  0.0  151.0  401.0  1061.75   \n",
       "145           282.0  10777.723404   66878.477527  1.0  414.5  980.5  3593.50   \n",
       "54           6297.0   4151.208988   63810.539793  0.0  218.0  479.0  1097.00   \n",
       "153            20.0    781.400000     935.759495  4.0  128.0  503.0   965.75   \n",
       "30           3701.0   2074.844366   18159.909002  0.0  242.0  547.0  1169.00   \n",
       "135         10899.0  17816.691164  443725.859606  0.0  174.0  566.0  2039.00   \n",
       "83           7852.0  11923.580871  289711.624597  0.0  201.0  532.0  1338.00   \n",
       "41           4950.0   3254.650909   58581.829777  0.0  221.0  492.0  1109.00   \n",
       "\n",
       "                   no_followings               ... no_urls         label  \\\n",
       "               max         count         mean  ...     75%  max    count   \n",
       "length                                         ...                         \n",
       "42       2867449.0        5162.0   882.660984  ...     0.0  1.0   5162.0   \n",
       "106      5864133.0        7390.0  1397.629364  ...     1.0  3.0   7390.0   \n",
       "104      5700136.0       10278.0  1055.644483  ...     1.0  3.0  10278.0   \n",
       "145      1068313.0         282.0  2817.634752  ...     1.0  3.0    282.0   \n",
       "54       4006528.0        6297.0  1111.194696  ...     0.0  2.0   6297.0   \n",
       "153         3536.0          20.0   875.750000  ...     0.0  1.0     20.0   \n",
       "30        733236.0        3701.0   861.529857  ...     0.0  1.0   3701.0   \n",
       "135     30521734.0       10899.0  1817.258281  ...     1.0  3.0  10899.0   \n",
       "83      16718122.0        7852.0  1645.396714  ...     0.0  3.0   7852.0   \n",
       "41       3279160.0        4950.0   924.229495  ...     0.0  1.0   4950.0   \n",
       "\n",
       "                                                     \n",
       "            mean       std  min  25%  50%  75%  max  \n",
       "length                                               \n",
       "42      0.147423  0.354562  0.0  0.0  0.0  0.0  1.0  \n",
       "106     0.145196  0.352322  0.0  0.0  0.0  0.0  1.0  \n",
       "104     0.389667  0.487698  0.0  0.0  0.0  1.0  1.0  \n",
       "145     0.120567  0.326203  0.0  0.0  0.0  0.0  1.0  \n",
       "54      0.104971  0.306540  0.0  0.0  0.0  0.0  1.0  \n",
       "153     0.100000  0.307794  0.0  0.0  0.0  0.0  1.0  \n",
       "30      0.225345  0.417865  0.0  0.0  0.0  0.0  1.0  \n",
       "135     0.105423  0.307111  0.0  0.0  0.0  0.0  1.0  \n",
       "83      0.064952  0.246456  0.0  0.0  0.0  0.0  1.0  \n",
       "41      0.157374  0.364190  0.0  0.0  0.0  0.0  1.0  \n",
       "\n",
       "[10 rows x 88 columns]"
      ]
     },
     "execution_count": 9,
     "metadata": {},
     "output_type": "execute_result"
    }
   ],
   "source": [
    "# adding a length column for analyzing the length of the reviews\n",
    "\n",
    "df_pro['length'] = df_pro['tweet'].apply(len)\n",
    "\n",
    "df_pro.groupby('length').describe().sample(10)"
   ]
  },
  {
   "cell_type": "code",
   "execution_count": 10,
   "id": "round-undergraduate",
   "metadata": {
    "ExecuteTime": {
     "end_time": "2021-05-12T03:16:43.902835Z",
     "start_time": "2021-05-12T03:16:43.500330Z"
    }
   },
   "outputs": [
    {
     "data": {
      "application/vnd.plotly.v1+json": {
       "config": {
        "linkText": "Export to plot.ly",
        "plotlyServerURL": "https://plot.ly",
        "showLink": false
       },
       "data": [
        {
         "hole": 0.3,
         "labels": [
          0,
          1
         ],
         "marker": {
          "colors": [
           "lightblue",
           "pink"
          ]
         },
         "name": "Alexa",
         "type": "pie",
         "values": [
          822278,
          185471
         ]
        }
       ],
       "layout": {
        "template": {
         "data": {
          "bar": [
           {
            "error_x": {
             "color": "#2a3f5f"
            },
            "error_y": {
             "color": "#2a3f5f"
            },
            "marker": {
             "line": {
              "color": "#E5ECF6",
              "width": 0.5
             }
            },
            "type": "bar"
           }
          ],
          "barpolar": [
           {
            "marker": {
             "line": {
              "color": "#E5ECF6",
              "width": 0.5
             }
            },
            "type": "barpolar"
           }
          ],
          "carpet": [
           {
            "aaxis": {
             "endlinecolor": "#2a3f5f",
             "gridcolor": "white",
             "linecolor": "white",
             "minorgridcolor": "white",
             "startlinecolor": "#2a3f5f"
            },
            "baxis": {
             "endlinecolor": "#2a3f5f",
             "gridcolor": "white",
             "linecolor": "white",
             "minorgridcolor": "white",
             "startlinecolor": "#2a3f5f"
            },
            "type": "carpet"
           }
          ],
          "choropleth": [
           {
            "colorbar": {
             "outlinewidth": 0,
             "ticks": ""
            },
            "type": "choropleth"
           }
          ],
          "contour": [
           {
            "colorbar": {
             "outlinewidth": 0,
             "ticks": ""
            },
            "colorscale": [
             [
              0,
              "#0d0887"
             ],
             [
              0.1111111111111111,
              "#46039f"
             ],
             [
              0.2222222222222222,
              "#7201a8"
             ],
             [
              0.3333333333333333,
              "#9c179e"
             ],
             [
              0.4444444444444444,
              "#bd3786"
             ],
             [
              0.5555555555555556,
              "#d8576b"
             ],
             [
              0.6666666666666666,
              "#ed7953"
             ],
             [
              0.7777777777777778,
              "#fb9f3a"
             ],
             [
              0.8888888888888888,
              "#fdca26"
             ],
             [
              1,
              "#f0f921"
             ]
            ],
            "type": "contour"
           }
          ],
          "contourcarpet": [
           {
            "colorbar": {
             "outlinewidth": 0,
             "ticks": ""
            },
            "type": "contourcarpet"
           }
          ],
          "heatmap": [
           {
            "colorbar": {
             "outlinewidth": 0,
             "ticks": ""
            },
            "colorscale": [
             [
              0,
              "#0d0887"
             ],
             [
              0.1111111111111111,
              "#46039f"
             ],
             [
              0.2222222222222222,
              "#7201a8"
             ],
             [
              0.3333333333333333,
              "#9c179e"
             ],
             [
              0.4444444444444444,
              "#bd3786"
             ],
             [
              0.5555555555555556,
              "#d8576b"
             ],
             [
              0.6666666666666666,
              "#ed7953"
             ],
             [
              0.7777777777777778,
              "#fb9f3a"
             ],
             [
              0.8888888888888888,
              "#fdca26"
             ],
             [
              1,
              "#f0f921"
             ]
            ],
            "type": "heatmap"
           }
          ],
          "heatmapgl": [
           {
            "colorbar": {
             "outlinewidth": 0,
             "ticks": ""
            },
            "colorscale": [
             [
              0,
              "#0d0887"
             ],
             [
              0.1111111111111111,
              "#46039f"
             ],
             [
              0.2222222222222222,
              "#7201a8"
             ],
             [
              0.3333333333333333,
              "#9c179e"
             ],
             [
              0.4444444444444444,
              "#bd3786"
             ],
             [
              0.5555555555555556,
              "#d8576b"
             ],
             [
              0.6666666666666666,
              "#ed7953"
             ],
             [
              0.7777777777777778,
              "#fb9f3a"
             ],
             [
              0.8888888888888888,
              "#fdca26"
             ],
             [
              1,
              "#f0f921"
             ]
            ],
            "type": "heatmapgl"
           }
          ],
          "histogram": [
           {
            "marker": {
             "colorbar": {
              "outlinewidth": 0,
              "ticks": ""
             }
            },
            "type": "histogram"
           }
          ],
          "histogram2d": [
           {
            "colorbar": {
             "outlinewidth": 0,
             "ticks": ""
            },
            "colorscale": [
             [
              0,
              "#0d0887"
             ],
             [
              0.1111111111111111,
              "#46039f"
             ],
             [
              0.2222222222222222,
              "#7201a8"
             ],
             [
              0.3333333333333333,
              "#9c179e"
             ],
             [
              0.4444444444444444,
              "#bd3786"
             ],
             [
              0.5555555555555556,
              "#d8576b"
             ],
             [
              0.6666666666666666,
              "#ed7953"
             ],
             [
              0.7777777777777778,
              "#fb9f3a"
             ],
             [
              0.8888888888888888,
              "#fdca26"
             ],
             [
              1,
              "#f0f921"
             ]
            ],
            "type": "histogram2d"
           }
          ],
          "histogram2dcontour": [
           {
            "colorbar": {
             "outlinewidth": 0,
             "ticks": ""
            },
            "colorscale": [
             [
              0,
              "#0d0887"
             ],
             [
              0.1111111111111111,
              "#46039f"
             ],
             [
              0.2222222222222222,
              "#7201a8"
             ],
             [
              0.3333333333333333,
              "#9c179e"
             ],
             [
              0.4444444444444444,
              "#bd3786"
             ],
             [
              0.5555555555555556,
              "#d8576b"
             ],
             [
              0.6666666666666666,
              "#ed7953"
             ],
             [
              0.7777777777777778,
              "#fb9f3a"
             ],
             [
              0.8888888888888888,
              "#fdca26"
             ],
             [
              1,
              "#f0f921"
             ]
            ],
            "type": "histogram2dcontour"
           }
          ],
          "mesh3d": [
           {
            "colorbar": {
             "outlinewidth": 0,
             "ticks": ""
            },
            "type": "mesh3d"
           }
          ],
          "parcoords": [
           {
            "line": {
             "colorbar": {
              "outlinewidth": 0,
              "ticks": ""
             }
            },
            "type": "parcoords"
           }
          ],
          "pie": [
           {
            "automargin": true,
            "type": "pie"
           }
          ],
          "scatter": [
           {
            "marker": {
             "colorbar": {
              "outlinewidth": 0,
              "ticks": ""
             }
            },
            "type": "scatter"
           }
          ],
          "scatter3d": [
           {
            "line": {
             "colorbar": {
              "outlinewidth": 0,
              "ticks": ""
             }
            },
            "marker": {
             "colorbar": {
              "outlinewidth": 0,
              "ticks": ""
             }
            },
            "type": "scatter3d"
           }
          ],
          "scattercarpet": [
           {
            "marker": {
             "colorbar": {
              "outlinewidth": 0,
              "ticks": ""
             }
            },
            "type": "scattercarpet"
           }
          ],
          "scattergeo": [
           {
            "marker": {
             "colorbar": {
              "outlinewidth": 0,
              "ticks": ""
             }
            },
            "type": "scattergeo"
           }
          ],
          "scattergl": [
           {
            "marker": {
             "colorbar": {
              "outlinewidth": 0,
              "ticks": ""
             }
            },
            "type": "scattergl"
           }
          ],
          "scattermapbox": [
           {
            "marker": {
             "colorbar": {
              "outlinewidth": 0,
              "ticks": ""
             }
            },
            "type": "scattermapbox"
           }
          ],
          "scatterpolar": [
           {
            "marker": {
             "colorbar": {
              "outlinewidth": 0,
              "ticks": ""
             }
            },
            "type": "scatterpolar"
           }
          ],
          "scatterpolargl": [
           {
            "marker": {
             "colorbar": {
              "outlinewidth": 0,
              "ticks": ""
             }
            },
            "type": "scatterpolargl"
           }
          ],
          "scatterternary": [
           {
            "marker": {
             "colorbar": {
              "outlinewidth": 0,
              "ticks": ""
             }
            },
            "type": "scatterternary"
           }
          ],
          "surface": [
           {
            "colorbar": {
             "outlinewidth": 0,
             "ticks": ""
            },
            "colorscale": [
             [
              0,
              "#0d0887"
             ],
             [
              0.1111111111111111,
              "#46039f"
             ],
             [
              0.2222222222222222,
              "#7201a8"
             ],
             [
              0.3333333333333333,
              "#9c179e"
             ],
             [
              0.4444444444444444,
              "#bd3786"
             ],
             [
              0.5555555555555556,
              "#d8576b"
             ],
             [
              0.6666666666666666,
              "#ed7953"
             ],
             [
              0.7777777777777778,
              "#fb9f3a"
             ],
             [
              0.8888888888888888,
              "#fdca26"
             ],
             [
              1,
              "#f0f921"
             ]
            ],
            "type": "surface"
           }
          ],
          "table": [
           {
            "cells": {
             "fill": {
              "color": "#EBF0F8"
             },
             "line": {
              "color": "white"
             }
            },
            "header": {
             "fill": {
              "color": "#C8D4E3"
             },
             "line": {
              "color": "white"
             }
            },
            "type": "table"
           }
          ]
         },
         "layout": {
          "annotationdefaults": {
           "arrowcolor": "#2a3f5f",
           "arrowhead": 0,
           "arrowwidth": 1
          },
          "autotypenumbers": "strict",
          "coloraxis": {
           "colorbar": {
            "outlinewidth": 0,
            "ticks": ""
           }
          },
          "colorscale": {
           "diverging": [
            [
             0,
             "#8e0152"
            ],
            [
             0.1,
             "#c51b7d"
            ],
            [
             0.2,
             "#de77ae"
            ],
            [
             0.3,
             "#f1b6da"
            ],
            [
             0.4,
             "#fde0ef"
            ],
            [
             0.5,
             "#f7f7f7"
            ],
            [
             0.6,
             "#e6f5d0"
            ],
            [
             0.7,
             "#b8e186"
            ],
            [
             0.8,
             "#7fbc41"
            ],
            [
             0.9,
             "#4d9221"
            ],
            [
             1,
             "#276419"
            ]
           ],
           "sequential": [
            [
             0,
             "#0d0887"
            ],
            [
             0.1111111111111111,
             "#46039f"
            ],
            [
             0.2222222222222222,
             "#7201a8"
            ],
            [
             0.3333333333333333,
             "#9c179e"
            ],
            [
             0.4444444444444444,
             "#bd3786"
            ],
            [
             0.5555555555555556,
             "#d8576b"
            ],
            [
             0.6666666666666666,
             "#ed7953"
            ],
            [
             0.7777777777777778,
             "#fb9f3a"
            ],
            [
             0.8888888888888888,
             "#fdca26"
            ],
            [
             1,
             "#f0f921"
            ]
           ],
           "sequentialminus": [
            [
             0,
             "#0d0887"
            ],
            [
             0.1111111111111111,
             "#46039f"
            ],
            [
             0.2222222222222222,
             "#7201a8"
            ],
            [
             0.3333333333333333,
             "#9c179e"
            ],
            [
             0.4444444444444444,
             "#bd3786"
            ],
            [
             0.5555555555555556,
             "#d8576b"
            ],
            [
             0.6666666666666666,
             "#ed7953"
            ],
            [
             0.7777777777777778,
             "#fb9f3a"
            ],
            [
             0.8888888888888888,
             "#fdca26"
            ],
            [
             1,
             "#f0f921"
            ]
           ]
          },
          "colorway": [
           "#636efa",
           "#EF553B",
           "#00cc96",
           "#ab63fa",
           "#FFA15A",
           "#19d3f3",
           "#FF6692",
           "#B6E880",
           "#FF97FF",
           "#FECB52"
          ],
          "font": {
           "color": "#2a3f5f"
          },
          "geo": {
           "bgcolor": "white",
           "lakecolor": "white",
           "landcolor": "#E5ECF6",
           "showlakes": true,
           "showland": true,
           "subunitcolor": "white"
          },
          "hoverlabel": {
           "align": "left"
          },
          "hovermode": "closest",
          "mapbox": {
           "style": "light"
          },
          "paper_bgcolor": "white",
          "plot_bgcolor": "#E5ECF6",
          "polar": {
           "angularaxis": {
            "gridcolor": "white",
            "linecolor": "white",
            "ticks": ""
           },
           "bgcolor": "#E5ECF6",
           "radialaxis": {
            "gridcolor": "white",
            "linecolor": "white",
            "ticks": ""
           }
          },
          "scene": {
           "xaxis": {
            "backgroundcolor": "#E5ECF6",
            "gridcolor": "white",
            "gridwidth": 2,
            "linecolor": "white",
            "showbackground": true,
            "ticks": "",
            "zerolinecolor": "white"
           },
           "yaxis": {
            "backgroundcolor": "#E5ECF6",
            "gridcolor": "white",
            "gridwidth": 2,
            "linecolor": "white",
            "showbackground": true,
            "ticks": "",
            "zerolinecolor": "white"
           },
           "zaxis": {
            "backgroundcolor": "#E5ECF6",
            "gridcolor": "white",
            "gridwidth": 2,
            "linecolor": "white",
            "showbackground": true,
            "ticks": "",
            "zerolinecolor": "white"
           }
          },
          "shapedefaults": {
           "line": {
            "color": "#2a3f5f"
           }
          },
          "ternary": {
           "aaxis": {
            "gridcolor": "white",
            "linecolor": "white",
            "ticks": ""
           },
           "baxis": {
            "gridcolor": "white",
            "linecolor": "white",
            "ticks": ""
           },
           "bgcolor": "#E5ECF6",
           "caxis": {
            "gridcolor": "white",
            "linecolor": "white",
            "ticks": ""
           }
          },
          "title": {
           "x": 0.05
          },
          "xaxis": {
           "automargin": true,
           "gridcolor": "white",
           "linecolor": "white",
           "ticks": "",
           "title": {
            "standoff": 15
           },
           "zerolinecolor": "white",
           "zerolinewidth": 2
          },
          "yaxis": {
           "automargin": true,
           "gridcolor": "white",
           "linecolor": "white",
           "ticks": "",
           "title": {
            "standoff": 15
           },
           "zerolinecolor": "white",
           "zerolinewidth": 2
          }
         }
        },
        "title": {
         "text": "Distribution of Label for Tweets"
        }
       }
      },
      "text/html": [
       "<div>                            <div id=\"65cdf180-31b9-40c3-9430-915da6990138\" class=\"plotly-graph-div\" style=\"height:525px; width:100%;\"></div>            <script type=\"text/javascript\">                require([\"plotly\"], function(Plotly) {                    window.PLOTLYENV=window.PLOTLYENV || {};                                    if (document.getElementById(\"65cdf180-31b9-40c3-9430-915da6990138\")) {                    Plotly.newPlot(                        \"65cdf180-31b9-40c3-9430-915da6990138\",                        [{\"hole\": 0.3, \"labels\": [0, 1], \"marker\": {\"colors\": [\"lightblue\", \"pink\"]}, \"name\": \"Alexa\", \"type\": \"pie\", \"values\": [822278, 185471]}],                        {\"template\": {\"data\": {\"bar\": [{\"error_x\": {\"color\": \"#2a3f5f\"}, \"error_y\": {\"color\": \"#2a3f5f\"}, \"marker\": {\"line\": {\"color\": \"#E5ECF6\", \"width\": 0.5}}, \"type\": \"bar\"}], \"barpolar\": [{\"marker\": {\"line\": {\"color\": \"#E5ECF6\", \"width\": 0.5}}, \"type\": \"barpolar\"}], \"carpet\": [{\"aaxis\": {\"endlinecolor\": \"#2a3f5f\", \"gridcolor\": \"white\", \"linecolor\": \"white\", \"minorgridcolor\": \"white\", \"startlinecolor\": \"#2a3f5f\"}, \"baxis\": {\"endlinecolor\": \"#2a3f5f\", \"gridcolor\": \"white\", \"linecolor\": \"white\", \"minorgridcolor\": \"white\", \"startlinecolor\": \"#2a3f5f\"}, \"type\": \"carpet\"}], \"choropleth\": [{\"colorbar\": {\"outlinewidth\": 0, \"ticks\": \"\"}, \"type\": \"choropleth\"}], \"contour\": [{\"colorbar\": {\"outlinewidth\": 0, \"ticks\": \"\"}, \"colorscale\": [[0.0, \"#0d0887\"], [0.1111111111111111, \"#46039f\"], [0.2222222222222222, \"#7201a8\"], [0.3333333333333333, \"#9c179e\"], [0.4444444444444444, \"#bd3786\"], [0.5555555555555556, \"#d8576b\"], [0.6666666666666666, \"#ed7953\"], [0.7777777777777778, \"#fb9f3a\"], [0.8888888888888888, \"#fdca26\"], [1.0, \"#f0f921\"]], \"type\": \"contour\"}], \"contourcarpet\": [{\"colorbar\": {\"outlinewidth\": 0, \"ticks\": \"\"}, \"type\": \"contourcarpet\"}], \"heatmap\": [{\"colorbar\": {\"outlinewidth\": 0, \"ticks\": \"\"}, \"colorscale\": [[0.0, \"#0d0887\"], [0.1111111111111111, \"#46039f\"], [0.2222222222222222, \"#7201a8\"], [0.3333333333333333, \"#9c179e\"], [0.4444444444444444, \"#bd3786\"], [0.5555555555555556, \"#d8576b\"], [0.6666666666666666, \"#ed7953\"], [0.7777777777777778, \"#fb9f3a\"], [0.8888888888888888, \"#fdca26\"], [1.0, \"#f0f921\"]], \"type\": \"heatmap\"}], \"heatmapgl\": [{\"colorbar\": {\"outlinewidth\": 0, \"ticks\": \"\"}, \"colorscale\": [[0.0, \"#0d0887\"], [0.1111111111111111, \"#46039f\"], [0.2222222222222222, \"#7201a8\"], [0.3333333333333333, \"#9c179e\"], [0.4444444444444444, \"#bd3786\"], [0.5555555555555556, \"#d8576b\"], [0.6666666666666666, \"#ed7953\"], [0.7777777777777778, \"#fb9f3a\"], [0.8888888888888888, \"#fdca26\"], [1.0, \"#f0f921\"]], \"type\": \"heatmapgl\"}], \"histogram\": [{\"marker\": {\"colorbar\": {\"outlinewidth\": 0, \"ticks\": \"\"}}, \"type\": \"histogram\"}], \"histogram2d\": [{\"colorbar\": {\"outlinewidth\": 0, \"ticks\": \"\"}, \"colorscale\": [[0.0, \"#0d0887\"], [0.1111111111111111, \"#46039f\"], [0.2222222222222222, \"#7201a8\"], [0.3333333333333333, \"#9c179e\"], [0.4444444444444444, \"#bd3786\"], [0.5555555555555556, \"#d8576b\"], [0.6666666666666666, \"#ed7953\"], [0.7777777777777778, \"#fb9f3a\"], [0.8888888888888888, \"#fdca26\"], [1.0, \"#f0f921\"]], \"type\": \"histogram2d\"}], \"histogram2dcontour\": [{\"colorbar\": {\"outlinewidth\": 0, \"ticks\": \"\"}, \"colorscale\": [[0.0, \"#0d0887\"], [0.1111111111111111, \"#46039f\"], [0.2222222222222222, \"#7201a8\"], [0.3333333333333333, \"#9c179e\"], [0.4444444444444444, \"#bd3786\"], [0.5555555555555556, \"#d8576b\"], [0.6666666666666666, \"#ed7953\"], [0.7777777777777778, \"#fb9f3a\"], [0.8888888888888888, \"#fdca26\"], [1.0, \"#f0f921\"]], \"type\": \"histogram2dcontour\"}], \"mesh3d\": [{\"colorbar\": {\"outlinewidth\": 0, \"ticks\": \"\"}, \"type\": \"mesh3d\"}], \"parcoords\": [{\"line\": {\"colorbar\": {\"outlinewidth\": 0, \"ticks\": \"\"}}, \"type\": \"parcoords\"}], \"pie\": [{\"automargin\": true, \"type\": \"pie\"}], \"scatter\": [{\"marker\": {\"colorbar\": {\"outlinewidth\": 0, \"ticks\": \"\"}}, \"type\": \"scatter\"}], \"scatter3d\": [{\"line\": {\"colorbar\": {\"outlinewidth\": 0, \"ticks\": \"\"}}, \"marker\": {\"colorbar\": {\"outlinewidth\": 0, \"ticks\": \"\"}}, \"type\": \"scatter3d\"}], \"scattercarpet\": [{\"marker\": {\"colorbar\": {\"outlinewidth\": 0, \"ticks\": \"\"}}, \"type\": \"scattercarpet\"}], \"scattergeo\": [{\"marker\": {\"colorbar\": {\"outlinewidth\": 0, \"ticks\": \"\"}}, \"type\": \"scattergeo\"}], \"scattergl\": [{\"marker\": {\"colorbar\": {\"outlinewidth\": 0, \"ticks\": \"\"}}, \"type\": \"scattergl\"}], \"scattermapbox\": [{\"marker\": {\"colorbar\": {\"outlinewidth\": 0, \"ticks\": \"\"}}, \"type\": \"scattermapbox\"}], \"scatterpolar\": [{\"marker\": {\"colorbar\": {\"outlinewidth\": 0, \"ticks\": \"\"}}, \"type\": \"scatterpolar\"}], \"scatterpolargl\": [{\"marker\": {\"colorbar\": {\"outlinewidth\": 0, \"ticks\": \"\"}}, \"type\": \"scatterpolargl\"}], \"scatterternary\": [{\"marker\": {\"colorbar\": {\"outlinewidth\": 0, \"ticks\": \"\"}}, \"type\": \"scatterternary\"}], \"surface\": [{\"colorbar\": {\"outlinewidth\": 0, \"ticks\": \"\"}, \"colorscale\": [[0.0, \"#0d0887\"], [0.1111111111111111, \"#46039f\"], [0.2222222222222222, \"#7201a8\"], [0.3333333333333333, \"#9c179e\"], [0.4444444444444444, \"#bd3786\"], [0.5555555555555556, \"#d8576b\"], [0.6666666666666666, \"#ed7953\"], [0.7777777777777778, \"#fb9f3a\"], [0.8888888888888888, \"#fdca26\"], [1.0, \"#f0f921\"]], \"type\": \"surface\"}], \"table\": [{\"cells\": {\"fill\": {\"color\": \"#EBF0F8\"}, \"line\": {\"color\": \"white\"}}, \"header\": {\"fill\": {\"color\": \"#C8D4E3\"}, \"line\": {\"color\": \"white\"}}, \"type\": \"table\"}]}, \"layout\": {\"annotationdefaults\": {\"arrowcolor\": \"#2a3f5f\", \"arrowhead\": 0, \"arrowwidth\": 1}, \"autotypenumbers\": \"strict\", \"coloraxis\": {\"colorbar\": {\"outlinewidth\": 0, \"ticks\": \"\"}}, \"colorscale\": {\"diverging\": [[0, \"#8e0152\"], [0.1, \"#c51b7d\"], [0.2, \"#de77ae\"], [0.3, \"#f1b6da\"], [0.4, \"#fde0ef\"], [0.5, \"#f7f7f7\"], [0.6, \"#e6f5d0\"], [0.7, \"#b8e186\"], [0.8, \"#7fbc41\"], [0.9, \"#4d9221\"], [1, \"#276419\"]], \"sequential\": [[0.0, \"#0d0887\"], [0.1111111111111111, \"#46039f\"], [0.2222222222222222, \"#7201a8\"], [0.3333333333333333, \"#9c179e\"], [0.4444444444444444, \"#bd3786\"], [0.5555555555555556, \"#d8576b\"], [0.6666666666666666, \"#ed7953\"], [0.7777777777777778, \"#fb9f3a\"], [0.8888888888888888, \"#fdca26\"], [1.0, \"#f0f921\"]], \"sequentialminus\": [[0.0, \"#0d0887\"], [0.1111111111111111, \"#46039f\"], [0.2222222222222222, \"#7201a8\"], [0.3333333333333333, \"#9c179e\"], [0.4444444444444444, \"#bd3786\"], [0.5555555555555556, \"#d8576b\"], [0.6666666666666666, \"#ed7953\"], [0.7777777777777778, \"#fb9f3a\"], [0.8888888888888888, \"#fdca26\"], [1.0, \"#f0f921\"]]}, \"colorway\": [\"#636efa\", \"#EF553B\", \"#00cc96\", \"#ab63fa\", \"#FFA15A\", \"#19d3f3\", \"#FF6692\", \"#B6E880\", \"#FF97FF\", \"#FECB52\"], \"font\": {\"color\": \"#2a3f5f\"}, \"geo\": {\"bgcolor\": \"white\", \"lakecolor\": \"white\", \"landcolor\": \"#E5ECF6\", \"showlakes\": true, \"showland\": true, \"subunitcolor\": \"white\"}, \"hoverlabel\": {\"align\": \"left\"}, \"hovermode\": \"closest\", \"mapbox\": {\"style\": \"light\"}, \"paper_bgcolor\": \"white\", \"plot_bgcolor\": \"#E5ECF6\", \"polar\": {\"angularaxis\": {\"gridcolor\": \"white\", \"linecolor\": \"white\", \"ticks\": \"\"}, \"bgcolor\": \"#E5ECF6\", \"radialaxis\": {\"gridcolor\": \"white\", \"linecolor\": \"white\", \"ticks\": \"\"}}, \"scene\": {\"xaxis\": {\"backgroundcolor\": \"#E5ECF6\", \"gridcolor\": \"white\", \"gridwidth\": 2, \"linecolor\": \"white\", \"showbackground\": true, \"ticks\": \"\", \"zerolinecolor\": \"white\"}, \"yaxis\": {\"backgroundcolor\": \"#E5ECF6\", \"gridcolor\": \"white\", \"gridwidth\": 2, \"linecolor\": \"white\", \"showbackground\": true, \"ticks\": \"\", \"zerolinecolor\": \"white\"}, \"zaxis\": {\"backgroundcolor\": \"#E5ECF6\", \"gridcolor\": \"white\", \"gridwidth\": 2, \"linecolor\": \"white\", \"showbackground\": true, \"ticks\": \"\", \"zerolinecolor\": \"white\"}}, \"shapedefaults\": {\"line\": {\"color\": \"#2a3f5f\"}}, \"ternary\": {\"aaxis\": {\"gridcolor\": \"white\", \"linecolor\": \"white\", \"ticks\": \"\"}, \"baxis\": {\"gridcolor\": \"white\", \"linecolor\": \"white\", \"ticks\": \"\"}, \"bgcolor\": \"#E5ECF6\", \"caxis\": {\"gridcolor\": \"white\", \"linecolor\": \"white\", \"ticks\": \"\"}}, \"title\": {\"x\": 0.05}, \"xaxis\": {\"automargin\": true, \"gridcolor\": \"white\", \"linecolor\": \"white\", \"ticks\": \"\", \"title\": {\"standoff\": 15}, \"zerolinecolor\": \"white\", \"zerolinewidth\": 2}, \"yaxis\": {\"automargin\": true, \"gridcolor\": \"white\", \"linecolor\": \"white\", \"ticks\": \"\", \"title\": {\"standoff\": 15}, \"zerolinecolor\": \"white\", \"zerolinewidth\": 2}}}, \"title\": {\"text\": \"Distribution of Label for Tweets\"}},                        {\"responsive\": true}                    ).then(function(){\n",
       "                            \n",
       "var gd = document.getElementById('65cdf180-31b9-40c3-9430-915da6990138');\n",
       "var x = new MutationObserver(function (mutations, observer) {{\n",
       "        var display = window.getComputedStyle(gd).display;\n",
       "        if (!display || display === 'none') {{\n",
       "            console.log([gd, 'removed!']);\n",
       "            Plotly.purge(gd);\n",
       "            observer.disconnect();\n",
       "        }}\n",
       "}});\n",
       "\n",
       "// Listen for the removal of the full notebook cells\n",
       "var notebookContainer = gd.closest('#notebook-container');\n",
       "if (notebookContainer) {{\n",
       "    x.observe(notebookContainer, {childList: true});\n",
       "}}\n",
       "\n",
       "// Listen for the clearing of the current output cell\n",
       "var outputEl = gd.closest('.output');\n",
       "if (outputEl) {{\n",
       "    x.observe(outputEl, {childList: true});\n",
       "}}\n",
       "\n",
       "                        })                };                });            </script>        </div>"
      ]
     },
     "metadata": {},
     "output_type": "display_data"
    }
   ],
   "source": [
    "feedbacks = df_pro['label'].value_counts()\n",
    "\n",
    "label_feedback = feedbacks.index\n",
    "size_feedback = feedbacks.values\n",
    "\n",
    "colors = ['lightblue', 'pink']\n",
    "\n",
    "feedback_piechart = go.Pie(labels = label_feedback,\n",
    "                         values = size_feedback,\n",
    "                         marker = dict(colors = colors),\n",
    "                         name = 'Alexa', hole = 0.3)\n",
    "\n",
    "df2 = [feedback_piechart]\n",
    "\n",
    "layout = go.Layout(\n",
    "           title = 'Distribution of Label for Tweets')\n",
    "\n",
    "fig = go.Figure(data = df2,\n",
    "                 layout = layout)\n",
    "\n",
    "py.iplot(fig)"
   ]
  },
  {
   "cell_type": "code",
   "execution_count": 11,
   "id": "improving-brand",
   "metadata": {
    "ExecuteTime": {
     "end_time": "2021-05-12T03:16:44.137354Z",
     "start_time": "2021-05-12T03:16:43.904200Z"
    }
   },
   "outputs": [
    {
     "data": {
      "image/png": "[encoded data removed]",
      "text/plain": [
       "<Figure size 1080x360 with 1 Axes>"
      ]
     },
     "metadata": {
      "needs_background": "light"
     },
     "output_type": "display_data"
    }
   ],
   "source": [
    "df_pro['length'].value_counts().plot.hist(color = 'skyblue', figsize = (15, 5), bins = 50)\n",
    "plt.title('Distribution of Length in Reviews')\n",
    "plt.xlabel('lengths')\n",
    "plt.ylabel('count')\n",
    "plt.show()"
   ]
  },
  {
   "cell_type": "code",
   "execution_count": 12,
   "id": "continent-marble",
   "metadata": {
    "ExecuteTime": {
     "end_time": "2021-05-12T03:16:44.389046Z",
     "start_time": "2021-05-12T03:16:44.138846Z"
    }
   },
   "outputs": [
    {
     "data": {
      "image/png": "[encoded data removed]",
      "text/plain": [
       "<Figure size 864x504 with 1 Axes>"
      ]
     },
     "metadata": {},
     "output_type": "display_data"
    }
   ],
   "source": [
    "import warnings\n",
    "warnings.filterwarnings('ignore')\n",
    "\n",
    "plt.rcParams['figure.figsize'] = (12, 7)\n",
    "plt.style.use('fivethirtyeight')\n",
    "\n",
    "sns.boxplot(df_pro['label'], df_pro['length'], palette = 'Blues')\n",
    "plt.title(\"Length vs Label\")\n",
    "plt.show()"
   ]
  },
  {
   "cell_type": "code",
   "execution_count": 13,
   "id": "through-petite",
   "metadata": {
    "ExecuteTime": {
     "end_time": "2021-05-12T03:16:48.272565Z",
     "start_time": "2021-05-12T03:16:44.391192Z"
    }
   },
   "outputs": [
    {
     "data": {
      "image/png": "[encoded data removed]",
      "text/plain": [
       "<Figure size 864x504 with 1 Axes>"
      ]
     },
     "metadata": {},
     "output_type": "display_data"
    }
   ],
   "source": [
    "import warnings\n",
    "warnings.filterwarnings('ignore')\n",
    "\n",
    "plt.rcParams['figure.figsize'] = (12, 7)\n",
    "plt.style.use('fivethirtyeight')\n",
    "\n",
    "sns.stripplot(df_pro['label'], df_pro['length'], palette = 'Reds')\n",
    "plt.title(\"Label vs Length\")\n",
    "plt.show()"
   ]
  },
  {
   "cell_type": "code",
   "execution_count": null,
   "id": "ethical-pittsburgh",
   "metadata": {},
   "outputs": [],
   "source": []
  },
  {
   "cell_type": "code",
   "execution_count": null,
   "id": "concerned-geography",
   "metadata": {},
   "outputs": [],
   "source": []
  },
  {
   "cell_type": "code",
   "execution_count": null,
   "id": "altered-sound",
   "metadata": {},
   "outputs": [],
   "source": []
  },
  {
   "cell_type": "code",
   "execution_count": null,
   "id": "devoted-relevance",
   "metadata": {},
   "outputs": [],
   "source": []
  },
  {
   "cell_type": "code",
   "execution_count": null,
   "id": "emerging-victim",
   "metadata": {},
   "outputs": [],
   "source": []
  },
  {
   "cell_type": "code",
   "execution_count": null,
   "id": "laughing-admission",
   "metadata": {},
   "outputs": [],
   "source": []
  },
  {
   "cell_type": "code",
   "execution_count": null,
   "id": "generous-antigua",
   "metadata": {},
   "outputs": [],
   "source": []
  },
  {
   "cell_type": "markdown",
   "id": "popular-montana",
   "metadata": {},
   "source": [
    "# Model"
   ]
  },
  {
   "cell_type": "code",
   "execution_count": 14,
   "id": "copyrighted-candidate",
   "metadata": {
    "ExecuteTime": {
     "end_time": "2021-05-12T03:16:48.583734Z",
     "start_time": "2021-05-12T03:16:48.274699Z"
    }
   },
   "outputs": [],
   "source": [
    "import re\n",
    "import nltk"
   ]
  },
  {
   "cell_type": "code",
   "execution_count": 15,
   "id": "expanded-olive",
   "metadata": {
    "ExecuteTime": {
     "end_time": "2021-05-12T03:16:48.586664Z",
     "start_time": "2021-05-12T03:16:48.585008Z"
    }
   },
   "outputs": [],
   "source": [
    "# Test on 5% data\n",
    "# df_pro = df_pro.iloc[:50000,]\n",
    "# df_pro"
   ]
  },
  {
   "cell_type": "code",
   "execution_count": null,
   "id": "frozen-mineral",
   "metadata": {},
   "outputs": [],
   "source": []
  },
  {
   "cell_type": "code",
   "execution_count": 16,
   "id": "flush-plymouth",
   "metadata": {
    "ExecuteTime": {
     "end_time": "2021-05-12T03:16:48.758571Z",
     "start_time": "2021-05-12T03:16:48.588180Z"
    }
   },
   "outputs": [
    {
     "data": {
      "text/plain": [
       "['seriously ruined night',\n",
       " 'jessleac funny love pictures take really good camera hun xx',\n",
       " 'honkwas might drive could go subway mcdonalds want',\n",
       " 'bradfrost post bourne experience current project testing real devices uncovered important things',\n",
       " 'tf keep waking every  hours',\n",
       " 'yup late bout write music working ep yall released sometimeinthesummer',\n",
       " 'rt pmfacts rt jypnation pm live tour seoul time grand finale concert schedule amp ticketing announcement ht',\n",
       " 'night whole crew cuz dont really know imma lose year man love team',\n",
       " 'fgw passenger fainted am bristol gloucester train nearing filton passengers v good helping main prob heating amp overcrowded',\n",
       " 'make change artist actually talk life get hot beats go song',\n",
       " 'nd pair ghds way',\n",
       " 'theblogz kbproduction nigga need yo diaper changed cause sound hard phone nephew wanna change',\n",
       " 'daniellelopez britttanybetchh casey laying top arm tweet one hand gigantic phone fml',\n",
       " 'words fails music speaks',\n",
       " 'ever sleep milakunis youd leave lights otherwise itd like sex meggriffiin',\n",
       " 'cynthia abquintanilla thank u soo much ab making night following love yall quintanillas perez mefm',\n",
       " 'rt wsj todays smartphones roughly computing power desktop computer ',\n",
       " 'ive collected  gold coins android androidgames gameinsight',\n",
       " 'rt carolekirk one week go th may  installation first phase phd practice led research work http',\n",
       " 'make fireflies dancert gufronim lift open hand strike band egootth lead moonlit floor',\n",
       " 'rt deadct people put way much facebook',\n",
       " 'nowplaying god forbid constitution treason forgot good gforbid',\n",
       " 'rt jpdrummerimb nowplaying paramore still',\n",
       " 'ive collected  gold coins ipad ipadgames gameinsight',\n",
       " 'looks like martha stewart going match find date hmmm thats high maintenance nightmare ever saw onemy opinion',\n",
       " 'rt hazardeden tomorrow important game go finale cmon cfc',\n",
       " 'happy birthday one last time tonight beckikennedy love teamiphone',\n",
       " 'three weeksugh',\n",
       " 'beaut morn ideal run instead go work',\n",
       " 'want lay bed roses tonite sleep bed nails',\n",
       " 'ive collected  gold coins android androidgames gameinsight',\n",
       " 'ernie always pressin someone twitter weather spelling grammar errors wrong lyric hes lol',\n",
       " 'rt kingsleythest kept bra',\n",
       " 'done cheonma chingu rtyurikeelfsj tyameimei folback ne chingu gomawo',\n",
       " 'rt xleahev aw love twitter familylt',\n",
       " 'hahahahahaha last night asked fabian trina phone shit funny',\n",
       " 'rt ibnveed one dude keeps askn gon chill ugh',\n",
       " 'ive got free free face life thats ahead',\n",
       " 'google entrepreneurs read rodinhooder gurujees takeaways event',\n",
       " 'rosstoocold bigdaddyhq nigga wear sum shit like dat boss imma shoot lol',\n",
       " 'mad respect dhern guy taken lot flack lately stood front media like man love guys like dbacks',\n",
       " 'ive justin bieber favorite girl repeat day wut',\n",
       " 'rt bmosh great article performance support dr conrad gottfredson elearning',\n",
       " 'tf gotta loud',\n",
       " 'go back moment tonight night well fight till',\n",
       " 'people happy work less minimum wage free better nothing volunteers',\n",
       " 'ive met madlen airborn airport city android androidgames gameinsight',\n",
       " 'good morning peepz hw ur night',\n",
       " 'always want cant',\n",
       " 'rt jozzayyyy go college sell drugs work lay around amp chill fuck itjust',\n",
       " 'nahlahayed somalia follows iraq list countries unsolved murders journalists somalipm',\n",
       " 'rt aetony gentlemanvince celtics comin back',\n",
       " 'thyee dad last time undi also got help go dap office ask la',\n",
       " 'rt slimwontchill niggas love hoes bypass ambitious chicks everyday b',\n",
       " 'llc resulted spanish music keeping awake cos think words mean haha',\n",
       " 'one knows  percent shit youve done',\n",
       " 'rt madhousemnl finally may  pop mag horror diva lilia cuntapay cover',\n",
       " 'archieallen victoriabeckham happy birthday husband living legend kids love football gay',\n",
       " 'way work sian jurong airport sia',\n",
       " 'smoking purple ease mind rns',\n",
       " 'selffact love eat',\n",
       " 'rt tellemwatitweet cut radio im bumping johnny gill',\n",
       " 'free photo cards',\n",
       " 'loyalfreakk haha goodnight love',\n",
       " 'suppose packing im sitting couch tweeting smh',\n",
       " 'hidekoni servinio therrealted createfthings omgfunniest omgisted done following guys',\n",
       " 'belleqyna hey friend u dont follow',\n",
       " 'prairiecitypost mturk first started payout much better',\n",
       " 'marble processing mill island island even awesome pad ipadgames gameinsight',\n",
       " 'rt meaganmgoodnews please go vote eonline save deception renewdeception nbc meagangood lazofficial',\n",
       " 'im seriously scream worked day amp uploaded half video im fixing sorry',\n",
       " 'rt wwfhk last chance purchase tickets comedy fundraiser night pandamonium buy online via',\n",
       " 'enaak oh ill sure show respectlove next time im watching youre vines',\n",
       " 'ive harvested  food ipad ipadgames gameinsight',\n",
       " 'note follow',\n",
       " 'time instrumental  zoo time instrumental tweetmusic',\n",
       " 'love quote end people get angriest fat girls looking good feeling hot',\n",
       " 'well good morning today appears good day sack work early go watch speedway look swindon',\n",
       " 'nandersen woooo could never fight nicky boy though loveme',\n",
       " 'ive finished high heels id love come iphone iphonegames gameinsight',\n",
       " 'lathicharge sikh protestors  janpath shameitalianbitch',\n",
       " 'let go follow taylor right quick ask babymama name',\n",
       " 'morning tweepshave blessed day today',\n",
       " 'thejessjess yes good super cute going knife next week thats little scary love need bowie',\n",
       " 'justinbieber turkish belieber cant come concert turkey im happy beliebers love much x',\n",
       " 'rt jonshonekeys everyone needs brother lean every niallofficial love ya buddy good times',\n",
       " 'waynecain apexx ugh p',\n",
       " 'ive collected  gold coins android androidgames gameinsight',\n",
       " 'flew m totally crazy game jetpack joyride ipho',\n",
       " 'pfm hi would love hear jessicaesanchez tonight feat neyo thank',\n",
       " 'staffsnews stone rurals ukip candidate david nixon one voters put list vile homophobia xenophobia amp bigotry leaflets',\n",
       " 'new twitter freshhhh love',\n",
       " 'mophie juice pack helium iphone  review happen case amp absolute boon',\n",
       " 'wanted read convo would click',\n",
       " 'omgfacts find decent pair jockeys go  week stint turn inside back front permutations endless',\n",
       " 'hmm stupid ass alarm got liking country music',\n",
       " 'much anybody entire universe deserve love affection buddha',\n",
       " 'keeps busy thursday afternoon nailart nailaholic diy mani pedi naillover',\n",
       " 'rt ladiesofchrist thanks estacina opportunity talk jacobyshaddix phone tonight heart racing amazing',\n",
       " 'fucking shattered day roll weekend',\n",
       " 'rt rccgworldwide motive glorify god impact bless lives others go unrewarded motive crucial',\n",
       " 'stevebrocko morning steve occasion',\n",
       " 'wonderful morning jump scales two days find another lbs unsightly',\n",
       " 'rt djdodge life short quick spirit eternal thou feed soul people give love riptweet',\n",
       " 'rt occpal palestinians report incident yitzhar junction attack students arson fields burin amp hawara v rhreng http',\n",
       " 'im watching fav movie time im geeked love napoleon dynamite',\n",
       " 'cant sleep',\n",
       " 'sister came asked dressed like whore',\n",
       " 'nowplaying crooked young bring horizon',\n",
       " 'emilylawson may done wrong',\n",
       " 'know think go actually pick masters degree lol never picked thing back ',\n",
       " 'rt misslira  studio albums  live albums  live dvds  best album mark  awesome years music',\n",
       " 'rt mikegrimwade another howler aimeelmorris camera showed messi bench comes manager',\n",
       " 'bathe go find dear lio',\n",
       " 'girllllboom hoes commenting man picture like fuck yall stop teamjeezy u dont even fuck wit jeezy lol',\n",
       " 'rt shebadtho ever time go jump car',\n",
       " 'still',\n",
       " 'love worth fighting sometimes cant one fighting',\n",
       " 'cant sleep juss heree listeninng music amp thinking lt',\n",
       " 'amazing honored someone would put sign front home blessed',\n",
       " 'started updating shadow racers last night use shading model like whats seen box art xblig xna',\n",
       " 'uberfacts men would traditionally walk woman left arm right hand could free sword case duel',\n",
       " 'rt jedonwimberly ive hardest time sleeping lately im going stay social media jackiearlene goes bed',\n",
       " 'found gotta go',\n",
       " 'rt shfllly im falling keep standing still dancing standing still',\n",
       " 'jaayturtless want shit',\n",
       " 'okay guys theres todays news see later days news good one coys',\n",
       " 'rtnqubekombatha blessed day everybody',\n",
       " 'cant fall assleep',\n",
       " 'whether shame ruins guys arent music teachers would reveal face theres already',\n",
       " 'rt mileycyrus whos excited vmagazine',\n",
       " 'rt fml fmls top tip avoiding bad relationships go home someone one book  shades grey',\n",
       " 'folks countryside problem paying accommodation city',\n",
       " 'rt thewednplanner looking forward swd styling event trades hall glasgow sun th may pm excited essential every brid',\n",
       " 'incase anyone wanted know song stacy tweeting love message sends',\n",
       " 'dead body',\n",
       " 'watching weather warm sunny birthday wahoo',\n",
       " 'thisiswarped lot people talking really saying anything looking attention nomoreanswers',\n",
       " 'learn love',\n",
       " 'hye love capital',\n",
       " 'lil midnight snack cant stop eatin ampamp top im watching food channel',\n",
       " 'rt rccgworldwide motive glorify god impact bless lives others go unrewarded motive crucial',\n",
       " 'clairgs love wise dadhe never tells right decisionjust cleverly lets arrive like myselfnice twt',\n",
       " 'sounds tonights rest bowl night peeps',\n",
       " 'amd sale cpus intel combo gpu motherboard broke',\n",
       " 'rt kingxl free niggas',\n",
       " 'might go school tomorrow',\n",
       " 'darvall well thats good carry watching love masuka',\n",
       " 'givingkrishead yeah still cant register fml right nvrmind im gonna go airport amp sport real ulzzangness hehehe',\n",
       " 'rt bakarib orange moon back day amp next lifetime see',\n",
       " 'dont like googles ray doodle earlier google used intelligently mesh logo doodle pic google',\n",
       " 'cant fall asleep',\n",
       " 'mwall cathfoster thanks matt come cath lets thing thinkofthegin',\n",
       " 'bb branding matters blogs via ngrtechnosys',\n",
       " 'like mexican music u cant rap like',\n",
       " 'megat love',\n",
       " 'late night im lookin ah thot bitch',\n",
       " 'austinmahone follow mec come tijuana baja californi mexico te amolt ',\n",
       " 'mostly come night mostly',\n",
       " 'juno knows mama feeling well wont leave side second sleeping belly atm',\n",
       " 'lol idk homie da time action spoke louder words n shawty hit uturn ass',\n",
       " 'ill grow love sooner later',\n",
       " 'aight niggas suck night',\n",
       " 'working scaffold sun day top nearly weekend',\n",
       " 'rt xjapaninfo yoshiki yoshikiofficial always heart miss',\n",
       " 'worked art final watching bobs burgers listening rain',\n",
       " 'rt free download song summer sorrow listen rad',\n",
       " 'yayy gonna b sunny sunday thorpe park',\n",
       " 'zayrabarcelo seattle aberdeen general produce nothing child molesters baby rapists',\n",
       " 'mcgfamfour chicken heads love thats motto cholo lol',\n",
       " 'natural ingredients la bonne vie chocolate cupcakes coffee cake dessert sweet love smile',\n",
       " 'led zeppelin pink floyd coffee cigs judging everyone facebook',\n",
       " 'photo gayseal shotakudasai todays senior prank omfg im dying found perfect school go',\n",
       " 'early start filming morning elmstone hardwicke outside cheltenham possible housing plans',\n",
       " 'theres budget version honey sky movies right bad cant stop watching',\n",
       " 'rbreakfast youll come invicta next time come dont mind love grimmy',\n",
       " 'open thread night owls rule opinion writersavoid arguing weakest links via dailykos',\n",
       " 'prolly act like det',\n",
       " 'love golfandtravel love golf join st transafrican morocco golf tournament july ',\n",
       " '  lawd help us',\n",
       " 'world silent myanmar muslim killing muslims sacrificial lambs create',\n",
       " 'robstenmonster kristen reason smile kristen reason rob smiles',\n",
       " 'boobaddazz girl u know ur love always mind im gonna fight want time',\n",
       " 'rt sandervandoorn original mix light youtube plus downloadlink',\n",
       " 'emylaypunk sunday officially dogday dogbountyhunter mrsdogc lelandbchapman sundays  cmt cmtdogandbeth retweet',\n",
       " 'late night boba run honeydew',\n",
       " 'even retarded amount ads pandora piss',\n",
       " 'cannot stay night',\n",
       " 'need someone deep convos theres much shit mind',\n",
       " 'ohy fuck hes wearinf tgw ring te ckodn gay ring finger im screaming',\n",
       " 'new phone whatsapp ',\n",
       " 'rt mileycyrus think jesus must drive prius obama sticker bumper im  sure saw driving th',\n",
       " 'one assignment go',\n",
       " 'aza full gigahertz desktop computer form factor rasberry pi  iamnifty',\n",
       " 'unpopulargamingopinons nintendo company shat theyve grown games',\n",
       " 'roxy reynolds follows twitter responds instagram',\n",
       " 'posted  photos facebook album bhaby mhark lhance cute lt',\n",
       " 'icewitch ok well talk next time cu yea im excited dont think things fully hit yet lol im excited',\n",
       " ' ipad ipadgames gameinsight',\n",
       " 'beccawallacex happy birthday bec hope u girls good night last night x',\n",
       " 'tangsanctity heritagecrafts train excited see later x',\n",
       " 'gabekarl haha sorry gabe watching friend anyone else would say go',\n",
       " 'jktanytime  today definitely talking tax pension benefits',\n",
       " 'evelynngilbert coolzay evelynngilbert thats fwu thank homieno problem shawdy',\n",
       " 'im mcdonalds toronto',\n",
       " 'nights leave library birds chirpinggotta love em',\n",
       " 'im hoping training reserve spot initiative im putting department gets road soon',\n",
       " 'violations go ways rt hrw malaysia preelection violence intimidation online',\n",
       " 'rt mrbelzer next week piers morgan show may  discuss new book hit list book need besides dead wrong read real raw',\n",
       " 'rt emonique swear god alarm better go tomorrow morning cant late',\n",
       " 'oracle php script newsletter turbo want done php script send newsletter nee',\n",
       " 'rt arianagrande love im getting bikini wax waxer turns halfway says kids big fans',\n",
       " 'dreams ever come real ever missing someone dont know cos like whats miss may  better may  lol erm',\n",
       " 'rip chris kelly kriss kross well always remember days wore clothes backwards ripchriskelly krisskross',\n",
       " 'task plans expand completed android androidgames gameinsight',\n",
       " 'rt snlaksanii person near go would feel definitely variety flavors feel central',\n",
       " 'playing yg family playlist cellphone reading medterm na nalimot na ata ng panahonkaloka',\n",
       " 'mattycharles u booked fancy cocoon beach thurs def',\n",
       " 'ptownnn love texting',\n",
       " 'lookin girls standing',\n",
       " 'brittanafoeva sat watching phone go like ten minutes',\n",
       " 'banged head tap washing face im developing nice forehead bruise time weekend',\n",
       " 'jesus love unless gay jewish hindu muslim atheist agnostic wiccan pagan american americanchristianthoughts',\n",
       " 'soundcloud',\n",
       " 'current wished womens footwear  toms womens canvas slipon',\n",
       " 'rt myheadsaysthis westboro baptist church planning picketing funerals died bombings today could help ht',\n",
       " 'totally new answers mastermind specialist subject mcfly girl inyourface',\n",
       " 'officialrowdy interesting coz come actually think people shocked',\n",
       " 'daveboy great thank love two days aswell beause im still studying thats decent x',\n",
       " 'redtailinfy tehknuxlight least know artifacting worst tried cut much possible',\n",
       " 'realized mayday',\n",
       " 'clubby london trading scene fostered ratefixing scandal economics ecofin',\n",
       " 'maikugray ask meals side tzatziki cos love dip',\n",
       " 'courts decide legality hmrcs sweetheart tax deal goldman sachs via bbcbusiness',\n",
       " 'boston bruins open nhl playoffs  win toronto maple leafs',\n",
       " 'lord still upmy alarm going ',\n",
       " 'soundcloud',\n",
       " 'im still',\n",
       " 'rt videogamesfacts unpopulargamingopinions  yearolds xbox live nice full compliments',\n",
       " 'love parents bringing coffee morning costa lovethem',\n",
       " 'aefucker darshitgala miteshkothari champions reason much faith integrity country myhero',\n",
       " 'rt snlaksanii person near go would feel definitely variety flavors feel central',\n",
       " 'rt iamibukun pls vote ibk medilag finest male overall pls simply go select bs awards clic',\n",
       " 'rt vanniesolo niggas hate houston rest world luv doa feel yall im coming back',\n",
       " 'window shop yu',\n",
       " 'omg like  inches wet snow power im road making sure pigs comfortable till power back',\n",
       " 'love fast cars slow kisses',\n",
       " 'didnt love working newsnow much might consider applying via twittermuckrack',\n",
       " 'rt atkinguitars atkin guitar post pic serial number  guitars htt',\n",
       " 'jais fancy new hands free telephone system',\n",
       " 'rt ofigohippy need someone wont give matter many times mess',\n",
       " 'could talk night',\n",
       " 'thing sport school',\n",
       " 'got reward dispatchers assistant ipad ipadgames gameinsight',\n",
       " 'love u plenty plenty cutmayflower frds r bestmakeupbymena mztariah dafuljoyous famafunky jenbarbie tenniewest love yall',\n",
       " 'rt wtbuck humans animals keep track time animals fear time running',\n",
       " 'chinese incursion leaves india verge crisis',\n",
       " 'swear cant go back sleep like shit normal',\n",
       " 'rt scottkelby free stuff thursday adobe sneak peek raw processing tablet yesterday grid scott matt',\n",
       " 'stuckonariana borntdie love ari honey',\n",
       " 'misskissybaby dopest part followed ass welsh chick amp night sailing aww',\n",
       " 'terrifying know sorrow terrifying know cant go back happiness could',\n",
       " 'rt mileycyrus whos excited vmagazine',\n",
       " 'oritse notice worldmy idolmy heromy role modelim insperationlt ',\n",
       " 'rt cbusiness morning got mixed last night long day please support chrissawadlow goal raise ',\n",
       " 'rt jasnichole hoe scratching feet moaning yikes',\n",
       " 'iste calisan bagliligi  telling signs love job',\n",
       " 'rt gaveyoumyheartx love someone give needinstead love give feelings never thoug',\n",
       " 'dedwardians eurekamachines somuchforsoho looks tremendous gigif ever get gimme shouti want band bill',\n",
       " 'rt thedoorsnet photo tour jim morrisons restored house love street la weekly blog la weekly bloga photo tou',\n",
       " 'music awards twitter   ',\n",
       " 'heart go playing vouslt',\n",
       " 'stevee thats probably list somewhere',\n",
       " 'keep ya eyes ears open rt justactuality cousin said shes going remix called niggas love drakeimdead',\n",
       " 'ive collected  gold coins android androidgames gameinsight',\n",
       " 'rt ballystudios lazyhabitsuk littlebarrie excellent band told arthurgun supporting lb th',\n",
       " 'rt preshlive nearly  hour love war finally iloveyoumore cbrooke',\n",
       " 'rt greeny got shorts today bet goes cold',\n",
       " 'nadinetaylor helloooooo come youve facebook ages',\n",
       " 'supporting new night called hump dtla lexington music dtla goodvibes iridescentchic',\n",
       " 'rt thelifediaries protect love kiss hug hold smile laugh dont make fall',\n",
       " 'shutup bitch go sleep',\n",
       " 'smawtass dont need bitch wrecking night lol',\n",
       " 'im officially maternity leavethe waiting begins',\n",
       " 'kumailn argue guy thats ever gone lady piss taster',\n",
       " 'cschristsamba hope go training early get  week chris',\n",
       " 'micahrandall sad night show night lol prettylittleliars',\n",
       " 'lilwizmonster class mondays wednesdays',\n",
       " 'texting person day night never getting bored like much',\n",
       " 'oh love leaving early stuck much traffic ill end normal time good thing sun shining',\n",
       " 'best friends wouldnt wasnt smileyykylieee nicolllllelynnn uwontchugittho love girls',\n",
       " 'oomf looks better without dreads shrugs',\n",
       " 'trust cant love give fuck anymore',\n",
       " 'samginger',\n",
       " 'cant write paper disaster',\n",
       " 'rt snlaksanii person near go would feel definitely variety flavors feel central',\n",
       " 'lootcozartampenter win lord rings trilogythe hobbit dvdwinners chosen thursday ndmay loot',\n",
       " 'website complete class offseason football program asignment almost done',\n",
       " 'rt ltstyga dont care  minutes whole night want see',\n",
       " 'reverbnation nick laseter old birmingham countrymusic southernrock',\n",
       " 'keyonnaa still',\n",
       " 'school ugh hatevthursdays double business',\n",
       " 'rt pmillhouse check bewitching book tours tour three wishes paula millhouse',\n",
       " 'rt digitalphototrk love photography follow digitalphototrk please rt friends ',\n",
       " 'ugh want something real thats gonna last',\n",
       " 'face itchy ltltlt',\n",
       " 'got need alot cant let go',\n",
       " 'ynicsavage naww dawg well phone dry lol like niggas bmw shit hold mouth',\n",
       " 'msprettykitty jonathanrknight lmao love heffa xo',\n",
       " 'thatwhiitebitch damn got banging ass bodywould love ass face',\n",
       " 'repost shareawakening lovelifeallways',\n",
       " 'itstvnzu star trek form tvnz blowing mobile usability joke responsivedesignisntrocketscience loveu',\n",
       " 'rt lyricdaqueen case u havent heard anyone today love amazing p',\n",
       " 'didoe sent stuff together one go',\n",
       " 'thing lot girls named cassie lol',\n",
       " 'rt salespotr dont forget check stylecozas amazing sale',\n",
       " 'rt jsuonn need cut internet friends',\n",
       " 'im gonna cope next term music school ill never know',\n",
       " 'thanks christina aguilera ruining ahas take hope fall flight aids',\n",
       " 'pilates morning gym tomorrow night motivationiskey',\n",
       " 'counting pennies tuesday hawkins nowplaying listenlive',\n",
       " 'finally able stream last weeks episode tonight getglue arrow',\n",
       " 'still smell bastard smoke last night grr',\n",
       " 'gutted im around sun electromagnetic waves talks boat including brilliant anneholiday',\n",
       " 'stop thinking bout ugh',\n",
       " 'sat school drinking capri sun erm',\n",
       " 'rt factsofschool love relationship bed commitment needed sleep together every night',\n",
       " 'rt ajjuvenilez yoo jordzblake check turn lights remix via youtube rt',\n",
       " 'rt worldwideelfs im sure sjstaff nice dinnersmthg privately yesung enlists know much',\n",
       " 'wait day wont give till sound drums bring back love wait day wont give intense',\n",
       " 'minimum consecutive booking room  night free  night',\n",
       " 'im nice annoy piss screw get bad side give reason',\n",
       " 'rt mashable  types digital marketer infographic',\n",
       " 'rt fact first man survive going niagara falls later died slipping orange peel',\n",
       " 'child got start sleeping bed',\n",
       " 'understand thisismyalibi means says hurlsself bc wanna exactly dat onto wall top bldg etc',\n",
       " 'rt marilynkj noinfidel darrellissa rt amp share u stand benghazi investigationgt',\n",
       " 'mattscake u got two accounts',\n",
       " 'hotelsinatra lmao foshoo il go school one tho',\n",
       " 'seattle police clash may day protesters police resorted flashbang grenades pepper spray move',\n",
       " 'uma walk around wit head high grizzly stuntin like birdman',\n",
       " 'rt motherjones want american boots ground amp theyre likely stop squawking invasion',\n",
       " 'rt timeoutdubai confirmedrihanna play abu dhabis du arena october ',\n",
       " 'kamiltanios good morning kamil great day dear love lt kisses',\n",
       " ' telling signs love job linkedin',\n",
       " 'crawford felton talk trash another exchange knicks celtics inflamed tens',\n",
       " 'soniqsejati pict cjr cjr backstage sctv music awards',\n",
       " 'wanna fuck wit oomf',\n",
       " 'rt richardgaisford queen elizabeth hospital birmingham daybreak word mod condition  soldiers airlifted afte',\n",
       " 'ive harvested  food ipad ipadgames gameinsight',\n",
       " 'rt salutemebitches idk laka crack df',\n",
       " 'areelleviix mane folks pouring',\n",
       " 'homeandawayftw nicwestaway ye im gonna give behind start',\n",
       " 'gedct great hide centre whilst im focused hugging sideline enjoyed last night much aching got today',\n",
       " 'fun firenze florence night summer april  grease pois girl boys summernight',\n",
       " 'let go bed flight leaves  need b ready',\n",
       " 'im rocking niggas clothing brands nshit',\n",
       " 'adambakerbcfc shouldnt herbert test',\n",
       " 'emmabigggs quit moaning putting downer lovely thursday morning',\n",
       " 'shorty rich feat rocko take chancenowplaying muradio rt submitmusic follow muradio ',\n",
       " 'rt adrianusdedi w rafaell mrezanugrah dickymprasetyo ranggamoela sctv music awards ',\n",
       " 'romannnr get show',\n",
       " 'kaydensgirl lol mmkay kayden block bitching',\n",
       " 'saintknick coopinphilly still think knicks win  rondo theyre playing smart right theyre playing stupid',\n",
       " 'need love babies follow urbanplays writer sister creative geniuswith pen mybrothermarvin iu',\n",
       " 'bout change n go',\n",
       " 'forevermareee tell sexy ass sister good night lol',\n",
       " 'happy th anniversary spin bin music give adam lambert autographed album spinorbinmusicbirthday',\n",
       " 'love end ten thousand hours macklemore keeps saying welcome heist',\n",
       " 'heard thunder shit started vibrating shit hit next door notokay',\n",
       " 'tygb julianalvarez julin bruyan u take mi newsfeed twutter pls',\n",
       " 'andrewsaueriu love brother',\n",
       " 'good look mixedbyss st calichiefs customer humblemumble',\n",
       " 'comes molecules atoms fuck ok sleep next giant cloud gaseous',\n",
       " 'one true love justin',\n",
       " 'nowplaying otay north mississippi allstars',\n",
       " 'rt llanelliriots gross abuse workers doesnt go bangladesh gt abused mentally disabled iowa workers m payout http',\n",
       " 'say love sosa  times go sleep wake handcuffs bag heroin pillow',\n",
       " 'lots fun free gamesonline come seeour site love retweet',\n",
       " 'part wishes never found carried happy oblivious',\n",
       " 'jaycee thank keeping head straight always making look right path bestieevs',\n",
       " 'funny never tweets ampdont twitter app phone minute tell call via tweet phone ring',\n",
       " 'rt minutesforum registered melon voted minute yet hurry nias go vote girls',\n",
       " 'spell love like',\n",
       " 'rt billsjumbie billi want see new concerts p akskslsj',\n",
       " 'remember back yankees gunna make soccer team',\n",
       " 'rt jodyfirthracing good morning people getting closer rock  britishgt whose coming support unitedautosport markblundel',\n",
       " 'niallofficial love new display picture xx',\n",
       " 'todays stats spent  minutes twitter see much',\n",
       " 'early s clothing dope',\n",
       " 'successful marriage requires falling love many times always person mclaughlin mignon quote',\n",
       " 'nyc forecast fri  sunny high temp f occupywallstreet topprog ocra',\n",
       " 'boptimusprime yup ive seen numerous occasions get dope ass chick aint point shootin twitter chicks',\n",
       " 'rt mileycyrus whos excited vmagazine',\n",
       " 'justinbieber love ok pleaseeee notice finally',\n",
       " 'iamtich think mean music helps trough everything xxx',\n",
       " 'chau chau twoff',\n",
       " 'ricoh gr handson preview photography',\n",
       " 'amandabynes long hair dont care kind drugs bitch',\n",
       " 'rt firstpostin arun jaitley meanwhile china intruded  kms india still waiting govt reaction',\n",
       " 'love liberty disco newsboys',\n",
       " 'happy birthday beautiful bestest hope amazing holidaymiss muchlove world',\n",
       " 'ive collected  gold coins ipad ipadgames gameinsight',\n",
       " 'tyycooper think pushchair look pleasee',\n",
       " 'lterally essays exam tomorrow going gender',\n",
       " 'ugh get new music player',\n",
       " 'rt runningmanvirus always feel annoyed someone says something bad runningman whether rm scripted',\n",
       " 'nowplaying cityside citysideboys come pretty baby listennow',\n",
       " 'rt sandervandoorn original mix light youtube plus downloadlink',\n",
       " 'rt narrybro larrytattoos ugh youre perfect youre larry shipper know love',\n",
       " 'oomf hits get cursed every time',\n",
       " 'may first love first sight first date want last',\n",
       " 'lol girl said going kill facebook see people going lol thats fucked',\n",
       " 'beasty drinks gone death chill dem hoes frfr',\n",
       " 'freezing going tuck well tonight good night',\n",
       " 'esta noche miercoles de hookah party everyone free  bottles aromalounge uptown ny',\n",
       " 'next one',\n",
       " 'xambition commented yo sister pic idk u got',\n",
       " 'nu op radiovoorne simple plan love lie radiovoorne nowplaying',\n",
       " 'cant go back things used nothing ever going dont blame youre one decided leave',\n",
       " 'think im nba way black man cant nba',\n",
       " 'rt narrystagraaam rt account rate icon header bio likes need follow free',\n",
       " 'rt pauldstevens fancy  thai meal could winner am hots thehotbreakfast',\n",
       " 'voucher code shoppingfans cpa sign free today start saving much ',\n",
       " 'posted  photos facebook album ps family day',\n",
       " 'bunch homework still done finishing tomorrow presentation test ugh',\n",
       " 'love weather',\n",
       " 'soundcloud',\n",
       " 'ad campaign passing',\n",
       " 'hopefully parents decide go bww sunday dinner',\n",
       " 'ive collected  gold coins iphone iphonegames gameinsight',\n",
       " 'love friends twitter right loveyouguys',\n",
       " 'soundcloud',\n",
       " 'soundcloud',\n",
       " 'im cold without jumper im hot jumper ehhh',\n",
       " 'go screaming thrashing around crib toddler bring downstairs bottle amp diaper change',\n",
       " 'rt greatbong salman khurshid extremely anguished sarabjit singhs death onto ladakh apply clearasil acne chin',\n",
       " 'jason collins former fiancee says clue gay amp didnt cheat also clue nba conan',\n",
       " 'go',\n",
       " 'getting dressed stressful',\n",
       " 'rt rccgworldwide motive glorify god impact bless lives others go unrewarded motive crucial',\n",
       " 'youre around youre still mind',\n",
       " 'looking best promo net email infofleetdjscom',\n",
       " 'guess caught cam ehhh johnothan bermudez dont take heart',\n",
       " 'spent  hours twitter see much',\n",
       " 'rt planetrugby watch rebels take s champions chiefs friday aami park tickets sale australia http',\n",
       " 'like watching lightening count seconds till hear thunder know many miles away struck',\n",
       " 'rt merlange haitian film festival nyc im going try see toussaint louverture',\n",
       " 'rt dazzlingsparkle love fall love everything falls gets broken taylor swift',\n",
       " 'one rare nights teams win redsox bruins celtics impressive bball win new york',\n",
       " 'rt jgmaber focus women combat belittles womens mil experiences scrompvoets via atrwibben amp securityscholar http',\n",
       " 'u may hate u kept goin long time ill always love u',\n",
       " 'download pathways dissent repairpdfs',\n",
       " 'id sub dlvrd submit date done date statexpired err textjelaa follo',\n",
       " 'good night everyone hope really great day even better one tomorrow',\n",
       " 'narrypretzels donethanks x',\n",
       " 'reply',\n",
       " 'begging marty robbins nowplaying listenlive',\n",
       " 'rt mehrtarar remember ajmalkasab pakistan caught scene mayhem w ammo aftr killing many cctv evn ws protecte',\n",
       " 'billmaher girlfriend anncoulter case bill',\n",
       " 'rt cdotdope fuck go missing  years declared dead reappear  years later lls tf',\n",
       " 'damainmanfred hungry',\n",
       " 'rt hafizirfann happy birthday one idol footballer david beckham stay good cool amazing',\n",
       " 'everything much better sunny day things taste smell better whole place looks pretty sunshine',\n",
       " 'miscellaneous  im yesterday feat cher im yesterday feat cher geor music mp',\n",
       " 'weird level cranked  crushes near uuuuugh',\n",
       " 'sweetlyblunt yes things better left unsaid upfront truth better covered lie fact',\n",
       " 'ifawkkeddrizzy like looks good hairstyle ugh',\n",
       " 'rt rdbecoolin cant take life granted',\n",
       " 'thugs charliebihh fools shooting street tho',\n",
       " 'nowplaying jack starz eyes bringing localradio back cardiff',\n",
       " 'live alanahyland thank mama triciamiranda class tonight  mins late cant wait round two monday',\n",
       " 'edmsnb live suburbs well diff suburbs go local bars pick local guys amp get motel rooms lifeofaratchet',\n",
       " 'rt saraparamo im going home alone coz dont well',\n",
       " 'thats',\n",
       " 'rt lmaginations may first love first kiss first sight first date want last',\n",
       " 'want go college interview',\n",
       " 'masterchef last night hit new highs sodded food next essence owl twits spit enrobed ghostly scented jus',\n",
       " 'katerriamason uhhhh sleep',\n",
       " 'twitter dead asf',\n",
       " 'seriously made night',\n",
       " 'otl please dont anan magz photoshoot jj please please dont died',\n",
       " 'feel naked without big eyelashes sadface',\n",
       " 'rt indycinnamon job loving least tolerate judge people choose life',\n",
       " 'took snapshot jin steezinjin younow come see live',\n",
       " 'finished runtastic treadmill  mi m s runtastic pro iphone app',\n",
       " 'hope good exam',\n",
       " 'window socket attach plug window harness solar energy small converter',\n",
       " 'indie station consistantly plays great music one right like kgupfm listen tunein',\n",
       " 'iamtich never forget time tweeted backthat meant much gaining fans getting topso proud well donex',\n",
       " 'narendramodi vajpayee stop india kargil war hd every reason hit back neither congress bjp anything',\n",
       " 'night',\n",
       " 'jazziiibabii cant breathe',\n",
       " 'itsmarisag id go either way theyll still ko watch whole movie lol',\n",
       " 'rt ohhmymariee sara said oomf cutest couple even dating',\n",
       " 'sincere playing vanilla fudge keep hanginon',\n",
       " 'sian need catch medlaw',\n",
       " 'crisbatto ldx tdeeney chalobah please watch video saturday icemanhh come watford',\n",
       " 'childnotebook fighting urge put sarcastic comment someone elses status',\n",
       " 'jmdaddy real id still pretty stoked  grand nowhere near stoked id m would never fuckin work lol',\n",
       " ' college today really dont want go college officially shizzle',\n",
       " 'bought fingerpainting  handpainting flower turqoise diadem stardoll check suite',\n",
       " 'could would totally go th period tomorrow hate class',\n",
       " 'dish chairman says sprint modernization done us dish network chairman charlie ergen said w',\n",
       " 'rt mileycyrus whos excited vmagazine',\n",
       " 'told meagan good unfollowing n said noo plzz dont go god bless smiley facells know',\n",
       " 'feel dead today want bed',\n",
       " 'check mix tracks ',\n",
       " 'completed quest gathering samples android game tribez androidgames gameinsight',\n",
       " 'thats rt iamnthabi look around rt iamkushleey send bf nude pics smh',\n",
       " 'relate jennis songs love music jennirivera',\n",
       " 'live tera w pms balare amp homiez come watch amp chat go',\n",
       " 'phichai youve done great job beloved brother taksin shinawatra real cause incident behind coup',\n",
       " 'real though restinpeacechriskelly macdad krisskross',\n",
       " 'one exam morning im done yayay',\n",
       " 'photo handa photo  pretty inside via guysie',\n",
       " 'playing hot fm carolina black kat fck song click tunein gt',\n",
       " 'officialabudden haha wateverr u brian go wash ur ass',\n",
       " 'night babyy dont bull shit',\n",
       " 'rt adidasuk want join fc bayern wembley rt follow us chance win pair tix final time go allin fo',\n",
       " 'chris kelly dies ripynwathey brought musicthey fashion',\n",
       " 'thanks supernatural ive spent night watching slept  hours',\n",
       " 'download entrepreneur success mindset new ebook plr',\n",
       " 'liked youtube video thsub  weekly idol',\n",
       " 'mind',\n",
       " 'lee man charged arson manchester manchester police arrested lee man tuesday night found',\n",
       " 'god love keshasuxx sense humour conan discussing lip tattoo',\n",
       " 'wonder wonder wonder',\n",
       " 'rt thoughtsoflily eatmypeaches love id fuck yeah shituglypeoplesay',\n",
       " 'truly wish everyone could see amount selfies emmalineg took phone today guess thats selfie sundays',\n",
       " 'question today shorts',\n",
       " 'following subscribed remeao hutton facebookplease sort life',\n",
       " 'laurrnnorth lovely day jae fell asleep  last night didnt wake till  well annoyed x',\n",
       " 'im sad cant meet',\n",
       " 'govt soft every aspect daily rape cases lokpal bill italy marines swiss accounts national border capture issue wtf fb',\n",
       " 'looking suspect yo ass fronting',\n",
       " 'hijab problem jilbabcommunity majalahummi',\n",
       " 'rt niallofficial tried sign many could guys barriers gonna crash sorry well see u tonight',\n",
       " 'jesseventuragov fyi mentioned leuren moret important nuked skies interview radiation',\n",
       " 'photo  cute tumblr weheartitcom',\n",
       " 'everyone smells like rat almost nowplaying listenlive',\n",
       " 'elishalouise win give boys everyones twitter name following playlist rt done',\n",
       " 'ive harvested  food ipad ipadgames gameinsight',\n",
       " 'saw baby pool fire rolling street group  kids running cheering haha osu seniorcrawl',\n",
       " 'nowplaying one million screwednchopped polliepopthadj slowjamminscrew',\n",
       " 'youre pain love tears medicine faults keep saying youre sorry song jieun cold',\n",
       " 'love oh dearly',\n",
       " 'amppoundother sale  bedroom terraced house',\n",
       " 'funeral celtics terry much alive via recapp',\n",
       " 'sooo tierd plus side today friday',\n",
       " 'rt ayeyojetson fuck man oomf dont wanting come inside nomo say im freaky',\n",
       " 'amazon  fiesta red free sharp pain  mp fiesta red',\n",
       " 'wanted sober colleague take us taco bell please talk soon love ellen blessed worldpeace',\n",
       " 'time think day reflect life',\n",
       " 'rt rikapujjl rt afterschoolth love kpop festival friends postponed  july',\n",
       " 'ive collected  gold coins android androidgames gameinsight',\n",
       " 'mrrockets beats go hard follow mrrocketsbeats soundclick',\n",
       " 'captpickles mishsolomon tomolefe thats whats gong move us forward nation business global level',\n",
       " 'diseases ipad apps mhealth',\n",
       " 'posted interview w lovely amp amazing tesshenley philthymag check amp pick new album tues',\n",
       " 'rt ikaranazy pepsiipl chance playoffs csk need  win  games rcb  rr   mi  srh  kxi  kkr ',\n",
       " 'far good things go world realise blog',\n",
       " 'amazing fall love person didnt even notice first time meet',\n",
       " 'remember book mothers day flowers next week sunday th may collections saturday th may box us u durban',\n",
       " 'nowplaying manafest bring ruckus',\n",
       " 'need congressfree india prosperity nation modi',\n",
       " 'well love shut fuck lol',\n",
       " 'puting dip pain medication bad idea lessonlearned',\n",
       " 'theres thing gapper ugh',\n",
       " 'rt ihatequotes smart enough know whats worth keep whats worth let go wilzkanadi',\n",
       " 'needs treadmill cool cats funny video',\n",
       " 'wish tlk oomf alll night like old days oh welll tho',\n",
       " 'nsmitu discover notifications reply w dcouvrir turn back gt zai vltyeuh',\n",
       " 'love home screen much minjun',\n",
       " 'oreos oregon state pop  pills one night',\n",
       " 'thunder buddy boo thang',\n",
       " 'last releasea minimal techno tune published playtoprecords label sell many sites beatport',\n",
       " 'rt snlaksanii person near go would feel definitely variety flavors feel central',\n",
       " 'rt haarrietarnold night time worst time thinking',\n",
       " 'want stop dieting start eating start living simply go',\n",
       " 'see rt lawhollander elginwinefest weekend check fantastic wines',\n",
       " 'shubhavishva quote day love relationship marriage age distance',\n",
       " 'europa league unloved rafa focused basel mourinho continued speculation jose mourinho set',\n",
       " 'cjmackk wth following',\n",
       " 'rt mileycyrus whos excited vmagazine',\n",
       " 'breaking news english esl lesson plan eyetracking software scoopit via seanbanville',\n",
       " 'rt iamtich reading gorgeous fan mail way first school guys actually incredible tichfam means everythi',\n",
       " 'reservoirdad workingwomenaus oh dear first glance cracked iphone screen working womans anus',\n",
       " 'im gonna live life matter party night',\n",
       " 'kevincast fuck still cause youre gump',\n",
       " 'something night time makes sick literally',\n",
       " 'crazy sounds im excited work tomorrow summerstackup hours weouthere',\n",
       " 'rt paulocoelho love great loved wonderful loved person love heavenonearth',\n",
       " 'porchiaxx barblancoessex hotties coming see saturday nightput bubbles ice xxx ready x',\n",
       " 'ive collected  gold coins android androidgames gameinsight',\n",
       " 'twoff',\n",
       " 'done watching boys flowers night episode ',\n",
       " 'another note moon beautiful tonight',\n",
       " 'like last night bitched thai curry ddmfhsuk boomski',\n",
       " 'prob put dwn bks n go slp nw seeing hav wrk yawns',\n",
       " 'eatpizzadieyung slvckjaw idk ive happy lately feel like winner yeaaah',\n",
       " 'jaymez ah sound love moving stressful whats plan today toppinguptan lol',\n",
       " 'ehem fxstanley rtclauren always move',\n",
       " 'rt stonedwonka old chick calling im new thangs still dime always lose change',\n",
       " 'f natural summer way got rude awakening tonight lol hair frizzed like nobodys business',\n",
       " 'youre dumb know hes like',\n",
       " 'thats win rt justnisha hen amp waffle house end night',\n",
       " 'rt worldwideelfs im sure sjstaff nice dinnersmthg privately yesung enlists know much',\n",
       " 'star trek hangover  fast amp furious  five mustwatch may movies see wedding',\n",
       " 'tribez great game try become tribal leader iphone iphonegames gameinsight',\n",
       " 'jiadarola due time friend great segment congrats great success tytu',\n",
       " 'everytime go know gotta show',\n",
       " 'page   city fallen angels cassandra clare',\n",
       " 'go bed telling abby good night ltlt',\n",
       " 'tells boo dont think use money wanna waste kfc cook us wife',\n",
       " 'hollielamusic time wake good night hope see day',\n",
       " 'ebonisa good done never happened braces',\n",
       " 'rt dbandstra drunk wednesday night fck',\n",
       " 'justinbieberid throwbackthursday try put smile face galau',\n",
       " 'elwaythegr let work magic thats dont phone dont need distractions',\n",
       " 'rt berpijarrr check download necropilys division suffering',\n",
       " 'tamwishart paulk haddow calm phil slim cause u spent money drink alkibastard albertsquareultras',\n",
       " 'wifi u c k night guise',\n",
       " 'tiffanycarr coursewhy would bewell get moves onto little dance',\n",
       " 'im ranked experienced top  dont starve raptr',\n",
       " 'rt neverknownfacts staying late helps body burn extra   calories night',\n",
       " 'rt lacheston mgandhi frat everyone go follow fam troysigmas troyzetazetamu blunwhutefam bww',\n",
       " 'hello every month doodzmusic make top  space chart beatport',\n",
       " 'rt worldwideelfs im sure sjstaff nice dinnersmthg privately yesung enlists know much',\n",
       " 'could rewind every time someone spoke without consent good bad would take whywhy foodforthought',\n",
       " 'oomf get crip',\n",
       " 'rt kanetw rt cheer waterloo road day hours counting guys bbcone pm xx',\n",
       " 'cafeteria island island even awesome iphone iphonegames gameinsight',\n",
       " 'place bets herewill sophiebowtell go tattoo today run away shitty pants twit twooo',\n",
       " 'rt bruntwoodprize deadline approaches join us lounge tonight rxtheatre advice redrafting things bruntwoodpr',\n",
       " 'almost am im still thinkin aint never thought much life guess go challenges thinkin man best feeling',\n",
       " 'kfalkler hahaha wasnt putting clothes yolo',\n",
       " 'kingshitfrog omfg lmao deadass ill walk home butt ass nekid socks son',\n",
       " 'jwyatt dont mate point want watch brighton joshua',\n",
       " 'really love asking alexandria',\n",
       " 'rt madamrauhl love like makes think sexual thoughts justin',\n",
       " 'whats love theres respect',\n",
       " 'rt ajenglish opinion may day reflecting bangladesh factory disaster corporate terror',\n",
       " 'loved literally repeat since came brilliant album michaelbuble',\n",
       " 'dont owe dont owe one night',\n",
       " ' licensed drivers india roads dont know drive single biggest reason accidents',\n",
       " 'completed quest mysteries android game tribez androidgames gameinsight',\n",
       " 'dropped phone case got scratched dented bitwas get mad like case ww',\n",
       " 'soookriss kross wont putting album anytime soon seriously tho sad hear death mac daddy krisskross',\n",
       " 'summer glau fucking bus im even joking',\n",
       " 'got platanitos suck fuckers got',\n",
       " 'ive harvested  food iphone iphonegames gameinsight',\n",
       " 'hardly go anymore',\n",
       " 'didnt mean make cry get cold im alone night',\n",
       " 'completed quest build cottage ipad game tribez ipadgames gameinsight',\n",
       " 'bad boy ready bass dj yo get case get hyper',\n",
       " 'rt andesandoval ceceelila girl espresso beans love',\n",
       " 'odinnot nextdoorstudios codycummings hunterpagexxx hed sit cocks real would interesting',\n",
       " 'rt toerieal cnt wait fall love',\n",
       " 'shatterr brand new phonw fuck upu quad slam',\n",
       " 'love feeling get chills idk get',\n",
       " 'get distracted easy im computer hopefully final isnt hard',\n",
       " 'best test',\n",
       " 'imnotalfie kisses softly hand chest shuffles trying get closer know sammy',\n",
       " 'one thing want life right iphone ',\n",
       " 'nowplaying stevie wonder really love lastfm',\n",
       " 'writing music iphone bcuz im bored lol',\n",
       " 'cold sore nose brill',\n",
       " 'cold person cold suspicious eyes slowly melted little drops kindness love kindness makeadifference friendship',\n",
       " 'nowplaying absoluteradio take franz ferdinand',\n",
       " 'att ftu fans forfeit thee untrue itunes amp ep blood soaked splinter u prefer mp cd go get',\n",
       " 'queeenofthetrap heard right mission college right definitely go harass',\n",
       " 'im watching gareth bale pfa player',\n",
       " 'mantiquilla asikomer hackasik fail shot smooth',\n",
       " 'rt moniquesimonee wanna go date somewhere nice',\n",
       " 'katiebarkey wont ready  cause wont til like half  wont done til like  id get ready',\n",
       " 'khmontgomery lol',\n",
       " 'go secret department already discovered location ipad ipadgames gameinsight',\n",
       " 'completed quest find  hammers q ipad game tribez ipadgames gameinsight',\n",
       " 'colored jelly glass gift co worker love',\n",
       " 'abcwnn insomniacs happy help us get long nights great thanks',\n",
       " 'braduniarts untheatre hell yeah also logistically speaking think requested mornings lets go awesome one',\n",
       " 'idinamenzel kchenoweth singing wicked soundtrack puts good mood mornings happy',\n",
       " 'check whatsapp messenger android iphone nokia blackberry windows phone download today',\n",
       " 'cant girl fan spurs rockets knicks amp cowboys',\n",
       " 'ricallllle east side scares ghetto hey watch ur mouth lol jk',\n",
       " 'law giving never fails thats always find richest people give',\n",
       " 'thenamesvarun x idk fuckshit tired xd ok im night tomorrow',\n",
       " 'many plans summer excited make happen',\n",
       " 'theres bee bus',\n",
       " 'tawanicolas sometimes im listening music times im sleeping',\n",
       " ' hours goand told im working saturday sunday lovely',\n",
       " 'dont appreciate acts love needing much feel like phony idk im crazy',\n",
       " 'late night thoughts nigga mission',\n",
       " 'done sweetheart rt kgomonono phumikhoza pfb',\n",
       " 'monster mothers tell children night',\n",
       " 'oooo nasty im telling rt molstdbythesun sirvaughan occasion tryna find lil summer fling lol',\n",
       " 'world lost angel last night lt iloveyou',\n",
       " 'consistent love always fear inconsistent love consistency breeds stability relationship',\n",
       " 'good night thank god',\n",
       " 'keep people life love motivate inspire encourage enhance people non let go',\n",
       " 'ive collected  gold coins ipad ipadgames gameinsight',\n",
       " 'selffact think im love leryn lerynfranco',\n",
       " 'check jbatters never ft yung mari sub amp like follow jbatters repost',\n",
       " 'rt grecova icumonfaces ya late night instagram chill last pix aint',\n",
       " 'bio joke lol im done life much studying',\n",
       " 'bought stardesign hair stardoll check suite',\n",
       " 'six shows done six go thursday rocking faithevans bell biv devoe yup seasonthree like versesandflow',\n",
       " 'want movie night ill get whole bunch pizza job bitches bring movies though lol',\n",
       " 'schmoopie ncat doin math problem  morning achievers',\n",
       " 'rt choicefm chris kelly kriss kross dies aged rip thank blessing us music',\n",
       " 'bring love baby bring shame',\n",
       " 'rt suzipeep kieshas mother admits manslaughter worth revisiting abcnews special beating odds',\n",
       " 'mind right',\n",
       " 'rayzi silent night rayzis guitar music nowplaying',\n",
       " 'esmememb hate saying tough love love tough tough learnin',\n",
       " 'yup roll right',\n",
       " 'xavierbryant whatever well see tomorrow looking dead',\n",
       " 'dont really social media daybut night biggest form entertainment stcenturydigitalboyproblems',\n",
       " 'song call fame playing coastcoastfm tune live',\n",
       " 'ill never understand alcohol makes people got dam tough',\n",
       " 'hold fuck upwhere caleb going going ravenswood haleb heart hurt',\n",
       " 'sometimes life makes sense night day',\n",
       " 'healthdietfood truth detox diets hrs diet update',\n",
       " 'beatw suspicious person xx block  av sw reported   pm call ',\n",
       " 'ive harvested  food android androidgames gameinsight',\n",
       " 'saved lot money payment switching natural hair smh',\n",
       " 'rt camillalong interview wow rt lindapalermo respect levels sharleen spiteri roof h',\n",
       " 'redheadwytch lisabud u go sorry send u virtual one buy real one nearest store',\n",
       " 'xtabi omo thinking freaking excited rn',\n",
       " 'xstrology libra wants everyone happy',\n",
       " 'want stop dietingto start eating start living simply go',\n",
       " 'cant wait emmas meal tomorrow night shandwick food',\n",
       " 'rt narendramodiin coal reach asking karnataka pm must answer sitting coal narendramodi',\n",
       " 'rt kellyclarkson congrats top  girls idol youre talented theres one winner doesnt mean cant',\n",
       " 'rt brandometry stephanie really needs go bed tho',\n",
       " 'check pins pinterest',\n",
       " 'hmmm oomf frustrated',\n",
       " 'think know badly fricking upsets annoys',\n",
       " 'soon call curse makemyvideo',\n",
       " 'rt broadcastmoose day  west ham beat preston  win fa cup first time',\n",
       " 'love mitch together havent major fights breaks realationship maturecouples efflittlekidshit',\n",
       " 'facebook chianti wine tasting night ',\n",
       " 'namoinmlr live telecast internet due erroris fixed bjpkarnataka',\n",
       " 'teen heartthrob twitter officialmarko cant believe still married tbh',\n",
       " 'market real estate roots cooper unions crisis',\n",
       " 'added stardesign hair sale stardoll check',\n",
       " 'staying late watching jodiannarias trial heck gonna free time thing finally',\n",
       " 'cdejmn might hit rappers ball players know hit first ray j utterly juvenile',\n",
       " 'yea gotcha stay good aiit konjiboitwit helenahbk aii dear checking ya',\n",
       " 'photoset hes black please come dont see color god people people',\n",
       " 'trapped  set take tomorrow blue frogdelhi tomorrow night ready musical',\n",
       " 'scene family guy lmfao',\n",
       " 'cameron drops plan plain cigarette packaging urged focus core policies',\n",
       " 'good morning boye show gidilounge radio',\n",
       " 'dont talk money thats cant understand',\n",
       " 'rt kellyclarkson congrats top  girls idol youre talented theres one winner doesnt mean cant',\n",
       " 'tragedydotcom miss dad old tho dont exist anymore thats dont even bother',\n",
       " 'wish could get bus go home',\n",
       " 'last one night ill see yall tomorrow',\n",
       " 'lol jk go pour little simp hearts twitter',\n",
       " 'disneyecho hehehe oopsi wqs thirsty way hic',\n",
       " 'rt mileycyrus got fans dirrrrty minds damn love yall sooooo much hurts',\n",
       " 'rt howtobeprada arent jetskis called boatercycles',\n",
       " 'okay seen oomf tl happened',\n",
       " 'even bother lol',\n",
       " 'daily reflection deuteronomy  proclaim greatness god reflection dont talk',\n",
       " 'bad grammar could lead destruction civilisation another stunning revelation bbclive',\n",
       " 'real shiit thought nighas bad lol today saw females aint shiit bit better',\n",
       " 'aint go said got movement tomorrow mf',\n",
       " 'good morning text mean good morning silent love message saysi think wake',\n",
       " 'zachariahbrian love show',\n",
       " 'hear x follow lastking soundcloud',\n",
       " 'someone doesnt fucking know something works tries lecture calmthefuckdowm',\n",
       " 'oasis office sun ismellagoodday',\n",
       " 'bags packed im ready go ahh cocik banget',\n",
       " 'kris kross billboard chart history jump additionally topped billboards rap songs chart f music online',\n",
       " 'rt russlerrrr girls  like magically beautiful',\n",
       " 'rt beckielouu smoke weed regular basis twat life',\n",
       " 'game service resumed hrs',\n",
       " 'longest night work life fuckingbedtime feet throbbing',\n",
       " 'seriously freaking hard find nice clock looked  towns cant find anything oh ',\n",
       " 'thunder need better guard play dont like whole durant pointforward offense thunder',\n",
       " 'justinbieber course love',\n",
       " 'rt sanagkmel im appreciative followers love follow outta hate love im',\n",
       " 'thoo look lolmarkpmoj lol mi still ah dead rt superjodi forehead markpmoj forward like road',\n",
       " 'love dont cost thingxoxo',\n",
       " 'bustanut know well night',\n",
       " 'thats metaphor iwhy iit hard say goodbye',\n",
       " 'love first sight',\n",
       " 'therealbabyb nooooo please dont tell really lil bro made vs mod look good tv lolo',\n",
       " 'sibrow en yes doesnt work whilst battery power',\n",
       " 'donfizo yh wats new go come bak earlyy mao sha jst expect',\n",
       " 'managed finish dust eyes assignment try ipad ipadgames gameinsig',\n",
       " 'fuck w marvel whole really characters pretty dope spiderman dopest',\n",
       " 'confusing holy',\n",
       " 'rt themrmizo earn cash uploading videos youtube',\n",
       " 'want take butter knife amp scrape damn butter nigga teeth amp spread damn toast',\n",
       " 'want hair done go want nails done go want get tatted go want go go',\n",
       " 'hella windy',\n",
       " 'bodgmattandjojo capbreakfast love head night n morning cant buy itunes chuffin',\n",
       " 'rt elfriendsone jessica memenangkan polling female celebrity korean boys want date first snowfall year jessicafa',\n",
       " 'rt kierrah niggas old phonei call one go home',\n",
       " 'summer ill partying weekdays',\n",
       " 'ive collected  gold coins android androidgames gameinsight',\n",
       " 'sinisterbasis well seen new minecraft videos creature hub',\n",
       " 'rt antarnational aboriginal actors refused rides  melbourne taxis racially abused tram',\n",
       " 'rt sandwellleader day  years ago first elected sandwell council privilege day represent great folk',\n",
       " 'rt djdbf trapmusic gt way bros kennymactsm x djpexclusivez helping support big bruh amp http',\n",
       " 'kiss god gave rock roll ii hq music video  via youtube',\n",
       " 'punch landscape deck patio v download encore software platform detskifotograf',\n",
       " 'rt animalsneedus petition make animal abuse serious offense via causes',\n",
       " 'rt lukebrooks hey auz gals tickets go sale tomorrow bday would awesome present bought tickets cam',\n",
       " 'reached level  tribez join try overtake ipad ipadgames gameinsight',\n",
       " 'craigbroad seaneastwood dont hurt lad im next week u prob champions half life im glad done',\n",
       " 'rt obefiend heard milo suam kena tangkap writing indelible ink story heard  others also kena tangkap papagomo g',\n",
       " 'savcuhh xandercuhh tf mytwin android emoji looks better haa',\n",
       " 'unfriending people im actually friends facebook exhilarating  seconds',\n",
       " 'look brezz call bukkyliciouss call na brezz u go dey look rt tcomptondodo u ave numba rt cont',\n",
       " 'new positions various clubs campus run  twitter accts  instagrams post  fbs addition',\n",
       " 'rt manutdfact day  manutd first top flight title  years first  premier league title',\n",
       " 'knew id bad eye',\n",
       " 'keeping mind tomorrow finished done',\n",
       " 'rt nolzbcrazy ralf gum ft monique bingham exsoopastar sings take love house song twoogle',\n",
       " ' precipitation sunday thats lcg weather report',\n",
       " 'stone processing mill island island even awesome pad ipadgames gameinsight',\n",
       " 'samtwiston bro pic snapchat',\n",
       " 'ive collected  gold coins android androidgames gameinsight',\n",
       " 'amazing show berlin last night aalen today',\n",
       " 'imgabeath u r sooooo hot cute smexy love lt',\n",
       " 'rt dryazzy naso iamjohnexy love contentment love someone contented',\n",
       " 'multiple online businesses alms fee nonconformist discounts route customers forwardlooking stem jo',\n",
       " 'bieberthelucky lmao idk maybe ill still love xx',\n",
       " 'u knew hw many ya bfs frnds ar aware hes cheating u ull regret hw many times u served dem jollof rice witout poisoning',\n",
       " 'wish phone would vibrate right name comes screen',\n",
       " 'tomevans mad tings gwarn  thursday',\n",
       " 'wooooii im actually bus ',\n",
       " 'photo horrible see flag go husband wife deceased soldier',\n",
       " 'win wine drink special occasions worth r',\n",
       " 'spinning owl city owlcity dreams disasters right',\n",
       " 'got woken police officers  least caught people burglarising cars street nd time around',\n",
       " 'waiting darlin dont afraid loved thousand years ill love thousand',\n",
       " 'way paris support bas verwijlen',\n",
       " 'ive collected  gold coins iphone iphonegames gameinsight',\n",
       " 'twitter world know djdomenico absolute best always looking mewhether like haha love ya cuz',\n",
       " 'wish someone twitter realise person following back well know got gift',\n",
       " 'ive harvested  food iphone iphonegames gameinsight',\n",
       " 'arturoo cant wait wake early go school saidnooneever',\n",
       " 'nestlemedia congratulations top  attractive employer ranking germany',\n",
       " 'got overly excited snapchat notification tiffanylillian',\n",
       " 'heard someone looks sexy new music video lmao',\n",
       " 'edgeofarabias next exhibition rhizoma generation waiting ft  saudi artists st saudi event venice labiennale',\n",
       " 'night',\n",
       " 'ive harvested  food iphone iphonegames gameinsight',\n",
       " 'far good things go world realise blog',\n",
       " 'kataclysmik useless',\n",
       " 'harrystyles hi harry question cut curls miss still love new hair',\n",
       " 'lol see scandal post  morning',\n",
       " 'jaybothroyd dinner holiday jamaica back  soo funny loved music jumpjump',\n",
       " 'study shit review find aint shit review test dafuq',\n",
       " 'far good things go world realise blog',\n",
       " 'call fireman mainly turn hoes',\n",
       " 'juand padt youve always one could get stuff done',\n",
       " 'rt emmacalin daniela sacerdoti loveahappyending lifestyle bookshelf plus bwpublishing amp book reviewer dizzyclbb lahe',\n",
       " 'ive collected  gold coins android androidgames gameinsight',\n",
       " 'bringing thurs tho mayweekend reggae vs hiphop',\n",
       " 'jasonofflorida find friend mine experiences thing runchat',\n",
       " 'casarralove im bout shout ig watch get black guys following lol',\n",
       " 'sussexmouette good morning nick nice photo fantastic thursday like us fb well return like',\n",
       " 'uesa love live muse  via youtube',\n",
       " 'im gunna thinking bout allllll night',\n",
       " 'ease night',\n",
       " 'sosabbytrill go sleeep pass curfew shawtyy shawtyy',\n",
       " 'need light burning low miss sun starts snow miss lover let go',\n",
       " 'happy birthday one hannahlrd hope great day love xxx',\n",
       " 'rt stonedwonka wanna go n get high smoke l back benzy',\n",
       " 'sunnydanielaaa dude thats dont talk ready fuck freshman year durring soccer xd',\n",
       " 'nowplaying awake riddle album butterfly effect',\n",
       " 'sarahserrao haha like damn hacked th time hahaha feel love  miles apart',\n",
       " 'rt aliciakeys hope youre ready premiere video new day vevo lets go babyyy',\n",
       " 'made new achievement stormtro try beat ipad game tribez ipadgames gameinsight',\n",
       " 'rt skysportsnews allgerman champions league final wembley action amp reaction bayern munichs record aggregate',\n",
       " 'savfu guy fights twitter like unicorns',\n",
       " 'let circle love grow wide reaches farthest corner universe',\n",
       " 'thatgirljanayy questhekid cuz using laptop listening music haha oh lol',\n",
       " 'wanna kill cousin',\n",
       " 'hey monsters help us get ladygaga cover jadoremagazine tweet amp let know love gaga jadore hausoflucas',\n",
       " 'kids still dnt want anymore write ups',\n",
       " 'rt buzztanta wts drumbagus  set meinl mcs minus hihat free med crash meinl classic dijamin masi kinclong smuaharga bersahabat',\n",
       " 'arent snooze minutes long microwave minutes dontwanttogetup',\n",
       " 'click survey link share preferences next meet',\n",
       " 'lol oh ok ok scooter purplehazedoll wooptywoopdaze fr lol got like  names could anybody ok im done lol',\n",
       " 'hurting much oh yeah cause actually fucking care',\n",
       " 'rt lampetarian powerful words bbclive bethyb caring dementia heartily recommend blog',\n",
       " 'rt swainy mark ella rugbyhq tonight full lionsofficial wrap seanny caught george smith plus jhorwill liambradle',\n",
       " 'rt caitiec cinnamon roll would go really hard right',\n",
       " 'hyukjae cry tt ssperu',\n",
       " 'rt sgkid selffact  types twitter real life family friends',\n",
       " 'rt kathyllogan rt aardvarkfilms last day free kindle shoulders giants jake abraham mystery  reviews ',\n",
       " 'forever love thursday mornings',\n",
       " 'ive collected  gold coins ipad ipadgames gameinsight',\n",
       " 'one motherfucking bird likes sit car shit side swear god bird diarrhea',\n",
       " 'rt kmalone dmsonenet neeseplush yeah thought pretty cool see stuff  tv lol',\n",
       " 'rt richieheinz weapon update halo goes live june rd wonder means agl knoxville june  halo',\n",
       " 'jasberryxo awww shoot u lost love miley chanel iman bad',\n",
       " 'rt natgeo meet tinkerbella one worlds smallest wasps species',\n",
       " 'aint shit fr',\n",
       " 'mileycyrus trying published italy anyway english copy translated yet fans love',\n",
       " 'teajack else earth internet',\n",
       " 'rt themichaelowen bookmaking friend mine informed spain would slight favourites game played neu',\n",
       " 'lol daze done changed tweet n shit smh',\n",
       " 'awww wonder phone aint go offit died lol',\n",
       " 'im  n bitch aint shit meput ya hands real chick n thats first degree',\n",
       " 'fact block ex ig smh grow',\n",
       " ' first rd playoffs weirdkeep mind team resting champs last yr nobueno',\n",
       " 'rt mtvnews kris kross chris kelly dead ',\n",
       " 'falling asleep ugh',\n",
       " '  training events like facebook business page',\n",
       " 'rt foxpitteventing sun shining amp time one best  days beventing ever seen bring bhorsetrials mmbht',\n",
       " 'morning hun mzcherrryberrry ur night',\n",
       " 'blasted shwayze mrciscoadler buzzin s s pigseyepub get rt bday',\n",
       " 'turned netflix tried watching prison break bed made mistake knowing would stay watch',\n",
       " 'mileycyrus whos excited vmagazine gorgeous',\n",
       " 'rt fuckkakes love averdeezaaa lt always hits random love yous thank love lt',\n",
       " 'kingmac im lyin im dead ass serious',\n",
       " 'rt pivotar avengers sister director fury jumps helicopter right ground beneath collapses made th',\n",
       " 'love dirt drawssss',\n",
       " 'one thang aint never bitch nigga rtredrumxo lookin like rich nigga glidin bitch niggas',\n",
       " 'new joint feel like im winning delorean featuring trae tha truth produced big kri',\n",
       " 'fun times keep rolling anothernightout lastfewmonthofmys fun friends',\n",
       " 'able go sleep early ltltlt',\n",
       " 'detroitheem man shit wasnt news nothing working lol talking bout justin',\n",
       " 'mileycyrus whos excited vmagazine shes gross looking fucking nasty',\n",
       " 'damn need music make day berranp every goddamn lilwayne track',\n",
       " 'rt smellmytulips daddy like tyler loves everything love lakers cowboys dodgers im last number one',\n",
       " 'new making drakes girls love beyonc source dopeboyz previously drake perf via midwestmonstars',\n",
       " 'rt roydtolkien lovely stuff giant pat back us hobbit fans votebilbo upyourassvotesnowwhite',\n",
       " 'channel seriously melbourne people wait  hour watch thefootyshownrl straight theaflfootyshow',\n",
       " 'never mood double sociology ugh',\n",
       " 'aisnebucsit flight got delayed way pa langlt',\n",
       " 'amberlynnegirl hey amber would love play wow u u happen server help u raids let know',\n",
       " 'need jury rig lights board lights bag vision',\n",
       " 'teamfollowback retweet follow ill follow back sbabyfollowtrain autofollowback instantfollowback aday aday aday',\n",
       " 'ive collected  gold coins android androidgames gameinsight',\n",
       " 'murphman yes mike able download',\n",
       " 'dzuh rt frozenbubblez bigdaddyza always preached never show face nudes',\n",
       " 'theres water floor sha u come ur bathemsinny light water',\n",
       " 'aight im going depressed little bit go pick romel school bit fail final go depressed',\n",
       " 'well look sorry rain parade youre way young',\n",
       " 'rt advancingtheart sometimes ill look moon wonder assure youre alright fall asleep another n',\n",
       " ' days stomach muscles still aching yoga',\n",
       " 'imctime love campaign blendtec innovative intriguing imctime',\n",
       " 'truth told lies unfold anything anyone ever ignored come back settle old scores',\n",
       " 'couldnt believe nice omfg love ms lehmans personality hate makes us condition',\n",
       " 'conceptuno lol oops youre watch list',\n",
       " 'tiffanyfrance pelicandick terrible artist show telling people sing notgibberish pop rap',\n",
       " 'need trey songz replay',\n",
       " 'rt ukuncut great hear ukuncutlegal bbcrtoday morning court case hmrcgoldman sachs today good luck',\n",
       " 'dont even know phone tbh one ever talks anyway',\n",
       " 'malikitpossible funny gross haha mums like jersey smell like banana awks haha',\n",
       " 'still full',\n",
       " 'rt rupertmoon clears tv rights looks like top bbcscrumv yclwbrygbi',\n",
       " 'elissakh gd morning alloussss soooo excited tonight u amp ur girls rock always elissaxfactor xfactorarabia',\n",
       " 'done',\n",
       " 'honestly say youve mind since woke today goodbye',\n",
       " 'oomf thick af face little ew',\n",
       " 'failures nothing commercials lives come every show focus god show',\n",
       " 'shirt backwards lol',\n",
       " 'love everyones always happier sunny',\n",
       " 'kostb oh im already ass u tell said',\n",
       " 'beautiful dream last night thank nicky youre guardian angel sent troubled times',\n",
       " 'notasheepagoat  milions jews behind  treeif muslims see massive oak tree think might go see behind know trick',\n",
       " 'ive harvested  food android androidgames gameinsight',\n",
       " 'call official night lol',\n",
       " 'scale  honest ',\n",
       " 'fuck ima let loose track feel',\n",
       " 'indokidd wauw love much  days fake bitches',\n",
       " 'rt bkazmo amen rt prayerbullets part holy nation blessed ps  prayer',\n",
       " 'rt melodieramone ultimate family love story full depth honesty joy forever ends review',\n",
       " 'legoodlife fwm friday night fuckfrench im busy work',\n",
       " 'bazingagurl done thank u',\n",
       " 'asapofficial confirmed mindblowing collab sarah g bamboothis sunday asapfiercedemayo thevoiceph battleround treat',\n",
       " 'mynameisjerm iamtshireletso hand cows advantages women cows four tits example',\n",
       " 'ive collected  gold coins android androidgames gameinsight',\n",
       " 'kingjames love play baby',\n",
       " 'nice weather lets go feed ducks',\n",
       " 'rt revolvermag  hrs goldengods black carpet watch unfold pst axstv xboxlive facebook',\n",
       " 'rt niticentral narendramodi gujarat capacity  megawatt capacity facilities shut policy c',\n",
       " 'awake time',\n",
       " 'grandad spelt name wrong birthday card',\n",
       " 'rt stylatorhomies new magazine nice flips page flips page flips page oh well know one direction quiz br',\n",
       " 'think one girls high school amanda bynes breakdown facebook posts weird af',\n",
       " 'tdavis amandabynes would follow comedy purposes im afraid ill end zoloft cpl tweets',\n",
       " 'rt duckdynastyae autographed dariusrucker guitar could duckdynasty',\n",
       " 'ask im confident im fucking princess thats',\n",
       " 'love weather',\n",
       " 'no thundersagain ramones sonics samampdave freda payne abones woggles black flag records hangnashville missed boobs',\n",
       " 'understand tired right',\n",
       " 'rt kingdom people tweet craziest shit third shift twitter',\n",
       " 'holla bbafc whatsapp ',\n",
       " ...]"
      ]
     },
     "execution_count": 16,
     "metadata": {},
     "output_type": "execute_result"
    }
   ],
   "source": [
    "corpus = []\n",
    "for t in df_pro[\"tweet_clean\"]:\n",
    "    corpus.append(t)\n",
    "corpus"
   ]
  },
  {
   "cell_type": "code",
   "execution_count": 17,
   "id": "offshore-shirt",
   "metadata": {
    "ExecuteTime": {
     "end_time": "2021-05-12T03:16:48.763633Z",
     "start_time": "2021-05-12T03:16:48.760492Z"
    }
   },
   "outputs": [],
   "source": [
    "from sklearn.feature_extraction.text import CountVectorizer\n",
    "\n",
    "cv = CountVectorizer(max_features = 2500)"
   ]
  },
  {
   "cell_type": "code",
   "execution_count": 18,
   "id": "balanced-nicholas",
   "metadata": {
    "ExecuteTime": {
     "end_time": "2021-05-12T03:17:05.909795Z",
     "start_time": "2021-05-12T03:16:48.765563Z"
    }
   },
   "outputs": [
    {
     "name": "stdout",
     "output_type": "stream",
     "text": [
      "(1007749, 2500)\n",
      "(1007749,)\n"
     ]
    }
   ],
   "source": [
    "X = cv.fit_transform(corpus).toarray()\n",
    "y = df_pro[\"label\"].values\n",
    "\n",
    "print(X.shape)\n",
    "print(y.shape)"
   ]
  },
  {
   "cell_type": "code",
   "execution_count": null,
   "id": "korean-surgery",
   "metadata": {},
   "outputs": [],
   "source": []
  },
  {
   "cell_type": "code",
   "execution_count": null,
   "id": "technical-making",
   "metadata": {},
   "outputs": [],
   "source": []
  },
  {
   "cell_type": "code",
   "execution_count": 19,
   "id": "greater-preference",
   "metadata": {
    "ExecuteTime": {
     "end_time": "2021-05-14T15:59:10.799699Z",
     "start_time": "2021-05-12T03:17:05.911657Z"
    }
   },
   "outputs": [
    {
     "name": "stdout",
     "output_type": "stream",
     "text": [
      "====================================================================================================\n",
      "Training 6 models...\n",
      "1. Naive Bayesian\n",
      "2. Decision Tree Classifier\n",
      "3. KNeighbors Classifier\n",
      "4. Random Forest Classifier\n",
      "5. Logistic Regression\n",
      "6. AdaBoost Classifier\n",
      "====================================================================================================\n",
      "2-fold Cross Validation\n",
      "====================================================================================================\n",
      "\n",
      "\n",
      "======================================== 1/6 Naive Bayesian ========================================\n",
      "Training model...\n",
      "\n",
      "accuracy_scores:\n",
      " [0.7480774  0.75121992]\n",
      "f1_scores:\n",
      " [0.58309385 0.58633733]\n",
      "The mean accuracy: 0.750\n",
      "The mean f1 score: 0.585\n",
      "\n",
      "\n",
      "              precision    recall  f1-score   support\n",
      "\n",
      "           0       0.74      0.99      0.85    123866\n",
      "           1       0.95      0.46      0.62     77684\n",
      "\n",
      "    accuracy                           0.78    201550\n",
      "   macro avg       0.85      0.72      0.73    201550\n",
      "weighted avg       0.82      0.78      0.76    201550\n",
      "\n",
      "====================================================================================================\n",
      "\n",
      "\n",
      "=================================== 2/6 Decision Tree Classifier ===================================\n",
      "Training model...\n",
      "\n",
      "accuracy_scores:\n",
      " [0.94239643 0.94215317]\n",
      "f1_scores:\n",
      " [0.85055246 0.84938081]\n",
      "The mean accuracy: 0.942\n",
      "The mean f1 score: 0.850\n",
      "\n",
      "\n",
      "              precision    recall  f1-score   support\n",
      "\n",
      "           0       0.96      0.98      0.97    161233\n",
      "           1       0.90      0.83      0.86     40317\n",
      "\n",
      "    accuracy                           0.95    201550\n",
      "   macro avg       0.93      0.90      0.92    201550\n",
      "weighted avg       0.95      0.95      0.95    201550\n",
      "\n",
      "====================================================================================================\n",
      "\n",
      "\n",
      "===================================== 3/6 KNeighbors Classifier =====================================\n",
      "Training model...\n",
      "\n",
      "accuracy_scores:\n",
      " [0.94486232 0.9455568 ]\n",
      "f1_scores:\n",
      " [0.85132116 0.85372454]\n",
      "The mean accuracy: 0.945\n",
      "The mean f1 score: 0.853\n",
      "\n",
      "\n",
      "              precision    recall  f1-score   support\n",
      "\n",
      "           0       0.97      0.97      0.97    164006\n",
      "           1       0.88      0.87      0.87     37544\n",
      "\n",
      "    accuracy                           0.95    201550\n",
      "   macro avg       0.92      0.92      0.92    201550\n",
      "weighted avg       0.95      0.95      0.95    201550\n",
      "\n",
      "====================================================================================================\n",
      "\n",
      "\n",
      "=================================== 4/6 Random Forest Classifier ===================================\n",
      "Training model...\n",
      "\n",
      "The accuracy: 0.965\n",
      "The f1 score: 0.905\n",
      "\n",
      "\n",
      "              precision    recall  f1-score   support\n",
      "\n",
      "           0       0.98      0.98      0.98    164676\n",
      "           1       0.90      0.91      0.91     36874\n",
      "\n",
      "    accuracy                           0.97    201550\n",
      "   macro avg       0.94      0.94      0.94    201550\n",
      "weighted avg       0.97      0.97      0.97    201550\n",
      "\n",
      "====================================================================================================\n",
      "\n",
      "\n",
      "====================================== 5/6 Logistic Regression ======================================\n",
      "Training model...\n",
      "\n",
      "accuracy_scores:\n",
      " [0.96269164 0.96284039]\n",
      "f1_scores:\n",
      " [0.89540343 0.89595243]\n",
      "The mean accuracy: 0.963\n",
      "The mean f1 score: 0.896\n",
      "\n",
      "\n",
      "              precision    recall  f1-score   support\n",
      "\n",
      "           0       0.99      0.97      0.98    166696\n",
      "           1       0.87      0.93      0.90     34854\n",
      "\n",
      "    accuracy                           0.96    201550\n",
      "   macro avg       0.93      0.95      0.94    201550\n",
      "weighted avg       0.97      0.96      0.96    201550\n",
      "\n",
      "====================================================================================================\n",
      "\n",
      "\n",
      "====================================== 6/6 AdaBoost Classifier ======================================\n",
      "Training model...\n",
      "\n",
      "accuracy_scores:\n",
      " [0.94719176 0.94597357]\n",
      "f1_scores:\n",
      " [0.84960754 0.84584784]\n",
      "The mean accuracy: 0.947\n",
      "The mean f1 score: 0.848\n",
      "\n",
      "\n",
      "              precision    recall  f1-score   support\n",
      "\n",
      "           0       0.98      0.96      0.97    167694\n",
      "           1       0.81      0.89      0.85     33856\n",
      "\n",
      "    accuracy                           0.95    201550\n",
      "   macro avg       0.89      0.92      0.91    201550\n",
      "weighted avg       0.95      0.95      0.95    201550\n",
      "\n",
      "====================================================================================================\n",
      "\n",
      "\n"
     ]
    }
   ],
   "source": [
    "# import model training class from data_scikit_cv\n",
    "from data_scikit_cv import ModelsTraining \n",
    "# label = \"label\"  # column for label\n",
    "# drop_cols = []  # irrelavent columns\n",
    "# df_models = ModelsTraining(df_res, label, drop_cols)# \n",
    "df_models = ModelsTraining(X=X, y=y)"
   ]
  },
  {
   "cell_type": "code",
   "execution_count": 20,
   "id": "rolled-postage",
   "metadata": {
    "ExecuteTime": {
     "end_time": "2021-05-14T15:59:10.900419Z",
     "start_time": "2021-05-14T15:59:10.838780Z"
    }
   },
   "outputs": [],
   "source": [
    "# Split data\n",
    "X = df_models.X\n",
    "y = df_models.y\n",
    "X_test = df_models.X_test\n",
    "y_test = df_models.y_test\n",
    "y_pred_ls = df_models.y_pred_ls\n",
    "model_ls = df_models.model_ls"
   ]
  },
  {
   "cell_type": "markdown",
   "id": "manufactured-oriental",
   "metadata": {},
   "source": [
    "# Result Visualization"
   ]
  },
  {
   "cell_type": "markdown",
   "id": "innovative-enlargement",
   "metadata": {
    "ExecuteTime": {
     "end_time": "2021-02-18T02:55:08.840807Z",
     "start_time": "2021-02-18T02:54:25.665087Z"
    }
   },
   "source": [
    "## Consfusion Matrix for the Classifier "
   ]
  },
  {
   "cell_type": "code",
   "execution_count": 21,
   "id": "artistic-implementation",
   "metadata": {
    "ExecuteTime": {
     "end_time": "2021-05-14T19:29:29.352126Z",
     "start_time": "2021-05-14T15:59:10.905310Z"
    }
   },
   "outputs": [
    {
     "data": {
      "text/plain": [
       "<Figure size 360x360 with 0 Axes>"
      ]
     },
     "metadata": {},
     "output_type": "display_data"
    },
    {
     "data": {
      "image/png": "[encoded data removed]",
      "text/plain": [
       "<Figure size 864x504 with 2 Axes>"
      ]
     },
     "metadata": {},
     "output_type": "display_data"
    },
    {
     "data": {
      "text/plain": [
       "<Figure size 360x360 with 0 Axes>"
      ]
     },
     "metadata": {},
     "output_type": "display_data"
    },
    {
     "data": {
      "image/png": "[encoded data removed]",
      "text/plain": [
       "<Figure size 864x504 with 2 Axes>"
      ]
     },
     "metadata": {},
     "output_type": "display_data"
    },
    {
     "data": {
      "text/plain": [
       "<Figure size 360x360 with 0 Axes>"
      ]
     },
     "metadata": {},
     "output_type": "display_data"
    },
    {
     "data": {
      "image/png": "[encoded data removed]",
      "text/plain": [
       "<Figure size 864x504 with 2 Axes>"
      ]
     },
     "metadata": {},
     "output_type": "display_data"
    },
    {
     "data": {
      "text/plain": [
       "<Figure size 360x360 with 0 Axes>"
      ]
     },
     "metadata": {},
     "output_type": "display_data"
    },
    {
     "data": {
      "image/png": "[encoded data removed]",
      "text/plain": [
       "<Figure size 864x504 with 2 Axes>"
      ]
     },
     "metadata": {},
     "output_type": "display_data"
    },
    {
     "data": {
      "text/plain": [
       "<Figure size 360x360 with 0 Axes>"
      ]
     },
     "metadata": {},
     "output_type": "display_data"
    },
    {
     "data": {
      "image/png": "[encoded data removed]",
      "text/plain": [
       "<Figure size 864x504 with 2 Axes>"
      ]
     },
     "metadata": {},
     "output_type": "display_data"
    },
    {
     "data": {
      "text/plain": [
       "<Figure size 360x360 with 0 Axes>"
      ]
     },
     "metadata": {},
     "output_type": "display_data"
    },
    {
     "data": {
      "image/png": "[encoded data removed]",
      "text/plain": [
       "<Figure size 864x504 with 2 Axes>"
      ]
     },
     "metadata": {},
     "output_type": "display_data"
    }
   ],
   "source": [
    "from sklearn.metrics import plot_confusion_matrix\n",
    "for name, clf in model_ls.items():\n",
    "#     print (\"The Confusion Matrix of: \", name)\n",
    "#     print (pd.DataFrame(confusion_matrix(y_test, y_pred)))\n",
    "    plt.figure(figsize=(5,5))\n",
    "    disp = plot_confusion_matrix(clf, X_test, y_test, cmap=plt.cm.Blues, normalize='true')\n",
    "    disp.ax_.set_title(\"The Confusion Matrix of: %s\" % name)\n",
    "    plt.show()"
   ]
  },
  {
   "cell_type": "code",
   "execution_count": 22,
   "id": "wired-declaration",
   "metadata": {
    "ExecuteTime": {
     "end_time": "2021-05-14T19:29:29.867680Z",
     "start_time": "2021-05-14T19:29:29.421139Z"
    }
   },
   "outputs": [
    {
     "data": {
      "text/html": [
       "<style  type=\"text/css\" >\n",
       "#T_dd60d_row0_col1,#T_dd60d_row0_col2{\n",
       "            background-color:  #f7fbff;\n",
       "            color:  #000000;\n",
       "        }#T_dd60d_row1_col1{\n",
       "            background-color:  #084c95;\n",
       "            color:  #f1f1f1;\n",
       "        }#T_dd60d_row1_col2{\n",
       "            background-color:  #125da6;\n",
       "            color:  #f1f1f1;\n",
       "        }#T_dd60d_row2_col1{\n",
       "            background-color:  #08488e;\n",
       "            color:  #f1f1f1;\n",
       "        }#T_dd60d_row2_col2{\n",
       "            background-color:  #105ba4;\n",
       "            color:  #f1f1f1;\n",
       "        }#T_dd60d_row3_col1,#T_dd60d_row3_col2{\n",
       "            background-color:  #08306b;\n",
       "            color:  #f1f1f1;\n",
       "        }#T_dd60d_row4_col1{\n",
       "            background-color:  #08326e;\n",
       "            color:  #f1f1f1;\n",
       "        }#T_dd60d_row4_col2{\n",
       "            background-color:  #083776;\n",
       "            color:  #f1f1f1;\n",
       "        }#T_dd60d_row5_col1{\n",
       "            background-color:  #08478d;\n",
       "            color:  #f1f1f1;\n",
       "        }#T_dd60d_row5_col2{\n",
       "            background-color:  #125ea6;\n",
       "            color:  #f1f1f1;\n",
       "        }</style><table id=\"T_dd60d_\" ><thead>    <tr>        <th class=\"blank level0\" ></th>        <th class=\"col_heading level0 col0\" >ML Models</th>        <th class=\"col_heading level0 col1\" >Accuracy</th>        <th class=\"col_heading level0 col2\" >F1-score</th>    </tr></thead><tbody>\n",
       "                <tr>\n",
       "                        <th id=\"T_dd60d_level0_row0\" class=\"row_heading level0 row0\" >0</th>\n",
       "                        <td id=\"T_dd60d_row0_col0\" class=\"data row0 col0\" >Naive Bayesian</td>\n",
       "                        <td id=\"T_dd60d_row0_col1\" class=\"data row0 col1\" >0.749649</td>\n",
       "                        <td id=\"T_dd60d_row0_col2\" class=\"data row0 col2\" >0.584716</td>\n",
       "            </tr>\n",
       "            <tr>\n",
       "                        <th id=\"T_dd60d_level0_row1\" class=\"row_heading level0 row1\" >1</th>\n",
       "                        <td id=\"T_dd60d_row1_col0\" class=\"data row1 col0\" >Decision Tree Classifier</td>\n",
       "                        <td id=\"T_dd60d_row1_col1\" class=\"data row1 col1\" >0.942275</td>\n",
       "                        <td id=\"T_dd60d_row1_col2\" class=\"data row1 col2\" >0.849967</td>\n",
       "            </tr>\n",
       "            <tr>\n",
       "                        <th id=\"T_dd60d_level0_row2\" class=\"row_heading level0 row2\" >2</th>\n",
       "                        <td id=\"T_dd60d_row2_col0\" class=\"data row2 col0\" >KNeighbors Classifier</td>\n",
       "                        <td id=\"T_dd60d_row2_col1\" class=\"data row2 col1\" >0.945210</td>\n",
       "                        <td id=\"T_dd60d_row2_col2\" class=\"data row2 col2\" >0.852523</td>\n",
       "            </tr>\n",
       "            <tr>\n",
       "                        <th id=\"T_dd60d_level0_row3\" class=\"row_heading level0 row3\" >3</th>\n",
       "                        <td id=\"T_dd60d_row3_col0\" class=\"data row3 col0\" >Random Forest Classifier</td>\n",
       "                        <td id=\"T_dd60d_row3_col1\" class=\"data row3 col1\" >0.965165</td>\n",
       "                        <td id=\"T_dd60d_row3_col2\" class=\"data row3 col2\" >0.905223</td>\n",
       "            </tr>\n",
       "            <tr>\n",
       "                        <th id=\"T_dd60d_level0_row4\" class=\"row_heading level0 row4\" >4</th>\n",
       "                        <td id=\"T_dd60d_row4_col0\" class=\"data row4 col0\" >Logistic Regression</td>\n",
       "                        <td id=\"T_dd60d_row4_col1\" class=\"data row4 col1\" >0.962766</td>\n",
       "                        <td id=\"T_dd60d_row4_col2\" class=\"data row4 col2\" >0.895678</td>\n",
       "            </tr>\n",
       "            <tr>\n",
       "                        <th id=\"T_dd60d_level0_row5\" class=\"row_heading level0 row5\" >5</th>\n",
       "                        <td id=\"T_dd60d_row5_col0\" class=\"data row5 col0\" >AdaBoost Classifier</td>\n",
       "                        <td id=\"T_dd60d_row5_col1\" class=\"data row5 col1\" >0.946583</td>\n",
       "                        <td id=\"T_dd60d_row5_col2\" class=\"data row5 col2\" >0.847728</td>\n",
       "            </tr>\n",
       "    </tbody></table>"
      ],
      "text/plain": [
       "<pandas.io.formats.style.Styler at 0x148d66a60>"
      ]
     },
     "execution_count": 22,
     "metadata": {},
     "output_type": "execute_result"
    }
   ],
   "source": [
    "# df_models.confusion_matrix_visualization()\n",
    "accuracy_f1 = df_models.accuracy_f1()\n",
    "accuracy_f1.style.background_gradient(cmap='Blues')"
   ]
  },
  {
   "cell_type": "markdown",
   "id": "built-maintenance",
   "metadata": {},
   "source": [
    "## ROC Curve"
   ]
  },
  {
   "cell_type": "code",
   "execution_count": 23,
   "id": "norwegian-clarity",
   "metadata": {
    "ExecuteTime": {
     "end_time": "2021-05-14T19:29:29.874776Z",
     "start_time": "2021-05-14T19:29:29.869337Z"
    }
   },
   "outputs": [],
   "source": [
    "# df_models.accuracy_f1()"
   ]
  },
  {
   "cell_type": "code",
   "execution_count": 24,
   "id": "patient-ladder",
   "metadata": {
    "ExecuteTime": {
     "end_time": "2021-05-14T19:29:30.219191Z",
     "start_time": "2021-05-14T19:29:29.876152Z"
    }
   },
   "outputs": [
    {
     "data": {
      "image/png": "[encoded data removed]",
      "text/plain": [
       "<Figure size 720x576 with 1 Axes>"
      ]
     },
     "metadata": {},
     "output_type": "display_data"
    }
   ],
   "source": [
    "# ROC Curve for the classification models\n",
    "\n",
    "from sklearn.metrics import roc_auc_score, roc_curve, auc\n",
    "import matplotlib.cm as cm\n",
    "import matplotlib.pyplot as plt\n",
    "from sklearn.preprocessing import label_binarize\n",
    "from numpy import interp\n",
    "\n",
    "# Setting the parameters for the ROC Curve\n",
    "plt.rcParams['figure.figsize'] = [10,8]\n",
    "plt.style.use(\"bmh\")\n",
    "color = cm.rainbow(np.linspace(0, 1, len(model_ls)))\n",
    "plt.title(\"ROC Curve\", fontsize = 15)\n",
    "plt.xlabel(\"Specificity (False Positive Rate)\", fontsize = 15)\n",
    "plt.ylabel(\"Sensitivity (True Positive Rate)\", fontsize = 15)\n",
    "labels = list()\n",
    "l_roc_auc = {}\n",
    "\n",
    "# Plot ROC Curve\n",
    "for c, (name, y_pred) in enumerate(y_pred_ls.items()):\n",
    "    \n",
    "    fpr, tpr, _ = roc_curve(y_test, y_pred)\n",
    "    roc_auc = auc(fpr, tpr)\n",
    "    l_roc_auc[name] = roc_auc\n",
    "    plt.plot(fpr, tpr, color=color[c])\n",
    "    labels.append('{} (AUC={:.3f})'.format(name, roc_auc))\n",
    "  \n",
    "plt.gca().legend(labels, loc='lower right', frameon=True)    \n",
    "plt.plot([0,1],[0,1], linestyle='--', color='black')\n",
    "plt.show()"
   ]
  },
  {
   "cell_type": "code",
   "execution_count": 25,
   "id": "furnished-preliminary",
   "metadata": {
    "ExecuteTime": {
     "end_time": "2021-05-14T19:29:30.223619Z",
     "start_time": "2021-05-14T19:29:30.220636Z"
    }
   },
   "outputs": [
    {
     "data": {
      "text/plain": [
       "{'Naive Bayesian': 0.8480214569711355,\n",
       " 'Decision Tree Classifier': 0.9287926596279343,\n",
       " 'KNeighbors Classifier': 0.9245879202927746,\n",
       " 'Random Forest Classifier': 0.9404212755993094,\n",
       " 'Logistic Regression': 0.9282889733411227,\n",
       " 'AdaBoost Classifier': 0.8941431532730578}"
      ]
     },
     "execution_count": 25,
     "metadata": {},
     "output_type": "execute_result"
    }
   ],
   "source": [
    "l_roc_auc"
   ]
  },
  {
   "cell_type": "code",
   "execution_count": 26,
   "id": "structured-catering",
   "metadata": {
    "ExecuteTime": {
     "end_time": "2021-05-14T19:29:30.238403Z",
     "start_time": "2021-05-14T19:29:30.224690Z"
    }
   },
   "outputs": [
    {
     "data": {
      "text/html": [
       "<style  type=\"text/css\" >\n",
       "#T_9779f_row0_col1,#T_9779f_row0_col2,#T_9779f_row0_col3{\n",
       "            background-color:  #f7fbff;\n",
       "            color:  #000000;\n",
       "        }#T_9779f_row1_col1{\n",
       "            background-color:  #084c95;\n",
       "            color:  #f1f1f1;\n",
       "        }#T_9779f_row1_col2{\n",
       "            background-color:  #125da6;\n",
       "            color:  #f1f1f1;\n",
       "        }#T_9779f_row1_col3{\n",
       "            background-color:  #08519c;\n",
       "            color:  #f1f1f1;\n",
       "        }#T_9779f_row2_col1{\n",
       "            background-color:  #08488e;\n",
       "            color:  #f1f1f1;\n",
       "        }#T_9779f_row2_col2{\n",
       "            background-color:  #105ba4;\n",
       "            color:  #f1f1f1;\n",
       "        }#T_9779f_row2_col3{\n",
       "            background-color:  #115ca5;\n",
       "            color:  #f1f1f1;\n",
       "        }#T_9779f_row3_col1,#T_9779f_row3_col2,#T_9779f_row3_col3{\n",
       "            background-color:  #08306b;\n",
       "            color:  #f1f1f1;\n",
       "        }#T_9779f_row4_col1{\n",
       "            background-color:  #08326e;\n",
       "            color:  #f1f1f1;\n",
       "        }#T_9779f_row4_col2{\n",
       "            background-color:  #083776;\n",
       "            color:  #f1f1f1;\n",
       "        }#T_9779f_row4_col3{\n",
       "            background-color:  #09529d;\n",
       "            color:  #f1f1f1;\n",
       "        }#T_9779f_row5_col1{\n",
       "            background-color:  #08478d;\n",
       "            color:  #f1f1f1;\n",
       "        }#T_9779f_row5_col2{\n",
       "            background-color:  #125ea6;\n",
       "            color:  #f1f1f1;\n",
       "        }#T_9779f_row5_col3{\n",
       "            background-color:  #6caed6;\n",
       "            color:  #000000;\n",
       "        }</style><table id=\"T_9779f_\" ><thead>    <tr>        <th class=\"blank level0\" ></th>        <th class=\"col_heading level0 col0\" >ML Models</th>        <th class=\"col_heading level0 col1\" >Accuracy</th>        <th class=\"col_heading level0 col2\" >F1-score</th>        <th class=\"col_heading level0 col3\" >ROC</th>    </tr></thead><tbody>\n",
       "                <tr>\n",
       "                        <th id=\"T_9779f_level0_row0\" class=\"row_heading level0 row0\" >0</th>\n",
       "                        <td id=\"T_9779f_row0_col0\" class=\"data row0 col0\" >Naive Bayesian</td>\n",
       "                        <td id=\"T_9779f_row0_col1\" class=\"data row0 col1\" >0.749649</td>\n",
       "                        <td id=\"T_9779f_row0_col2\" class=\"data row0 col2\" >0.584716</td>\n",
       "                        <td id=\"T_9779f_row0_col3\" class=\"data row0 col3\" >0.848021</td>\n",
       "            </tr>\n",
       "            <tr>\n",
       "                        <th id=\"T_9779f_level0_row1\" class=\"row_heading level0 row1\" >1</th>\n",
       "                        <td id=\"T_9779f_row1_col0\" class=\"data row1 col0\" >Decision Tree Classifier</td>\n",
       "                        <td id=\"T_9779f_row1_col1\" class=\"data row1 col1\" >0.942275</td>\n",
       "                        <td id=\"T_9779f_row1_col2\" class=\"data row1 col2\" >0.849967</td>\n",
       "                        <td id=\"T_9779f_row1_col3\" class=\"data row1 col3\" >0.928793</td>\n",
       "            </tr>\n",
       "            <tr>\n",
       "                        <th id=\"T_9779f_level0_row2\" class=\"row_heading level0 row2\" >2</th>\n",
       "                        <td id=\"T_9779f_row2_col0\" class=\"data row2 col0\" >KNeighbors Classifier</td>\n",
       "                        <td id=\"T_9779f_row2_col1\" class=\"data row2 col1\" >0.945210</td>\n",
       "                        <td id=\"T_9779f_row2_col2\" class=\"data row2 col2\" >0.852523</td>\n",
       "                        <td id=\"T_9779f_row2_col3\" class=\"data row2 col3\" >0.924588</td>\n",
       "            </tr>\n",
       "            <tr>\n",
       "                        <th id=\"T_9779f_level0_row3\" class=\"row_heading level0 row3\" >3</th>\n",
       "                        <td id=\"T_9779f_row3_col0\" class=\"data row3 col0\" >Random Forest Classifier</td>\n",
       "                        <td id=\"T_9779f_row3_col1\" class=\"data row3 col1\" >0.965165</td>\n",
       "                        <td id=\"T_9779f_row3_col2\" class=\"data row3 col2\" >0.905223</td>\n",
       "                        <td id=\"T_9779f_row3_col3\" class=\"data row3 col3\" >0.940421</td>\n",
       "            </tr>\n",
       "            <tr>\n",
       "                        <th id=\"T_9779f_level0_row4\" class=\"row_heading level0 row4\" >4</th>\n",
       "                        <td id=\"T_9779f_row4_col0\" class=\"data row4 col0\" >Logistic Regression</td>\n",
       "                        <td id=\"T_9779f_row4_col1\" class=\"data row4 col1\" >0.962766</td>\n",
       "                        <td id=\"T_9779f_row4_col2\" class=\"data row4 col2\" >0.895678</td>\n",
       "                        <td id=\"T_9779f_row4_col3\" class=\"data row4 col3\" >0.928289</td>\n",
       "            </tr>\n",
       "            <tr>\n",
       "                        <th id=\"T_9779f_level0_row5\" class=\"row_heading level0 row5\" >5</th>\n",
       "                        <td id=\"T_9779f_row5_col0\" class=\"data row5 col0\" >AdaBoost Classifier</td>\n",
       "                        <td id=\"T_9779f_row5_col1\" class=\"data row5 col1\" >0.946583</td>\n",
       "                        <td id=\"T_9779f_row5_col2\" class=\"data row5 col2\" >0.847728</td>\n",
       "                        <td id=\"T_9779f_row5_col3\" class=\"data row5 col3\" >0.894143</td>\n",
       "            </tr>\n",
       "    </tbody></table>"
      ],
      "text/plain": [
       "<pandas.io.formats.style.Styler at 0x14cb70760>"
      ]
     },
     "execution_count": 26,
     "metadata": {},
     "output_type": "execute_result"
    }
   ],
   "source": [
    "# df_models.confusion_matrix_visualization()\n",
    "accuracy_f1[\"ROC\"] = l_roc_auc.values()\n",
    "accuracy_f1.style.background_gradient(cmap='Blues')"
   ]
  },
  {
   "cell_type": "code",
   "execution_count": null,
   "id": "original-certificate",
   "metadata": {},
   "outputs": [],
   "source": []
  },
  {
   "cell_type": "markdown",
   "id": "universal-concentration",
   "metadata": {},
   "source": [
    "## Learning Curve"
   ]
  },
  {
   "cell_type": "code",
   "execution_count": 27,
   "id": "floppy-civilian",
   "metadata": {
    "ExecuteTime": {
     "end_time": "2021-05-14T19:29:30.242431Z",
     "start_time": "2021-05-14T19:29:30.240044Z"
    }
   },
   "outputs": [],
   "source": [
    "# import numpy as np\n",
    "# import matplotlib.pyplot as plt\n",
    "# from sklearn.model_selection import cross_validate\n",
    "# from sklearn.model_selection import learning_curve\n",
    "# from sklearn.model_selection import cross_val_score\n",
    "# from sklearn.model_selection import train_test_split\n",
    "# from sklearn.model_selection import ShuffleSplit\n",
    "\n",
    "# def plot_learning_curve(estimator, title, X, y, ylim=None, cv=None,\n",
    "#                         n_jobs=1, train_sizes=np.linspace(.1, 1.0, 5)):\n",
    "#     plt.figure()\n",
    "#     plt.title(title)\n",
    "#     if ylim is not None:\n",
    "#         plt.ylim(*ylim)\n",
    "#     plt.xlabel(\"Training examples\")\n",
    "#     plt.ylabel(\"Score\")\n",
    "#     train_sizes, train_scores, test_scores = learning_curve(\n",
    "#         estimator, X, y, cv=cv, n_jobs=n_jobs, train_sizes=train_sizes)\n",
    "#     train_scores_mean = np.mean(train_scores, axis=1)\n",
    "#     train_scores_std = np.std(train_scores, axis=1)\n",
    "#     test_scores_mean = np.mean(test_scores, axis=1)\n",
    "#     test_scores_std = np.std(test_scores, axis=1)\n",
    "#     plt.grid()\n",
    "\n",
    "#     plt.fill_between(train_sizes, train_scores_mean - train_scores_std,\n",
    "#                      train_scores_mean + train_scores_std, alpha=0.1,\n",
    "#                      color=\"r\")\n",
    "#     plt.fill_between(train_sizes, test_scores_mean - test_scores_std,\n",
    "#                      test_scores_mean + test_scores_std, alpha=0.1, color=\"g\")\n",
    "#     plt.plot(train_sizes, train_scores_mean, 'o-', color=\"r\",\n",
    "#              label=\"Training score\")\n",
    "#     plt.plot(train_sizes, test_scores_mean, 'o-', color=\"g\",\n",
    "#              label=\"Cross-validation score\")\n",
    "\n",
    "#     plt.legend(loc=\"best\")\n",
    "#     return plt\n",
    "\n",
    "\n",
    "# for name, model in model_ls.items():\n",
    "#     title = \"Learning Curves for \" + name\n",
    "#     cv=None\n",
    "# #     cv = ShuffleSplit(n_splits=100, test_size=0.2, random_state=0)\n",
    "#     plot_learning_curve(model, title, X, y, ylim=(0.2, 1.01), n_jobs=4)\n",
    "#     plt.show()"
   ]
  },
  {
   "cell_type": "code",
   "execution_count": null,
   "id": "handled-injection",
   "metadata": {},
   "outputs": [],
   "source": []
  },
  {
   "cell_type": "code",
   "execution_count": null,
   "id": "higher-growing",
   "metadata": {},
   "outputs": [],
   "source": []
  },
  {
   "cell_type": "code",
   "execution_count": null,
   "id": "renewable-lesbian",
   "metadata": {},
   "outputs": [],
   "source": []
  },
  {
   "cell_type": "code",
   "execution_count": null,
   "id": "promotional-machinery",
   "metadata": {},
   "outputs": [],
   "source": []
  },
  {
   "cell_type": "code",
   "execution_count": null,
   "id": "horizontal-northwest",
   "metadata": {},
   "outputs": [],
   "source": []
  },
  {
   "cell_type": "code",
   "execution_count": null,
   "id": "palestinian-machinery",
   "metadata": {},
   "outputs": [],
   "source": []
  }
 ],
 "metadata": {
  "kernelspec": {
   "display_name": "Python 3",
   "language": "python",
   "name": "python3"
  },
  "language_info": {
   "codemirror_mode": {
    "name": "ipython",
    "version": 3
   },
   "file_extension": ".py",
   "mimetype": "text/x-python",
   "name": "python",
   "nbconvert_exporter": "python",
   "pygments_lexer": "ipython3",
   "version": "3.8.2"
  },
  "toc": {
   "base_numbering": 1,
   "nav_menu": {},
   "number_sections": true,
   "sideBar": true,
   "skip_h1_title": false,
   "title_cell": "Table of Contents",
   "title_sidebar": "Contents",
   "toc_cell": false,
   "toc_position": {},
   "toc_section_display": true,
   "toc_window_display": true
  }
 },
 "nbformat": 4,
 "nbformat_minor": 5
}
